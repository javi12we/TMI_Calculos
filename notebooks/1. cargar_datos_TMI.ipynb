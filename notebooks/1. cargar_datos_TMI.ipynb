{
 "cells": [
  {
   "cell_type": "code",
   "execution_count": 1,
   "metadata": {},
   "outputs": [],
   "source": [
    "# carga la extensión autoreload\n",
    "%load_ext autoreload\n",
    "\n",
    "# establece el nivel de autorecarga en 2\n",
    "%autoreload 2\n",
    "\n",
    "import sys\n",
    "sys.path.append('../')"
   ]
  },
  {
   "cell_type": "code",
   "execution_count": 2,
   "metadata": {},
   "outputs": [],
   "source": [
    "import pandas as pd\n",
    "from db.client import MongoDBConnection"
   ]
  },
  {
   "cell_type": "markdown",
   "metadata": {},
   "source": [
    "### CONEXIÓN A LA BASE DE DATOS"
   ]
  },
  {
   "cell_type": "code",
   "execution_count": 3,
   "metadata": {},
   "outputs": [],
   "source": [
    "mongo_connection = MongoDBConnection()\n",
    "db = mongo_connection.get_database()"
   ]
  },
  {
   "cell_type": "code",
   "execution_count": 5,
   "metadata": {},
   "outputs": [],
   "source": [
    "N = db['n']\n",
    "TMI_VALORES_MENSUALES = db['tmi_valores_mensuales']"
   ]
  },
  {
   "cell_type": "markdown",
   "metadata": {},
   "source": [
    "### CARGAR DATOS: N"
   ]
  },
  {
   "cell_type": "code",
   "execution_count": 28,
   "metadata": {},
   "outputs": [],
   "source": [
    "df_n = pd.read_excel(r'datos\\2408 ECUACIONES TMI.xlsx', sheet_name='N_ajustado')\n",
    "df_n.columns = df_n.columns.str.lower()"
   ]
  },
  {
   "cell_type": "code",
   "execution_count": 29,
   "metadata": {},
   "outputs": [],
   "source": [
    "df_n['orientacion'] = df_n['orientacion'].str.lower()"
   ]
  },
  {
   "cell_type": "code",
   "execution_count": 30,
   "metadata": {},
   "outputs": [],
   "source": [
    "n_dict = df_n.to_dict('records')"
   ]
  },
  {
   "cell_type": "code",
   "execution_count": 31,
   "metadata": {},
   "outputs": [
    {
     "data": {
      "text/plain": [
       "<pymongo.results.InsertManyResult at 0x1d0d0dc79d0>"
      ]
     },
     "execution_count": 31,
     "metadata": {},
     "output_type": "execute_result"
    }
   ],
   "source": [
    "N.drop()\n",
    "N.insert_many(n_dict)"
   ]
  },
  {
   "cell_type": "markdown",
   "metadata": {},
   "source": [
    "### CARGAR DATOS: VALORES MENSUALES TMI"
   ]
  },
  {
   "cell_type": "code",
   "execution_count": 6,
   "metadata": {},
   "outputs": [],
   "source": [
    "data = {\n",
    "    \"mes\": [\n",
    "        \"enero\",\n",
    "        \"febrero\",\n",
    "        \"marzo\",\n",
    "        \"abril\",\n",
    "        \"mayo\",\n",
    "        \"junio\",\n",
    "        \"julio\",\n",
    "        \"agosto\",\n",
    "        \"septiembre\",\n",
    "        \"octubre\",\n",
    "        \"noviembre\",\n",
    "        \"diciembre\",\n",
    "    ],\n",
    "    \"temperatura\": [\n",
    "        18.49,\n",
    "        18.35,\n",
    "        18.51,\n",
    "        18.55,\n",
    "        18.58,\n",
    "        18.73,\n",
    "        18.92,\n",
    "        19.42,\n",
    "        19.21,\n",
    "        18.23,\n",
    "        18.07,\n",
    "        17.95,\n",
    "    ],\n",
    "    \"precipitacion\": [\n",
    "        192.15,\n",
    "        156.41,\n",
    "        168.63,\n",
    "        178.27,\n",
    "        169.66,\n",
    "        64.58,\n",
    "        56.99,\n",
    "        46.95,\n",
    "        60.26,\n",
    "        208.7,\n",
    "        339.42,\n",
    "        280.48,\n",
    "    ],\n",
    "    \"d\": [\n",
    "        31,\n",
    "        28,\n",
    "        31,\n",
    "        30,\n",
    "        31,\n",
    "        30,\n",
    "        31,\n",
    "        31,\n",
    "        30,\n",
    "        31,\n",
    "        30,\n",
    "        31\n",
    "    ]\n",
    "}\n",
    "\n",
    "df_valores_mensuales = pd.DataFrame(data)"
   ]
  },
  {
   "cell_type": "code",
   "execution_count": 9,
   "metadata": {},
   "outputs": [
    {
     "data": {
      "text/plain": [
       "<pymongo.results.InsertManyResult at 0x2386217d9c0>"
      ]
     },
     "execution_count": 9,
     "metadata": {},
     "output_type": "execute_result"
    }
   ],
   "source": [
    "TMI_VALORES_MENSUALES.drop()\n",
    "TMI_VALORES_MENSUALES.insert_many(df_valores_mensuales.to_dict('records'))"
   ]
  }
 ],
 "metadata": {
  "kernelspec": {
   "display_name": "Python 3",
   "language": "python",
   "name": "python3"
  },
  "language_info": {
   "codemirror_mode": {
    "name": "ipython",
    "version": 3
   },
   "file_extension": ".py",
   "mimetype": "text/x-python",
   "name": "python",
   "nbconvert_exporter": "python",
   "pygments_lexer": "ipython3",
   "version": "3.10.9"
  }
 },
 "nbformat": 4,
 "nbformat_minor": 2
}
