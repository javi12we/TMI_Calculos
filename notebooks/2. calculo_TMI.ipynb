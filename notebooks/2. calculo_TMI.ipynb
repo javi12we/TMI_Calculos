{
 "cells": [
  {
   "cell_type": "code",
   "execution_count": 34,
   "metadata": {},
   "outputs": [
    {
     "name": "stdout",
     "output_type": "stream",
     "text": [
      "The autoreload extension is already loaded. To reload it, use:\n",
      "  %reload_ext autoreload\n"
     ]
    }
   ],
   "source": [
    "# carga la extensión autoreload\n",
    "%load_ext autoreload\n",
    "\n",
    "# establece el nivel de autorecarga en 2\n",
    "%autoreload 2\n",
    "\n",
    "import sys\n",
    "sys.path.append('../')"
   ]
  },
  {
   "cell_type": "code",
   "execution_count": 35,
   "metadata": {},
   "outputs": [],
   "source": [
    "import pandas as pd\n",
    "from db.client import MongoDBConnection"
   ]
  },
  {
   "cell_type": "markdown",
   "metadata": {},
   "source": [
    "### CONEXIÓN A LA BASE DE DATOS"
   ]
  },
  {
   "cell_type": "code",
   "execution_count": 36,
   "metadata": {},
   "outputs": [],
   "source": [
    "mongo_connection = MongoDBConnection()\n",
    "db = mongo_connection.get_database()"
   ]
  },
  {
   "cell_type": "markdown",
   "metadata": {},
   "source": [
    "# CALCULO TMI"
   ]
  },
  {
   "cell_type": "code",
   "execution_count": 37,
   "metadata": {},
   "outputs": [],
   "source": [
    "df = pd.DataFrame(list(db['tmi_valores_mensuales'].find({}, {'_id': 0})))\n",
    "datos_n = pd.DataFrame(list(db['n'].find({}, {'_id': 0})))"
   ]
  },
  {
   "cell_type": "code",
   "execution_count": 38,
   "metadata": {},
   "outputs": [],
   "source": [
    "from services.calculos_tmi import calcular_indices"
   ]
  },
  {
   "cell_type": "code",
   "execution_count": 64,
   "metadata": {},
   "outputs": [
    {
     "name": "stdout",
     "output_type": "stream",
     "text": [
      "LATITUD: 2.5\n"
     ]
    },
    {
     "data": {
      "text/plain": [
       "(           mes  temperatura  precipitacion   d         i      ETPsc     N  \\\n",
       " 0        enero        18.49         192.15  31  7.242723  67.362541  11.9   \n",
       " 1      febrero        18.35         156.41  28  7.159858  66.384493  11.9   \n",
       " 2        marzo        18.51         168.63  31  7.254588  67.502823  12.0   \n",
       " 3        abril        18.55         178.27  30  7.278336  67.783807  12.1   \n",
       " 4         mayo        18.58         169.66  31  7.296165  67.994913  12.1   \n",
       " 5        junio        18.73          64.58  30  7.385529  69.055172  12.1   \n",
       " 6        julio        18.92          56.99  31  7.499253  70.409475  12.1   \n",
       " 7       agosto        19.42          46.95  31  7.801332  74.033754  12.1   \n",
       " 8   septiembre        19.21          60.26  30  7.673966  72.500915  12.0   \n",
       " 9      octubre        18.23         208.70  31  7.089089  65.551637  11.9   \n",
       " 10   noviembre        18.07         339.42  30  6.995102  64.449021  11.9   \n",
       " 11   diciembre        17.95         280.48  31  6.924892  63.627956  11.9   \n",
       " \n",
       "        ETPcrr  balance_integridad_asfalto          Ai         EXC  DEF  \n",
       " 0   69.027893                  223.122107  100.000000  123.122107    0  \n",
       " 1   61.442537                  194.967463  100.000000   94.967463    0  \n",
       " 2   69.752917                  198.877083  100.000000   98.877083    0  \n",
       " 3   68.348672                  209.921328  100.000000  109.921328    0  \n",
       " 4   70.846922                  198.813078  100.000000   98.813078    0  \n",
       " 5   69.630632                   94.949368   94.949368    0.000000    0  \n",
       " 6   73.362762                   78.576606   78.576606    0.000000    0  \n",
       " 7   77.139059                   48.387548   48.387548    0.000000    0  \n",
       " 8   72.500915                   36.146633   36.146633    0.000000    0  \n",
       " 9   67.172219                  177.674414  100.000000   77.674414    0  \n",
       " 10  63.911946                  375.508054  100.000000  275.508054    0  \n",
       " 11  65.200981                  315.279019  100.000000  215.279019    0  ,\n",
       " {'Índice de humedad (Ih)': 132.0914011135646,\n",
       "  'Índice de aridez (Ia)': 0.0,\n",
       "  'Índice de Thornthwaite (Im)': 132.0914011135646,\n",
       "  'Índice de Thornthwaite 1955': 132.0914011135646,\n",
       "  'Índice de Thornthwaite, Witzack': 109.06855083517344,\n",
       "  'Clasificación climática': 'A: Excesivamente húmedo'})"
      ]
     },
     "execution_count": 64,
     "metadata": {},
     "output_type": "execute_result"
    }
   ],
   "source": [
    "calcular_indices(datos_base=df, datos_n=datos_n, grados=2, minutos=26, segundos=0, orientacion='norte', amax=100)"
   ]
  },
  {
   "cell_type": "code",
   "execution_count": 40,
   "metadata": {},
   "outputs": [
    {
     "data": {
      "text/plain": [
       "1922.5000000000002"
      ]
     },
     "execution_count": 40,
     "metadata": {},
     "output_type": "execute_result"
    }
   ],
   "source": [
    "P"
   ]
  },
  {
   "cell_type": "code",
   "execution_count": 41,
   "metadata": {},
   "outputs": [
    {
     "data": {
      "text/html": [
       "<div>\n",
       "<style scoped>\n",
       "    .dataframe tbody tr th:only-of-type {\n",
       "        vertical-align: middle;\n",
       "    }\n",
       "\n",
       "    .dataframe tbody tr th {\n",
       "        vertical-align: top;\n",
       "    }\n",
       "\n",
       "    .dataframe thead th {\n",
       "        text-align: right;\n",
       "    }\n",
       "</style>\n",
       "<table border=\"1\" class=\"dataframe\">\n",
       "  <thead>\n",
       "    <tr style=\"text-align: right;\">\n",
       "      <th></th>\n",
       "      <th>mes</th>\n",
       "      <th>temperatura</th>\n",
       "      <th>precipitacion</th>\n",
       "      <th>d</th>\n",
       "    </tr>\n",
       "  </thead>\n",
       "  <tbody>\n",
       "    <tr>\n",
       "      <th>0</th>\n",
       "      <td>enero</td>\n",
       "      <td>18.49</td>\n",
       "      <td>192.15</td>\n",
       "      <td>31</td>\n",
       "    </tr>\n",
       "    <tr>\n",
       "      <th>1</th>\n",
       "      <td>febrero</td>\n",
       "      <td>18.35</td>\n",
       "      <td>156.41</td>\n",
       "      <td>28</td>\n",
       "    </tr>\n",
       "    <tr>\n",
       "      <th>2</th>\n",
       "      <td>marzo</td>\n",
       "      <td>18.51</td>\n",
       "      <td>168.63</td>\n",
       "      <td>31</td>\n",
       "    </tr>\n",
       "    <tr>\n",
       "      <th>3</th>\n",
       "      <td>abril</td>\n",
       "      <td>18.55</td>\n",
       "      <td>178.27</td>\n",
       "      <td>30</td>\n",
       "    </tr>\n",
       "    <tr>\n",
       "      <th>4</th>\n",
       "      <td>mayo</td>\n",
       "      <td>18.58</td>\n",
       "      <td>169.66</td>\n",
       "      <td>31</td>\n",
       "    </tr>\n",
       "    <tr>\n",
       "      <th>5</th>\n",
       "      <td>junio</td>\n",
       "      <td>18.73</td>\n",
       "      <td>64.58</td>\n",
       "      <td>30</td>\n",
       "    </tr>\n",
       "    <tr>\n",
       "      <th>6</th>\n",
       "      <td>julio</td>\n",
       "      <td>18.92</td>\n",
       "      <td>56.99</td>\n",
       "      <td>31</td>\n",
       "    </tr>\n",
       "    <tr>\n",
       "      <th>7</th>\n",
       "      <td>agosto</td>\n",
       "      <td>19.42</td>\n",
       "      <td>46.95</td>\n",
       "      <td>31</td>\n",
       "    </tr>\n",
       "    <tr>\n",
       "      <th>8</th>\n",
       "      <td>septiembre</td>\n",
       "      <td>19.21</td>\n",
       "      <td>60.26</td>\n",
       "      <td>30</td>\n",
       "    </tr>\n",
       "    <tr>\n",
       "      <th>9</th>\n",
       "      <td>octubre</td>\n",
       "      <td>18.23</td>\n",
       "      <td>208.70</td>\n",
       "      <td>31</td>\n",
       "    </tr>\n",
       "    <tr>\n",
       "      <th>10</th>\n",
       "      <td>noviembre</td>\n",
       "      <td>18.07</td>\n",
       "      <td>339.42</td>\n",
       "      <td>30</td>\n",
       "    </tr>\n",
       "    <tr>\n",
       "      <th>11</th>\n",
       "      <td>diciembre</td>\n",
       "      <td>17.95</td>\n",
       "      <td>280.48</td>\n",
       "      <td>31</td>\n",
       "    </tr>\n",
       "  </tbody>\n",
       "</table>\n",
       "</div>"
      ],
      "text/plain": [
       "           mes  temperatura  precipitacion   d\n",
       "0        enero        18.49         192.15  31\n",
       "1      febrero        18.35         156.41  28\n",
       "2        marzo        18.51         168.63  31\n",
       "3        abril        18.55         178.27  30\n",
       "4         mayo        18.58         169.66  31\n",
       "5        junio        18.73          64.58  30\n",
       "6        julio        18.92          56.99  31\n",
       "7       agosto        19.42          46.95  31\n",
       "8   septiembre        19.21          60.26  30\n",
       "9      octubre        18.23         208.70  31\n",
       "10   noviembre        18.07         339.42  30\n",
       "11   diciembre        17.95         280.48  31"
      ]
     },
     "execution_count": 41,
     "metadata": {},
     "output_type": "execute_result"
    }
   ],
   "source": [
    "df"
   ]
  },
  {
   "cell_type": "code",
   "execution_count": 42,
   "metadata": {},
   "outputs": [],
   "source": [
    "# Datos\n",
    "grados = 2\n",
    "minutos = 26\n",
    "segundos = 0\n",
    "\n",
    "latitud_decimal_corrected = grados + minutos / 60 + segundos / 3600\n",
    "LATITUD = round(latitud_decimal_corrected * 2) / 2 # F7\n",
    "ORIENTACION = 'norte' # E7\n",
    "AMAX = 100 # J8"
   ]
  },
  {
   "cell_type": "code",
   "execution_count": 43,
   "metadata": {},
   "outputs": [],
   "source": [
    "df['i'] = (df['temperatura']/5) ** 1.514"
   ]
  },
  {
   "cell_type": "code",
   "execution_count": 44,
   "metadata": {},
   "outputs": [],
   "source": [
    "P = df['precipitacion'].sum()\n",
    "I = df['i'].sum()\n",
    "a = (0.000000675 * I**3) - (0.0000771 * I**2) + (0.01792 * I) + 0.49239"
   ]
  },
  {
   "cell_type": "code",
   "execution_count": 45,
   "metadata": {},
   "outputs": [],
   "source": [
    "df['ETPsc'] = 16 * (10 * df['temperatura'] / I) ** a"
   ]
  },
  {
   "cell_type": "code",
   "execution_count": 46,
   "metadata": {},
   "outputs": [],
   "source": [
    "# Consultar los datos N (dias con sol por mes)\n",
    "datos_n = pd.DataFrame(list(db['n'].find({}, {'_id': 0})))"
   ]
  },
  {
   "cell_type": "code",
   "execution_count": 47,
   "metadata": {},
   "outputs": [],
   "source": [
    "datos_n_select = datos_n[(datos_n['orientacion']==ORIENTACION)&(datos_n['latitud']==LATITUD)]"
   ]
  },
  {
   "cell_type": "code",
   "execution_count": 48,
   "metadata": {},
   "outputs": [],
   "source": [
    "df['N'] = datos_n_select[df['mes'].to_list()].values[0] "
   ]
  },
  {
   "cell_type": "code",
   "execution_count": 49,
   "metadata": {},
   "outputs": [],
   "source": [
    "df['ETPcrr'] = df['ETPsc']*df['N']/12*df['d']/30"
   ]
  },
  {
   "cell_type": "code",
   "execution_count": 50,
   "metadata": {},
   "outputs": [],
   "source": [
    "ETP = df['ETPcrr'].sum()"
   ]
  },
  {
   "cell_type": "code",
   "execution_count": 51,
   "metadata": {},
   "outputs": [],
   "source": [
    "# Crear una lista para almacenar los valores calculados de 'balance_integridad_asfalto'\n",
    "balance_integridad_asfalto = []\n",
    "\n",
    "# Inicializar el valor inicial de Ai\n",
    "Ai_anterior = AMAX\n",
    "\n",
    "# Iterar sobre cada fila y calcular balance_integridad_asfalto basado en el valor de Ai anterior\n",
    "for index, row in df.iterrows():\n",
    "    if index == 0:\n",
    "        # Primer cálculo, usa AMAX\n",
    "        balance = AMAX + row['precipitacion'] - row['ETPcrr']\n",
    "    else:\n",
    "        # En los cálculos siguientes, usa el valor de Ai anterior\n",
    "        balance = Ai_anterior + row['precipitacion'] - row['ETPcrr']\n",
    "    \n",
    "    # Guardar el valor calculado de balance_integridad_asfalto\n",
    "    balance_integridad_asfalto.append(balance)\n",
    "    \n",
    "    # Calcular Ai y actualizar Ai_anterior para la siguiente iteración\n",
    "    Ai_anterior = max(0, min(100, balance))\n",
    "\n",
    "df['balance_integridad_asfalto'] = balance_integridad_asfalto\n",
    "\n",
    "Ai_values = [max(0, min(100, balance)) for balance in balance_integridad_asfalto]\n",
    "df['Ai'] = Ai_values"
   ]
  },
  {
   "cell_type": "code",
   "execution_count": 52,
   "metadata": {},
   "outputs": [],
   "source": [
    "df['EXC'] = df['balance_integridad_asfalto'].apply(\n",
    "    lambda M: 0 if M <= 100 else (M - 100 if M > 100 else \"Error\")\n",
    ")"
   ]
  },
  {
   "cell_type": "code",
   "execution_count": 53,
   "metadata": {},
   "outputs": [],
   "source": [
    "EXC = df['EXC'].sum()"
   ]
  },
  {
   "cell_type": "code",
   "execution_count": 54,
   "metadata": {},
   "outputs": [],
   "source": [
    "df['DEF'] = df['balance_integridad_asfalto'].apply(\n",
    "    lambda M: 0 if M >= 0 else (abs(M) if M < 0 else \"Error\")\n",
    ")"
   ]
  },
  {
   "cell_type": "code",
   "execution_count": 55,
   "metadata": {},
   "outputs": [],
   "source": [
    "DEF = df['DEF'].sum()"
   ]
  },
  {
   "cell_type": "code",
   "execution_count": 56,
   "metadata": {},
   "outputs": [
    {
     "data": {
      "text/plain": [
       "{'Índice de humedad (Ih)': 132.0914011135646,\n",
       " 'Índice de aridez (Ia)': 0.0,\n",
       " 'Índice de Thornthwaite (Im)': 132.0914011135646,\n",
       " 'Índice de Thornthwaite 1955': 132.0914011135646,\n",
       " 'Índice de Thornthwaite, Witzack': 109.06855083517344}"
      ]
     },
     "execution_count": 56,
     "metadata": {},
     "output_type": "execute_result"
    }
   ],
   "source": [
    "# Índice de humedad (Ih)\n",
    "Ih = (EXC / ETP) * 100 if ETP > 0 else 0\n",
    "\n",
    "# Índice de aridez (Ia)\n",
    "Ia = (DEF / ETP) * 100 if ETP > 0 else 0\n",
    "\n",
    "# Índice de Thornthwaite (Im)\n",
    "Im = Ih - 0.6 * Ia\n",
    "\n",
    "# Índice de Thornthwaite 1955 (Im)\n",
    "Im_1955 = 100 * (P / ETP - 1) if ETP > 0 else 0\n",
    "\n",
    "# Cálculo del Índice de Thornthwaite, Witzack\n",
    "Im_Witzack = 75*((P/ETP)-1)+10\n",
    "\n",
    "# Resultados\n",
    "resultados = {\n",
    "    'Índice de humedad (Ih)': Ih,\n",
    "    'Índice de aridez (Ia)': Ia,\n",
    "    'Índice de Thornthwaite (Im)': Im,\n",
    "    'Índice de Thornthwaite 1955': Im_1955,\n",
    "    'Índice de Thornthwaite, Witzack': Im_Witzack\n",
    "}\n",
    "\n",
    "resultados"
   ]
  },
  {
   "cell_type": "code",
   "execution_count": 57,
   "metadata": {},
   "outputs": [],
   "source": [
    "# Aplicar la lógica de la fórmula para la clasificación climática\n",
    "if Im <= -40:\n",
    "    clasificacion_climatica = \"E: Árido\"\n",
    "elif -40 < Im <= -20:\n",
    "    clasificacion_climatica = \"D: Semi-árido\"\n",
    "elif -20 < Im <= 0:\n",
    "    clasificacion_climatica = \"C1: Subhúmedo-seco\"\n",
    "elif 0 < Im <= 20:\n",
    "    clasificacion_climatica = \"C2: Subhúmedo-húmedo\"\n",
    "elif 20 < Im <= 40:\n",
    "    clasificacion_climatica = \"B1: Ligeramente húmedo\"\n",
    "elif 40 < Im <= 60:\n",
    "    clasificacion_climatica = \"B2: Moderadamente húmedo\"\n",
    "elif 60 < Im <= 80:\n",
    "    clasificacion_climatica = \"B3: Húmedo\"\n",
    "elif 80 < Im <= 100:\n",
    "    clasificacion_climatica = \"B4: Muy húmedo\"\n",
    "else:\n",
    "    clasificacion_climatica = \"A: Excesivamente húmedo\""
   ]
  },
  {
   "cell_type": "code",
   "execution_count": 58,
   "metadata": {},
   "outputs": [],
   "source": [
    "resultados ['Clasificación climática'] = clasificacion_climatica"
   ]
  },
  {
   "cell_type": "code",
   "execution_count": 59,
   "metadata": {},
   "outputs": [
    {
     "data": {
      "text/plain": [
       "{'Índice de humedad (Ih)': 132.0914011135646,\n",
       " 'Índice de aridez (Ia)': 0.0,\n",
       " 'Índice de Thornthwaite (Im)': 132.0914011135646,\n",
       " 'Índice de Thornthwaite 1955': 132.0914011135646,\n",
       " 'Índice de Thornthwaite, Witzack': 109.06855083517344,\n",
       " 'Clasificación climática': 'A: Excesivamente húmedo'}"
      ]
     },
     "execution_count": 59,
     "metadata": {},
     "output_type": "execute_result"
    }
   ],
   "source": [
    "resultados"
   ]
  },
  {
   "cell_type": "code",
   "execution_count": 60,
   "metadata": {},
   "outputs": [
    {
     "data": {
      "text/html": [
       "<div>\n",
       "<style scoped>\n",
       "    .dataframe tbody tr th:only-of-type {\n",
       "        vertical-align: middle;\n",
       "    }\n",
       "\n",
       "    .dataframe tbody tr th {\n",
       "        vertical-align: top;\n",
       "    }\n",
       "\n",
       "    .dataframe thead th {\n",
       "        text-align: right;\n",
       "    }\n",
       "</style>\n",
       "<table border=\"1\" class=\"dataframe\">\n",
       "  <thead>\n",
       "    <tr style=\"text-align: right;\">\n",
       "      <th></th>\n",
       "      <th>mes</th>\n",
       "      <th>temperatura</th>\n",
       "      <th>precipitacion</th>\n",
       "      <th>d</th>\n",
       "      <th>i</th>\n",
       "      <th>ETPsc</th>\n",
       "      <th>N</th>\n",
       "      <th>ETPcrr</th>\n",
       "      <th>balance_integridad_asfalto</th>\n",
       "      <th>Ai</th>\n",
       "      <th>EXC</th>\n",
       "      <th>DEF</th>\n",
       "    </tr>\n",
       "  </thead>\n",
       "  <tbody>\n",
       "    <tr>\n",
       "      <th>0</th>\n",
       "      <td>enero</td>\n",
       "      <td>18.49</td>\n",
       "      <td>192.15</td>\n",
       "      <td>31</td>\n",
       "      <td>7.242723</td>\n",
       "      <td>67.362541</td>\n",
       "      <td>11.9</td>\n",
       "      <td>69.027893</td>\n",
       "      <td>223.122107</td>\n",
       "      <td>100.000000</td>\n",
       "      <td>123.122107</td>\n",
       "      <td>0</td>\n",
       "    </tr>\n",
       "    <tr>\n",
       "      <th>1</th>\n",
       "      <td>febrero</td>\n",
       "      <td>18.35</td>\n",
       "      <td>156.41</td>\n",
       "      <td>28</td>\n",
       "      <td>7.159858</td>\n",
       "      <td>66.384493</td>\n",
       "      <td>11.9</td>\n",
       "      <td>61.442537</td>\n",
       "      <td>194.967463</td>\n",
       "      <td>100.000000</td>\n",
       "      <td>94.967463</td>\n",
       "      <td>0</td>\n",
       "    </tr>\n",
       "    <tr>\n",
       "      <th>2</th>\n",
       "      <td>marzo</td>\n",
       "      <td>18.51</td>\n",
       "      <td>168.63</td>\n",
       "      <td>31</td>\n",
       "      <td>7.254588</td>\n",
       "      <td>67.502823</td>\n",
       "      <td>12.0</td>\n",
       "      <td>69.752917</td>\n",
       "      <td>198.877083</td>\n",
       "      <td>100.000000</td>\n",
       "      <td>98.877083</td>\n",
       "      <td>0</td>\n",
       "    </tr>\n",
       "    <tr>\n",
       "      <th>3</th>\n",
       "      <td>abril</td>\n",
       "      <td>18.55</td>\n",
       "      <td>178.27</td>\n",
       "      <td>30</td>\n",
       "      <td>7.278336</td>\n",
       "      <td>67.783807</td>\n",
       "      <td>12.1</td>\n",
       "      <td>68.348672</td>\n",
       "      <td>209.921328</td>\n",
       "      <td>100.000000</td>\n",
       "      <td>109.921328</td>\n",
       "      <td>0</td>\n",
       "    </tr>\n",
       "    <tr>\n",
       "      <th>4</th>\n",
       "      <td>mayo</td>\n",
       "      <td>18.58</td>\n",
       "      <td>169.66</td>\n",
       "      <td>31</td>\n",
       "      <td>7.296165</td>\n",
       "      <td>67.994913</td>\n",
       "      <td>12.1</td>\n",
       "      <td>70.846922</td>\n",
       "      <td>198.813078</td>\n",
       "      <td>100.000000</td>\n",
       "      <td>98.813078</td>\n",
       "      <td>0</td>\n",
       "    </tr>\n",
       "    <tr>\n",
       "      <th>5</th>\n",
       "      <td>junio</td>\n",
       "      <td>18.73</td>\n",
       "      <td>64.58</td>\n",
       "      <td>30</td>\n",
       "      <td>7.385529</td>\n",
       "      <td>69.055172</td>\n",
       "      <td>12.1</td>\n",
       "      <td>69.630632</td>\n",
       "      <td>94.949368</td>\n",
       "      <td>94.949368</td>\n",
       "      <td>0.000000</td>\n",
       "      <td>0</td>\n",
       "    </tr>\n",
       "    <tr>\n",
       "      <th>6</th>\n",
       "      <td>julio</td>\n",
       "      <td>18.92</td>\n",
       "      <td>56.99</td>\n",
       "      <td>31</td>\n",
       "      <td>7.499253</td>\n",
       "      <td>70.409475</td>\n",
       "      <td>12.1</td>\n",
       "      <td>73.362762</td>\n",
       "      <td>78.576606</td>\n",
       "      <td>78.576606</td>\n",
       "      <td>0.000000</td>\n",
       "      <td>0</td>\n",
       "    </tr>\n",
       "    <tr>\n",
       "      <th>7</th>\n",
       "      <td>agosto</td>\n",
       "      <td>19.42</td>\n",
       "      <td>46.95</td>\n",
       "      <td>31</td>\n",
       "      <td>7.801332</td>\n",
       "      <td>74.033754</td>\n",
       "      <td>12.1</td>\n",
       "      <td>77.139059</td>\n",
       "      <td>48.387548</td>\n",
       "      <td>48.387548</td>\n",
       "      <td>0.000000</td>\n",
       "      <td>0</td>\n",
       "    </tr>\n",
       "    <tr>\n",
       "      <th>8</th>\n",
       "      <td>septiembre</td>\n",
       "      <td>19.21</td>\n",
       "      <td>60.26</td>\n",
       "      <td>30</td>\n",
       "      <td>7.673966</td>\n",
       "      <td>72.500915</td>\n",
       "      <td>12.0</td>\n",
       "      <td>72.500915</td>\n",
       "      <td>36.146633</td>\n",
       "      <td>36.146633</td>\n",
       "      <td>0.000000</td>\n",
       "      <td>0</td>\n",
       "    </tr>\n",
       "    <tr>\n",
       "      <th>9</th>\n",
       "      <td>octubre</td>\n",
       "      <td>18.23</td>\n",
       "      <td>208.70</td>\n",
       "      <td>31</td>\n",
       "      <td>7.089089</td>\n",
       "      <td>65.551637</td>\n",
       "      <td>11.9</td>\n",
       "      <td>67.172219</td>\n",
       "      <td>177.674414</td>\n",
       "      <td>100.000000</td>\n",
       "      <td>77.674414</td>\n",
       "      <td>0</td>\n",
       "    </tr>\n",
       "    <tr>\n",
       "      <th>10</th>\n",
       "      <td>noviembre</td>\n",
       "      <td>18.07</td>\n",
       "      <td>339.42</td>\n",
       "      <td>30</td>\n",
       "      <td>6.995102</td>\n",
       "      <td>64.449021</td>\n",
       "      <td>11.9</td>\n",
       "      <td>63.911946</td>\n",
       "      <td>375.508054</td>\n",
       "      <td>100.000000</td>\n",
       "      <td>275.508054</td>\n",
       "      <td>0</td>\n",
       "    </tr>\n",
       "    <tr>\n",
       "      <th>11</th>\n",
       "      <td>diciembre</td>\n",
       "      <td>17.95</td>\n",
       "      <td>280.48</td>\n",
       "      <td>31</td>\n",
       "      <td>6.924892</td>\n",
       "      <td>63.627956</td>\n",
       "      <td>11.9</td>\n",
       "      <td>65.200981</td>\n",
       "      <td>315.279019</td>\n",
       "      <td>100.000000</td>\n",
       "      <td>215.279019</td>\n",
       "      <td>0</td>\n",
       "    </tr>\n",
       "  </tbody>\n",
       "</table>\n",
       "</div>"
      ],
      "text/plain": [
       "           mes  temperatura  precipitacion   d         i      ETPsc     N  \\\n",
       "0        enero        18.49         192.15  31  7.242723  67.362541  11.9   \n",
       "1      febrero        18.35         156.41  28  7.159858  66.384493  11.9   \n",
       "2        marzo        18.51         168.63  31  7.254588  67.502823  12.0   \n",
       "3        abril        18.55         178.27  30  7.278336  67.783807  12.1   \n",
       "4         mayo        18.58         169.66  31  7.296165  67.994913  12.1   \n",
       "5        junio        18.73          64.58  30  7.385529  69.055172  12.1   \n",
       "6        julio        18.92          56.99  31  7.499253  70.409475  12.1   \n",
       "7       agosto        19.42          46.95  31  7.801332  74.033754  12.1   \n",
       "8   septiembre        19.21          60.26  30  7.673966  72.500915  12.0   \n",
       "9      octubre        18.23         208.70  31  7.089089  65.551637  11.9   \n",
       "10   noviembre        18.07         339.42  30  6.995102  64.449021  11.9   \n",
       "11   diciembre        17.95         280.48  31  6.924892  63.627956  11.9   \n",
       "\n",
       "       ETPcrr  balance_integridad_asfalto          Ai         EXC  DEF  \n",
       "0   69.027893                  223.122107  100.000000  123.122107    0  \n",
       "1   61.442537                  194.967463  100.000000   94.967463    0  \n",
       "2   69.752917                  198.877083  100.000000   98.877083    0  \n",
       "3   68.348672                  209.921328  100.000000  109.921328    0  \n",
       "4   70.846922                  198.813078  100.000000   98.813078    0  \n",
       "5   69.630632                   94.949368   94.949368    0.000000    0  \n",
       "6   73.362762                   78.576606   78.576606    0.000000    0  \n",
       "7   77.139059                   48.387548   48.387548    0.000000    0  \n",
       "8   72.500915                   36.146633   36.146633    0.000000    0  \n",
       "9   67.172219                  177.674414  100.000000   77.674414    0  \n",
       "10  63.911946                  375.508054  100.000000  275.508054    0  \n",
       "11  65.200981                  315.279019  100.000000  215.279019    0  "
      ]
     },
     "execution_count": 60,
     "metadata": {},
     "output_type": "execute_result"
    }
   ],
   "source": [
    "df"
   ]
  }
 ],
 "metadata": {
  "kernelspec": {
   "display_name": "Python 3",
   "language": "python",
   "name": "python3"
  },
  "language_info": {
   "codemirror_mode": {
    "name": "ipython",
    "version": 3
   },
   "file_extension": ".py",
   "mimetype": "text/x-python",
   "name": "python",
   "nbconvert_exporter": "python",
   "pygments_lexer": "ipython3",
   "version": "3.10.9"
  }
 },
 "nbformat": 4,
 "nbformat_minor": 2
}
