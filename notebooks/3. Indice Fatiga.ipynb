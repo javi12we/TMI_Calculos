{
 "cells": [
  {
   "cell_type": "code",
   "execution_count": 1,
   "metadata": {},
   "outputs": [],
   "source": [
    "import pandas as pd\n",
    "import numpy as np\n",
    "import plotly.express as px"
   ]
  },
  {
   "cell_type": "code",
   "execution_count": 2,
   "metadata": {},
   "outputs": [],
   "source": [
    "df_micro = pd.DataFrame(\n",
    "    {\n",
    "        \"ni_transito\": [\n",
    "            10000,\n",
    "            100000,\n",
    "            1000000,\n",
    "            10000000,\n",
    "            100000000,\n",
    "            1000000000,\n",
    "        ]\n",
    "    }\n",
    ")"
   ]
  },
  {
   "cell_type": "code",
   "execution_count": 3,
   "metadata": {},
   "outputs": [
    {
     "data": {
      "text/html": [
       "<div>\n",
       "<style scoped>\n",
       "    .dataframe tbody tr th:only-of-type {\n",
       "        vertical-align: middle;\n",
       "    }\n",
       "\n",
       "    .dataframe tbody tr th {\n",
       "        vertical-align: top;\n",
       "    }\n",
       "\n",
       "    .dataframe thead th {\n",
       "        text-align: right;\n",
       "    }\n",
       "</style>\n",
       "<table border=\"1\" class=\"dataframe\">\n",
       "  <thead>\n",
       "    <tr style=\"text-align: right;\">\n",
       "      <th></th>\n",
       "      <th>ni_transito</th>\n",
       "    </tr>\n",
       "  </thead>\n",
       "  <tbody>\n",
       "    <tr>\n",
       "      <th>0</th>\n",
       "      <td>10000</td>\n",
       "    </tr>\n",
       "    <tr>\n",
       "      <th>1</th>\n",
       "      <td>100000</td>\n",
       "    </tr>\n",
       "    <tr>\n",
       "      <th>2</th>\n",
       "      <td>1000000</td>\n",
       "    </tr>\n",
       "    <tr>\n",
       "      <th>3</th>\n",
       "      <td>10000000</td>\n",
       "    </tr>\n",
       "    <tr>\n",
       "      <th>4</th>\n",
       "      <td>100000000</td>\n",
       "    </tr>\n",
       "    <tr>\n",
       "      <th>5</th>\n",
       "      <td>1000000000</td>\n",
       "    </tr>\n",
       "  </tbody>\n",
       "</table>\n",
       "</div>"
      ],
      "text/plain": [
       "   ni_transito\n",
       "0        10000\n",
       "1       100000\n",
       "2      1000000\n",
       "3     10000000\n",
       "4    100000000\n",
       "5   1000000000"
      ]
     },
     "execution_count": 3,
     "metadata": {},
     "output_type": "execute_result"
    }
   ],
   "source": [
    "df_micro"
   ]
  },
  {
   "cell_type": "markdown",
   "metadata": {},
   "source": [
    "# FORMULAS FIJAS DEL MODELO"
   ]
  },
  {
   "cell_type": "code",
   "execution_count": 4,
   "metadata": {},
   "outputs": [],
   "source": [
    "modulo_rigidez_MPa = 4500\n",
    "espesor_mezcla_asfaltica_cm = 15\n",
    "numero_ciclos_carga = 134"
   ]
  },
  {
   "cell_type": "code",
   "execution_count": 5,
   "metadata": {},
   "outputs": [
    {
     "data": {
      "text/plain": [
       "652500"
      ]
     },
     "execution_count": 5,
     "metadata": {},
     "output_type": "execute_result"
    }
   ],
   "source": [
    "rigidez_convertida = 145 * modulo_rigidez_MPa\n",
    "rigidez_convertida\n"
   ]
  },
  {
   "cell_type": "code",
   "execution_count": 6,
   "metadata": {},
   "outputs": [
    {
     "data": {
      "text/plain": [
       "15"
      ]
     },
     "execution_count": 6,
     "metadata": {},
     "output_type": "execute_result"
    }
   ],
   "source": [
    "espesor_mezcla_pulgadas = espesor_mezcla_asfaltica_cm / 2.54\n",
    "espesor_mezcla_asfaltica_cm"
   ]
  },
  {
   "cell_type": "code",
   "execution_count": 7,
   "metadata": {},
   "outputs": [
    {
     "data": {
      "text/plain": [
       "0.9725232662363479"
      ]
     },
     "execution_count": 7,
     "metadata": {},
     "output_type": "execute_result"
    }
   ],
   "source": [
    "factor_ajuste_modelo = 10 ** (4.84 * (11 / (11 + 5) - 0.69))\n",
    "factor_ajuste_modelo"
   ]
  },
  {
   "cell_type": "code",
   "execution_count": 8,
   "metadata": {},
   "outputs": [
    {
     "data": {
      "text/plain": [
       "250.01539692873743"
      ]
     },
     "execution_count": 8,
     "metadata": {},
     "output_type": "execute_result"
    }
   ],
   "source": [
    "factor_ajuste_resistencia = float(1 / (0.000398 + (0.003602 / (1 + np.exp(11.02 - 3.49 * espesor_mezcla_pulgadas)))))\n",
    "factor_ajuste_resistencia"
   ]
  },
  {
   "cell_type": "markdown",
   "metadata": {},
   "source": [
    "# Tabla de Calculo de indices de fatiga - tabla derecha"
   ]
  },
  {
   "cell_type": "code",
   "execution_count": 9,
   "metadata": {},
   "outputs": [],
   "source": [
    "# COPIA DF micro a  calculos base fatiga\n",
    "df_calculos_base_fatiga = df_micro.copy()"
   ]
  },
  {
   "cell_type": "code",
   "execution_count": 10,
   "metadata": {},
   "outputs": [
    {
     "data": {
      "text/html": [
       "<div>\n",
       "<style scoped>\n",
       "    .dataframe tbody tr th:only-of-type {\n",
       "        vertical-align: middle;\n",
       "    }\n",
       "\n",
       "    .dataframe tbody tr th {\n",
       "        vertical-align: top;\n",
       "    }\n",
       "\n",
       "    .dataframe thead th {\n",
       "        text-align: right;\n",
       "    }\n",
       "</style>\n",
       "<table border=\"1\" class=\"dataframe\">\n",
       "  <thead>\n",
       "    <tr style=\"text-align: right;\">\n",
       "      <th></th>\n",
       "      <th>ni_transito</th>\n",
       "    </tr>\n",
       "  </thead>\n",
       "  <tbody>\n",
       "    <tr>\n",
       "      <th>0</th>\n",
       "      <td>10000</td>\n",
       "    </tr>\n",
       "    <tr>\n",
       "      <th>1</th>\n",
       "      <td>100000</td>\n",
       "    </tr>\n",
       "    <tr>\n",
       "      <th>2</th>\n",
       "      <td>1000000</td>\n",
       "    </tr>\n",
       "    <tr>\n",
       "      <th>3</th>\n",
       "      <td>10000000</td>\n",
       "    </tr>\n",
       "    <tr>\n",
       "      <th>4</th>\n",
       "      <td>100000000</td>\n",
       "    </tr>\n",
       "    <tr>\n",
       "      <th>5</th>\n",
       "      <td>1000000000</td>\n",
       "    </tr>\n",
       "  </tbody>\n",
       "</table>\n",
       "</div>"
      ],
      "text/plain": [
       "   ni_transito\n",
       "0        10000\n",
       "1       100000\n",
       "2      1000000\n",
       "3     10000000\n",
       "4    100000000\n",
       "5   1000000000"
      ]
     },
     "execution_count": 10,
     "metadata": {},
     "output_type": "execute_result"
    }
   ],
   "source": [
    "df_calculos_base_fatiga"
   ]
  },
  {
   "cell_type": "code",
   "execution_count": 11,
   "metadata": {},
   "outputs": [],
   "source": [
    "# Calculo SPDM DERECHO \n",
    "df_calculos_base_fatiga['SPDM'] = (1000000 * (df_calculos_base_fatiga['ni_transito'] * 1/10 * (0.856 * 11 + 1.08)**-5 * (modulo_rigidez_MPa * 1000000)**1.8)**(-1/5))"
   ]
  },
  {
   "cell_type": "code",
   "execution_count": 12,
   "metadata": {},
   "outputs": [],
   "source": [
    "# Calculo de AI MS-1\n",
    "df_calculos_base_fatiga['AI MS-1'] = 1000000 * ((df_calculos_base_fatiga['ni_transito'] * rigidez_convertida**0.854) / (18.4 * 0.00432 * factor_ajuste_modelo))**(-1 / 3.291)"
   ]
  },
  {
   "cell_type": "code",
   "execution_count": 13,
   "metadata": {},
   "outputs": [],
   "source": [
    "# Calculo de Cedex-Shell\n",
    "df_calculos_base_fatiga['Cedex-Shell'] = 1000000 * (df_calculos_base_fatiga['ni_transito'] / 1.02e-13)**-0.2"
   ]
  },
  {
   "cell_type": "code",
   "execution_count": 14,
   "metadata": {},
   "outputs": [],
   "source": [
    "# Calculo de Cedex-COST\n",
    "df_calculos_base_fatiga['Cedex-COST'] = 1000000 * (df_calculos_base_fatiga['ni_transito'] / 0.00000000906)**(-1 / 3.6706)"
   ]
  },
  {
   "cell_type": "code",
   "execution_count": 15,
   "metadata": {},
   "outputs": [],
   "source": [
    "# Calculo de Illinois\n",
    "df_calculos_base_fatiga['Illinois'] = 1000000 * (df_calculos_base_fatiga['ni_transito'] / 0.000005)**(-1 / 3)"
   ]
  },
  {
   "cell_type": "code",
   "execution_count": 16,
   "metadata": {},
   "outputs": [],
   "source": [
    "# Calculo de Minnesota\n",
    "df_calculos_base_fatiga['Minnesota'] = 1000000 * (df_calculos_base_fatiga['ni_transito'] / 0.00000283)**(-1 / 3.206)"
   ]
  },
  {
   "cell_type": "code",
   "execution_count": 17,
   "metadata": {},
   "outputs": [],
   "source": [
    "# Calculo de USACE\n",
    "df_calculos_base_fatiga['USACE'] = 1000000 * (df_calculos_base_fatiga['ni_transito'] / 478.63 * (145 * modulo_rigidez_MPa)**2.66)**(-1 / 5)"
   ]
  },
  {
   "cell_type": "code",
   "execution_count": 18,
   "metadata": {},
   "outputs": [],
   "source": [
    "#Calculo de ME-PDG\n",
    "df_calculos_base_fatiga['ME-PDG'] = 1000000 * (df_calculos_base_fatiga['ni_transito'] * rigidez_convertida**1.281 / (18.4 * 0.00432 * factor_ajuste_modelo * 0.007566 * factor_ajuste_resistencia))**(-1 / 3.9492)"
   ]
  },
  {
   "cell_type": "code",
   "execution_count": 19,
   "metadata": {},
   "outputs": [],
   "source": [
    "# #Calculo de AUSTROADS\n",
    "df_calculos_base_fatiga['AUSTROADS'] = ((df_calculos_base_fatiga['ni_transito'] / 2)**-0.2 * 6918 * (0.856 * 11 + 1.08) / (modulo_rigidez_MPa**0.36))"
   ]
  },
  {
   "cell_type": "code",
   "execution_count": 20,
   "metadata": {},
   "outputs": [
    {
     "data": {
      "text/html": [
       "<div>\n",
       "<style scoped>\n",
       "    .dataframe tbody tr th:only-of-type {\n",
       "        vertical-align: middle;\n",
       "    }\n",
       "\n",
       "    .dataframe tbody tr th {\n",
       "        vertical-align: top;\n",
       "    }\n",
       "\n",
       "    .dataframe thead th {\n",
       "        text-align: right;\n",
       "    }\n",
       "</style>\n",
       "<table border=\"1\" class=\"dataframe\">\n",
       "  <thead>\n",
       "    <tr style=\"text-align: right;\">\n",
       "      <th></th>\n",
       "      <th>ni_transito</th>\n",
       "      <th>SPDM</th>\n",
       "      <th>AI MS-1</th>\n",
       "      <th>Cedex-Shell</th>\n",
       "      <th>Cedex-COST</th>\n",
       "      <th>Illinois</th>\n",
       "      <th>Minnesota</th>\n",
       "      <th>USACE</th>\n",
       "      <th>ME-PDG</th>\n",
       "      <th>AUSTROADS</th>\n",
       "    </tr>\n",
       "  </thead>\n",
       "  <tbody>\n",
       "    <tr>\n",
       "      <th>0</th>\n",
       "      <td>10000</td>\n",
       "      <td>882.810149</td>\n",
       "      <td>866.714311</td>\n",
       "      <td>399.687011</td>\n",
       "      <td>523.720928</td>\n",
       "      <td>793.700526</td>\n",
       "      <td>1051.398728</td>\n",
       "      <td>439.180601</td>\n",
       "      <td>775.599737</td>\n",
       "      <td>639.814199</td>\n",
       "    </tr>\n",
       "    <tr>\n",
       "      <th>1</th>\n",
       "      <td>100000</td>\n",
       "      <td>557.015547</td>\n",
       "      <td>430.543422</td>\n",
       "      <td>252.185455</td>\n",
       "      <td>279.682250</td>\n",
       "      <td>368.403150</td>\n",
       "      <td>512.686980</td>\n",
       "      <td>277.104226</td>\n",
       "      <td>432.934118</td>\n",
       "      <td>403.695468</td>\n",
       "    </tr>\n",
       "    <tr>\n",
       "      <th>2</th>\n",
       "      <td>1000000</td>\n",
       "      <td>351.453050</td>\n",
       "      <td>213.873979</td>\n",
       "      <td>159.118265</td>\n",
       "      <td>149.358478</td>\n",
       "      <td>170.997595</td>\n",
       "      <td>249.998342</td>\n",
       "      <td>174.840946</td>\n",
       "      <td>241.660668</td>\n",
       "      <td>254.714620</td>\n",
       "    </tr>\n",
       "    <tr>\n",
       "      <th>3</th>\n",
       "      <td>10000000</td>\n",
       "      <td>221.751883</td>\n",
       "      <td>106.242661</td>\n",
       "      <td>100.396838</td>\n",
       "      <td>79.761783</td>\n",
       "      <td>79.370053</td>\n",
       "      <td>121.905127</td>\n",
       "      <td>110.317179</td>\n",
       "      <td>134.893223</td>\n",
       "      <td>160.714061</td>\n",
       "    </tr>\n",
       "    <tr>\n",
       "      <th>4</th>\n",
       "      <td>100000000</td>\n",
       "      <td>139.915979</td>\n",
       "      <td>52.776420</td>\n",
       "      <td>63.346122</td>\n",
       "      <td>42.595119</td>\n",
       "      <td>36.840315</td>\n",
       "      <td>59.443834</td>\n",
       "      <td>69.605434</td>\n",
       "      <td>75.296413</td>\n",
       "      <td>101.403717</td>\n",
       "    </tr>\n",
       "    <tr>\n",
       "      <th>5</th>\n",
       "      <td>1000000000</td>\n",
       "      <td>88.281015</td>\n",
       "      <td>26.216875</td>\n",
       "      <td>39.968701</td>\n",
       "      <td>22.747036</td>\n",
       "      <td>17.099759</td>\n",
       "      <td>28.986225</td>\n",
       "      <td>43.918060</td>\n",
       "      <td>42.029909</td>\n",
       "      <td>63.981420</td>\n",
       "    </tr>\n",
       "  </tbody>\n",
       "</table>\n",
       "</div>"
      ],
      "text/plain": [
       "   ni_transito        SPDM     AI MS-1  Cedex-Shell  Cedex-COST    Illinois  \\\n",
       "0        10000  882.810149  866.714311   399.687011  523.720928  793.700526   \n",
       "1       100000  557.015547  430.543422   252.185455  279.682250  368.403150   \n",
       "2      1000000  351.453050  213.873979   159.118265  149.358478  170.997595   \n",
       "3     10000000  221.751883  106.242661   100.396838   79.761783   79.370053   \n",
       "4    100000000  139.915979   52.776420    63.346122   42.595119   36.840315   \n",
       "5   1000000000   88.281015   26.216875    39.968701   22.747036   17.099759   \n",
       "\n",
       "     Minnesota       USACE      ME-PDG   AUSTROADS  \n",
       "0  1051.398728  439.180601  775.599737  639.814199  \n",
       "1   512.686980  277.104226  432.934118  403.695468  \n",
       "2   249.998342  174.840946  241.660668  254.714620  \n",
       "3   121.905127  110.317179  134.893223  160.714061  \n",
       "4    59.443834   69.605434   75.296413  101.403717  \n",
       "5    28.986225   43.918060   42.029909   63.981420  "
      ]
     },
     "execution_count": 20,
     "metadata": {},
     "output_type": "execute_result"
    }
   ],
   "source": [
    "df_calculos_base_fatiga"
   ]
  },
  {
   "cell_type": "markdown",
   "metadata": {},
   "source": [
    "# GRAFICA DE LA TABLA"
   ]
  },
  {
   "cell_type": "code",
   "execution_count": 36,
   "metadata": {},
   "outputs": [
    {
     "data": {
      "application/vnd.plotly.v1+json": {
       "config": {
        "plotlyServerURL": "https://plot.ly"
       },
       "data": [
        {
         "hovertemplate": "Modelo=SPDM<br>Número de Tránsitos=%{x}<br>Valores Modelos de Fatiga=%{y}<extra></extra>",
         "legendgroup": "SPDM",
         "marker": {
          "color": "#636efa",
          "symbol": "circle"
         },
         "mode": "lines+markers",
         "name": "SPDM",
         "orientation": "v",
         "showlegend": true,
         "type": "scatter",
         "x": [
          10000,
          100000,
          1000000,
          10000000,
          100000000,
          1000000000
         ],
         "xaxis": "x",
         "y": [
          882.8101485919159,
          557.0155470357201,
          351.4530503918401,
          221.75188338469897,
          139.91597947389116,
          88.28101485919159
         ],
         "yaxis": "y"
        },
        {
         "hovertemplate": "Modelo=AI MS-1<br>Número de Tránsitos=%{x}<br>Valores Modelos de Fatiga=%{y}<extra></extra>",
         "legendgroup": "AI MS-1",
         "marker": {
          "color": "#EF553B",
          "symbol": "diamond"
         },
         "mode": "lines+markers",
         "name": "AI MS-1",
         "orientation": "v",
         "showlegend": true,
         "type": "scatter",
         "x": [
          10000,
          100000,
          1000000,
          10000000,
          100000000,
          1000000000
         ],
         "xaxis": "x",
         "y": [
          866.7143108666239,
          430.5434218075046,
          213.8739787005092,
          106.24266089852624,
          52.77642031714989,
          26.216874821619882
         ],
         "yaxis": "y"
        },
        {
         "hovertemplate": "Modelo=Cedex-Shell<br>Número de Tránsitos=%{x}<br>Valores Modelos de Fatiga=%{y}<extra></extra>",
         "legendgroup": "Cedex-Shell",
         "marker": {
          "color": "#00cc96",
          "symbol": "square"
         },
         "mode": "lines+markers",
         "name": "Cedex-Shell",
         "orientation": "v",
         "showlegend": true,
         "type": "scatter",
         "x": [
          10000,
          100000,
          1000000,
          10000000,
          100000000,
          1000000000
         ],
         "xaxis": "x",
         "y": [
          399.6870105712021,
          252.18545481323258,
          159.118264885487,
          100.39683787044287,
          63.34612221694312,
          39.9687010571202
         ],
         "yaxis": "y"
        },
        {
         "hovertemplate": "Modelo=Cedex-COST<br>Número de Tránsitos=%{x}<br>Valores Modelos de Fatiga=%{y}<extra></extra>",
         "legendgroup": "Cedex-COST",
         "marker": {
          "color": "#ab63fa",
          "symbol": "x"
         },
         "mode": "lines+markers",
         "name": "Cedex-COST",
         "orientation": "v",
         "showlegend": true,
         "type": "scatter",
         "x": [
          10000,
          100000,
          1000000,
          10000000,
          100000000,
          1000000000
         ],
         "xaxis": "x",
         "y": [
          523.7209277414502,
          279.68224967005006,
          149.35847822204425,
          79.76178339212542,
          42.595118573947516,
          22.74703559985561
         ],
         "yaxis": "y"
        },
        {
         "hovertemplate": "Modelo=Illinois<br>Número de Tránsitos=%{x}<br>Valores Modelos de Fatiga=%{y}<extra></extra>",
         "legendgroup": "Illinois",
         "marker": {
          "color": "#FFA15A",
          "symbol": "cross"
         },
         "mode": "lines+markers",
         "name": "Illinois",
         "orientation": "v",
         "showlegend": true,
         "type": "scatter",
         "x": [
          10000,
          100000,
          1000000,
          10000000,
          100000000,
          1000000000
         ],
         "xaxis": "x",
         "y": [
          793.7005259841001,
          368.4031498640388,
          170.99759466766977,
          79.37005259841003,
          36.84031498640389,
          17.099759466766983
         ],
         "yaxis": "y"
        },
        {
         "hovertemplate": "Modelo=Minnesota<br>Número de Tránsitos=%{x}<br>Valores Modelos de Fatiga=%{y}<extra></extra>",
         "legendgroup": "Minnesota",
         "marker": {
          "color": "#19d3f3",
          "symbol": "circle"
         },
         "mode": "lines+markers",
         "name": "Minnesota",
         "orientation": "v",
         "showlegend": true,
         "type": "scatter",
         "x": [
          10000,
          100000,
          1000000,
          10000000,
          100000000,
          1000000000
         ],
         "xaxis": "x",
         "y": [
          1051.3987276902592,
          512.6869795930321,
          249.99834232409376,
          121.90512662210816,
          59.44383374145277,
          28.986224515685354
         ],
         "yaxis": "y"
        },
        {
         "hovertemplate": "Modelo=USACE<br>Número de Tránsitos=%{x}<br>Valores Modelos de Fatiga=%{y}<extra></extra>",
         "legendgroup": "USACE",
         "marker": {
          "color": "#FF6692",
          "symbol": "diamond"
         },
         "mode": "lines+markers",
         "name": "USACE",
         "orientation": "v",
         "showlegend": true,
         "type": "scatter",
         "x": [
          10000,
          100000,
          1000000,
          10000000,
          100000000,
          1000000000
         ],
         "xaxis": "x",
         "y": [
          439.18060103884306,
          277.1042257786836,
          174.8409464415581,
          110.31717927316919,
          69.60543448474425,
          43.918060103884294
         ],
         "yaxis": "y"
        },
        {
         "hovertemplate": "Modelo=ME-PDG<br>Número de Tránsitos=%{x}<br>Valores Modelos de Fatiga=%{y}<extra></extra>",
         "legendgroup": "ME-PDG",
         "marker": {
          "color": "#B6E880",
          "symbol": "square"
         },
         "mode": "lines+markers",
         "name": "ME-PDG",
         "orientation": "v",
         "showlegend": true,
         "type": "scatter",
         "x": [
          10000,
          100000,
          1000000,
          10000000,
          100000000,
          1000000000
         ],
         "xaxis": "x",
         "y": [
          775.5997374711153,
          432.93411785469493,
          241.6606676708721,
          134.89322252660247,
          75.29641318542429,
          42.02990878561031
         ],
         "yaxis": "y"
        },
        {
         "hovertemplate": "Modelo=AUSTROADS<br>Número de Tránsitos=%{x}<br>Valores Modelos de Fatiga=%{y}<extra></extra>",
         "legendgroup": "AUSTROADS",
         "marker": {
          "color": "#FF97FF",
          "symbol": "x"
         },
         "mode": "lines+markers",
         "name": "AUSTROADS",
         "orientation": "v",
         "showlegend": true,
         "type": "scatter",
         "x": [
          10000,
          100000,
          1000000,
          10000000,
          100000000,
          1000000000
         ],
         "xaxis": "x",
         "y": [
          639.8141990004093,
          403.69546796202013,
          254.71462044400513,
          160.7140605156298,
          101.40371684357086,
          63.98141990004092
         ],
         "yaxis": "y"
        }
       ],
       "layout": {
        "height": 600,
        "legend": {
         "title": {
          "text": "Modelo"
         },
         "tracegroupgap": 0
        },
        "template": {
         "data": {
          "bar": [
           {
            "error_x": {
             "color": "#2a3f5f"
            },
            "error_y": {
             "color": "#2a3f5f"
            },
            "marker": {
             "line": {
              "color": "#E5ECF6",
              "width": 0.5
             },
             "pattern": {
              "fillmode": "overlay",
              "size": 10,
              "solidity": 0.2
             }
            },
            "type": "bar"
           }
          ],
          "barpolar": [
           {
            "marker": {
             "line": {
              "color": "#E5ECF6",
              "width": 0.5
             },
             "pattern": {
              "fillmode": "overlay",
              "size": 10,
              "solidity": 0.2
             }
            },
            "type": "barpolar"
           }
          ],
          "carpet": [
           {
            "aaxis": {
             "endlinecolor": "#2a3f5f",
             "gridcolor": "white",
             "linecolor": "white",
             "minorgridcolor": "white",
             "startlinecolor": "#2a3f5f"
            },
            "baxis": {
             "endlinecolor": "#2a3f5f",
             "gridcolor": "white",
             "linecolor": "white",
             "minorgridcolor": "white",
             "startlinecolor": "#2a3f5f"
            },
            "type": "carpet"
           }
          ],
          "choropleth": [
           {
            "colorbar": {
             "outlinewidth": 0,
             "ticks": ""
            },
            "type": "choropleth"
           }
          ],
          "contour": [
           {
            "colorbar": {
             "outlinewidth": 0,
             "ticks": ""
            },
            "colorscale": [
             [
              0,
              "#0d0887"
             ],
             [
              0.1111111111111111,
              "#46039f"
             ],
             [
              0.2222222222222222,
              "#7201a8"
             ],
             [
              0.3333333333333333,
              "#9c179e"
             ],
             [
              0.4444444444444444,
              "#bd3786"
             ],
             [
              0.5555555555555556,
              "#d8576b"
             ],
             [
              0.6666666666666666,
              "#ed7953"
             ],
             [
              0.7777777777777778,
              "#fb9f3a"
             ],
             [
              0.8888888888888888,
              "#fdca26"
             ],
             [
              1,
              "#f0f921"
             ]
            ],
            "type": "contour"
           }
          ],
          "contourcarpet": [
           {
            "colorbar": {
             "outlinewidth": 0,
             "ticks": ""
            },
            "type": "contourcarpet"
           }
          ],
          "heatmap": [
           {
            "colorbar": {
             "outlinewidth": 0,
             "ticks": ""
            },
            "colorscale": [
             [
              0,
              "#0d0887"
             ],
             [
              0.1111111111111111,
              "#46039f"
             ],
             [
              0.2222222222222222,
              "#7201a8"
             ],
             [
              0.3333333333333333,
              "#9c179e"
             ],
             [
              0.4444444444444444,
              "#bd3786"
             ],
             [
              0.5555555555555556,
              "#d8576b"
             ],
             [
              0.6666666666666666,
              "#ed7953"
             ],
             [
              0.7777777777777778,
              "#fb9f3a"
             ],
             [
              0.8888888888888888,
              "#fdca26"
             ],
             [
              1,
              "#f0f921"
             ]
            ],
            "type": "heatmap"
           }
          ],
          "heatmapgl": [
           {
            "colorbar": {
             "outlinewidth": 0,
             "ticks": ""
            },
            "colorscale": [
             [
              0,
              "#0d0887"
             ],
             [
              0.1111111111111111,
              "#46039f"
             ],
             [
              0.2222222222222222,
              "#7201a8"
             ],
             [
              0.3333333333333333,
              "#9c179e"
             ],
             [
              0.4444444444444444,
              "#bd3786"
             ],
             [
              0.5555555555555556,
              "#d8576b"
             ],
             [
              0.6666666666666666,
              "#ed7953"
             ],
             [
              0.7777777777777778,
              "#fb9f3a"
             ],
             [
              0.8888888888888888,
              "#fdca26"
             ],
             [
              1,
              "#f0f921"
             ]
            ],
            "type": "heatmapgl"
           }
          ],
          "histogram": [
           {
            "marker": {
             "pattern": {
              "fillmode": "overlay",
              "size": 10,
              "solidity": 0.2
             }
            },
            "type": "histogram"
           }
          ],
          "histogram2d": [
           {
            "colorbar": {
             "outlinewidth": 0,
             "ticks": ""
            },
            "colorscale": [
             [
              0,
              "#0d0887"
             ],
             [
              0.1111111111111111,
              "#46039f"
             ],
             [
              0.2222222222222222,
              "#7201a8"
             ],
             [
              0.3333333333333333,
              "#9c179e"
             ],
             [
              0.4444444444444444,
              "#bd3786"
             ],
             [
              0.5555555555555556,
              "#d8576b"
             ],
             [
              0.6666666666666666,
              "#ed7953"
             ],
             [
              0.7777777777777778,
              "#fb9f3a"
             ],
             [
              0.8888888888888888,
              "#fdca26"
             ],
             [
              1,
              "#f0f921"
             ]
            ],
            "type": "histogram2d"
           }
          ],
          "histogram2dcontour": [
           {
            "colorbar": {
             "outlinewidth": 0,
             "ticks": ""
            },
            "colorscale": [
             [
              0,
              "#0d0887"
             ],
             [
              0.1111111111111111,
              "#46039f"
             ],
             [
              0.2222222222222222,
              "#7201a8"
             ],
             [
              0.3333333333333333,
              "#9c179e"
             ],
             [
              0.4444444444444444,
              "#bd3786"
             ],
             [
              0.5555555555555556,
              "#d8576b"
             ],
             [
              0.6666666666666666,
              "#ed7953"
             ],
             [
              0.7777777777777778,
              "#fb9f3a"
             ],
             [
              0.8888888888888888,
              "#fdca26"
             ],
             [
              1,
              "#f0f921"
             ]
            ],
            "type": "histogram2dcontour"
           }
          ],
          "mesh3d": [
           {
            "colorbar": {
             "outlinewidth": 0,
             "ticks": ""
            },
            "type": "mesh3d"
           }
          ],
          "parcoords": [
           {
            "line": {
             "colorbar": {
              "outlinewidth": 0,
              "ticks": ""
             }
            },
            "type": "parcoords"
           }
          ],
          "pie": [
           {
            "automargin": true,
            "type": "pie"
           }
          ],
          "scatter": [
           {
            "fillpattern": {
             "fillmode": "overlay",
             "size": 10,
             "solidity": 0.2
            },
            "type": "scatter"
           }
          ],
          "scatter3d": [
           {
            "line": {
             "colorbar": {
              "outlinewidth": 0,
              "ticks": ""
             }
            },
            "marker": {
             "colorbar": {
              "outlinewidth": 0,
              "ticks": ""
             }
            },
            "type": "scatter3d"
           }
          ],
          "scattercarpet": [
           {
            "marker": {
             "colorbar": {
              "outlinewidth": 0,
              "ticks": ""
             }
            },
            "type": "scattercarpet"
           }
          ],
          "scattergeo": [
           {
            "marker": {
             "colorbar": {
              "outlinewidth": 0,
              "ticks": ""
             }
            },
            "type": "scattergeo"
           }
          ],
          "scattergl": [
           {
            "marker": {
             "colorbar": {
              "outlinewidth": 0,
              "ticks": ""
             }
            },
            "type": "scattergl"
           }
          ],
          "scattermapbox": [
           {
            "marker": {
             "colorbar": {
              "outlinewidth": 0,
              "ticks": ""
             }
            },
            "type": "scattermapbox"
           }
          ],
          "scatterpolar": [
           {
            "marker": {
             "colorbar": {
              "outlinewidth": 0,
              "ticks": ""
             }
            },
            "type": "scatterpolar"
           }
          ],
          "scatterpolargl": [
           {
            "marker": {
             "colorbar": {
              "outlinewidth": 0,
              "ticks": ""
             }
            },
            "type": "scatterpolargl"
           }
          ],
          "scatterternary": [
           {
            "marker": {
             "colorbar": {
              "outlinewidth": 0,
              "ticks": ""
             }
            },
            "type": "scatterternary"
           }
          ],
          "surface": [
           {
            "colorbar": {
             "outlinewidth": 0,
             "ticks": ""
            },
            "colorscale": [
             [
              0,
              "#0d0887"
             ],
             [
              0.1111111111111111,
              "#46039f"
             ],
             [
              0.2222222222222222,
              "#7201a8"
             ],
             [
              0.3333333333333333,
              "#9c179e"
             ],
             [
              0.4444444444444444,
              "#bd3786"
             ],
             [
              0.5555555555555556,
              "#d8576b"
             ],
             [
              0.6666666666666666,
              "#ed7953"
             ],
             [
              0.7777777777777778,
              "#fb9f3a"
             ],
             [
              0.8888888888888888,
              "#fdca26"
             ],
             [
              1,
              "#f0f921"
             ]
            ],
            "type": "surface"
           }
          ],
          "table": [
           {
            "cells": {
             "fill": {
              "color": "#EBF0F8"
             },
             "line": {
              "color": "white"
             }
            },
            "header": {
             "fill": {
              "color": "#C8D4E3"
             },
             "line": {
              "color": "white"
             }
            },
            "type": "table"
           }
          ]
         },
         "layout": {
          "annotationdefaults": {
           "arrowcolor": "#2a3f5f",
           "arrowhead": 0,
           "arrowwidth": 1
          },
          "autotypenumbers": "strict",
          "coloraxis": {
           "colorbar": {
            "outlinewidth": 0,
            "ticks": ""
           }
          },
          "colorscale": {
           "diverging": [
            [
             0,
             "#8e0152"
            ],
            [
             0.1,
             "#c51b7d"
            ],
            [
             0.2,
             "#de77ae"
            ],
            [
             0.3,
             "#f1b6da"
            ],
            [
             0.4,
             "#fde0ef"
            ],
            [
             0.5,
             "#f7f7f7"
            ],
            [
             0.6,
             "#e6f5d0"
            ],
            [
             0.7,
             "#b8e186"
            ],
            [
             0.8,
             "#7fbc41"
            ],
            [
             0.9,
             "#4d9221"
            ],
            [
             1,
             "#276419"
            ]
           ],
           "sequential": [
            [
             0,
             "#0d0887"
            ],
            [
             0.1111111111111111,
             "#46039f"
            ],
            [
             0.2222222222222222,
             "#7201a8"
            ],
            [
             0.3333333333333333,
             "#9c179e"
            ],
            [
             0.4444444444444444,
             "#bd3786"
            ],
            [
             0.5555555555555556,
             "#d8576b"
            ],
            [
             0.6666666666666666,
             "#ed7953"
            ],
            [
             0.7777777777777778,
             "#fb9f3a"
            ],
            [
             0.8888888888888888,
             "#fdca26"
            ],
            [
             1,
             "#f0f921"
            ]
           ],
           "sequentialminus": [
            [
             0,
             "#0d0887"
            ],
            [
             0.1111111111111111,
             "#46039f"
            ],
            [
             0.2222222222222222,
             "#7201a8"
            ],
            [
             0.3333333333333333,
             "#9c179e"
            ],
            [
             0.4444444444444444,
             "#bd3786"
            ],
            [
             0.5555555555555556,
             "#d8576b"
            ],
            [
             0.6666666666666666,
             "#ed7953"
            ],
            [
             0.7777777777777778,
             "#fb9f3a"
            ],
            [
             0.8888888888888888,
             "#fdca26"
            ],
            [
             1,
             "#f0f921"
            ]
           ]
          },
          "colorway": [
           "#636efa",
           "#EF553B",
           "#00cc96",
           "#ab63fa",
           "#FFA15A",
           "#19d3f3",
           "#FF6692",
           "#B6E880",
           "#FF97FF",
           "#FECB52"
          ],
          "font": {
           "color": "#2a3f5f"
          },
          "geo": {
           "bgcolor": "white",
           "lakecolor": "white",
           "landcolor": "#E5ECF6",
           "showlakes": true,
           "showland": true,
           "subunitcolor": "white"
          },
          "hoverlabel": {
           "align": "left"
          },
          "hovermode": "closest",
          "mapbox": {
           "style": "light"
          },
          "paper_bgcolor": "white",
          "plot_bgcolor": "#E5ECF6",
          "polar": {
           "angularaxis": {
            "gridcolor": "white",
            "linecolor": "white",
            "ticks": ""
           },
           "bgcolor": "#E5ECF6",
           "radialaxis": {
            "gridcolor": "white",
            "linecolor": "white",
            "ticks": ""
           }
          },
          "scene": {
           "xaxis": {
            "backgroundcolor": "#E5ECF6",
            "gridcolor": "white",
            "gridwidth": 2,
            "linecolor": "white",
            "showbackground": true,
            "ticks": "",
            "zerolinecolor": "white"
           },
           "yaxis": {
            "backgroundcolor": "#E5ECF6",
            "gridcolor": "white",
            "gridwidth": 2,
            "linecolor": "white",
            "showbackground": true,
            "ticks": "",
            "zerolinecolor": "white"
           },
           "zaxis": {
            "backgroundcolor": "#E5ECF6",
            "gridcolor": "white",
            "gridwidth": 2,
            "linecolor": "white",
            "showbackground": true,
            "ticks": "",
            "zerolinecolor": "white"
           }
          },
          "shapedefaults": {
           "line": {
            "color": "#2a3f5f"
           }
          },
          "ternary": {
           "aaxis": {
            "gridcolor": "white",
            "linecolor": "white",
            "ticks": ""
           },
           "baxis": {
            "gridcolor": "white",
            "linecolor": "white",
            "ticks": ""
           },
           "bgcolor": "#E5ECF6",
           "caxis": {
            "gridcolor": "white",
            "linecolor": "white",
            "ticks": ""
           }
          },
          "title": {
           "x": 0.05
          },
          "xaxis": {
           "automargin": true,
           "gridcolor": "white",
           "linecolor": "white",
           "ticks": "",
           "title": {
            "standoff": 15
           },
           "zerolinecolor": "white",
           "zerolinewidth": 2
          },
          "yaxis": {
           "automargin": true,
           "gridcolor": "white",
           "linecolor": "white",
           "ticks": "",
           "title": {
            "standoff": 15
           },
           "zerolinecolor": "white",
           "zerolinewidth": 2
          }
         }
        },
        "title": {
         "text": "Comparación de Modelos de Fatiga en función del Número de Tránsitos"
        },
        "width": 1000,
        "xaxis": {
         "anchor": "y",
         "domain": [
          0,
          1
         ],
         "title": {
          "text": "Número de Tránsitos"
         },
         "type": "log"
        },
        "yaxis": {
         "anchor": "x",
         "domain": [
          0,
          1
         ],
         "title": {
          "text": "Valores Modelos de Fatiga"
         },
         "type": "log"
        }
       }
      }
     },
     "metadata": {},
     "output_type": "display_data"
    }
   ],
   "source": [
    "# Convertir el dataframe a formato largo (melt) para Plotly Express\n",
    "df_long = df_calculos_base_fatiga.melt(id_vars='ni_transito', var_name='Modelo', value_name='Valores')\n",
    "\n",
    "# Crear la gráfica usando Plotly Express con líneas y puntos\n",
    "fig = px.scatter(df_long, x='ni_transito', y='Valores', color='Modelo', symbol='Modelo', \n",
    "                 log_x=True, log_y=True, title='Comparación de Modelos de Fatiga en función del Número de Tránsitos',\n",
    "                 labels={'ni_transito': 'Número de Tránsitos', 'Valores': 'Valores Modelos de Fatiga'})\n",
    "\n",
    "# Agregar líneas conectando los puntos\n",
    "fig.update_traces(mode='lines+markers')\n",
    "\n",
    "# Ajustar el tamaño del gráfico\n",
    "fig.update_layout(width=1000, height=600)\n",
    "\n",
    "# Mostrar el gráfico\n",
    "fig.show()"
   ]
  },
  {
   "cell_type": "markdown",
   "metadata": {},
   "source": [
    "# Tabla de Calculo de indices de fatiga - tabla izquierda"
   ]
  },
  {
   "cell_type": "code",
   "execution_count": 22,
   "metadata": {},
   "outputs": [],
   "source": [
    "# Crear un data frame vacio\n",
    "df_resultados_fatiga = pd.DataFrame()"
   ]
  },
  {
   "cell_type": "code",
   "execution_count": 23,
   "metadata": {},
   "outputs": [],
   "source": [
    "#Calcular SPDM\n",
    "\n",
    "df_resultados_fatiga[\"SPDM\"] = 10 * (0.856 * 11 + 1.08)**5 * (modulo_rigidez_MPa * 1000000)**-1.8 * (df_calculos_base_fatiga['SPDM'] / 1000000)**-5"
   ]
  },
  {
   "cell_type": "code",
   "execution_count": 24,
   "metadata": {},
   "outputs": [],
   "source": [
    "#Calcular AI MS-1\n",
    "\n",
    "df_resultados_fatiga[\"AI MS-1\"] = 18.4 * 0.00432 * factor_ajuste_modelo * (df_calculos_base_fatiga['AI MS-1'] / 1000000)**-3.291 * rigidez_convertida**-0.854"
   ]
  },
  {
   "cell_type": "code",
   "execution_count": 25,
   "metadata": {},
   "outputs": [],
   "source": [
    "#Calcular Cedex-Shell - Error\n",
    "\n",
    "df_resultados_fatiga[\"Cedex-Shell\"] = 0.000000000000102 * (df_calculos_base_fatiga['Cedex-Shell'] / 1000000)**-5"
   ]
  },
  {
   "cell_type": "code",
   "execution_count": 26,
   "metadata": {},
   "outputs": [],
   "source": [
    "#Calcular Cedex-COST\n",
    "\n",
    "df_resultados_fatiga[\"Cedex-COST\"] = 0.00000000906 * (df_calculos_base_fatiga['Cedex-COST'] / 1000000)**-3.6706"
   ]
  },
  {
   "cell_type": "code",
   "execution_count": 27,
   "metadata": {},
   "outputs": [],
   "source": [
    "#Calcular Illinois\n",
    "\n",
    "df_resultados_fatiga[\"Illinois\"] = 0.000005 * (df_calculos_base_fatiga['Illinois'] / 1000000)**-3"
   ]
  },
  {
   "cell_type": "code",
   "execution_count": 28,
   "metadata": {},
   "outputs": [],
   "source": [
    "#Calcular Minnesota\n",
    "\n",
    "df_resultados_fatiga[\"Minnesota\"] = 0.00000283 * (df_calculos_base_fatiga['Minnesota'] / 1000000)** -3.206"
   ]
  },
  {
   "cell_type": "code",
   "execution_count": 29,
   "metadata": {},
   "outputs": [],
   "source": [
    "#Calcular USACE\n",
    "\n",
    "df_resultados_fatiga[\"USACE\"] = 478.63 * (df_calculos_base_fatiga['USACE'] / 1000000)**-5 * (145 * modulo_rigidez_MPa)**-2.66"
   ]
  },
  {
   "cell_type": "code",
   "execution_count": 30,
   "metadata": {},
   "outputs": [],
   "source": [
    "#Calcular ME-PDG\n",
    "\n",
    "df_resultados_fatiga[\"ME-PDG\"] = 18.4 * 0.00432 * 0.007566 * factor_ajuste_resistencia * factor_ajuste_modelo * (df_calculos_base_fatiga['ME-PDG'] / 1000000)**-3.9492 * (rigidez_convertida)**-1.281"
   ]
  },
  {
   "cell_type": "code",
   "execution_count": 31,
   "metadata": {},
   "outputs": [],
   "source": [
    "#Calcular AUSTROADS\n",
    "\n",
    "df_resultados_fatiga[\"AUSTROADS\"] = 2 * (6918 * (0.856 * 11 + 1.08) / (modulo_rigidez_MPa**0.36 * df_calculos_base_fatiga['AUSTROADS']))**5"
   ]
  },
  {
   "cell_type": "code",
   "execution_count": 32,
   "metadata": {},
   "outputs": [
    {
     "data": {
      "text/html": [
       "<div>\n",
       "<style scoped>\n",
       "    .dataframe tbody tr th:only-of-type {\n",
       "        vertical-align: middle;\n",
       "    }\n",
       "\n",
       "    .dataframe tbody tr th {\n",
       "        vertical-align: top;\n",
       "    }\n",
       "\n",
       "    .dataframe thead th {\n",
       "        text-align: right;\n",
       "    }\n",
       "</style>\n",
       "<table border=\"1\" class=\"dataframe\">\n",
       "  <thead>\n",
       "    <tr style=\"text-align: right;\">\n",
       "      <th></th>\n",
       "      <th>SPDM</th>\n",
       "      <th>AI MS-1</th>\n",
       "      <th>Cedex-Shell</th>\n",
       "      <th>Cedex-COST</th>\n",
       "      <th>Illinois</th>\n",
       "      <th>Minnesota</th>\n",
       "      <th>USACE</th>\n",
       "      <th>ME-PDG</th>\n",
       "      <th>AUSTROADS</th>\n",
       "    </tr>\n",
       "  </thead>\n",
       "  <tbody>\n",
       "    <tr>\n",
       "      <th>0</th>\n",
       "      <td>1.000000e+04</td>\n",
       "      <td>1.000000e+04</td>\n",
       "      <td>1.000000e+04</td>\n",
       "      <td>1.000000e+04</td>\n",
       "      <td>1.000000e+04</td>\n",
       "      <td>1.000000e+04</td>\n",
       "      <td>1.000000e+04</td>\n",
       "      <td>1.000000e+04</td>\n",
       "      <td>1.000000e+04</td>\n",
       "    </tr>\n",
       "    <tr>\n",
       "      <th>1</th>\n",
       "      <td>1.000000e+05</td>\n",
       "      <td>1.000000e+05</td>\n",
       "      <td>1.000000e+05</td>\n",
       "      <td>1.000000e+05</td>\n",
       "      <td>1.000000e+05</td>\n",
       "      <td>1.000000e+05</td>\n",
       "      <td>1.000000e+05</td>\n",
       "      <td>1.000000e+05</td>\n",
       "      <td>1.000000e+05</td>\n",
       "    </tr>\n",
       "    <tr>\n",
       "      <th>2</th>\n",
       "      <td>1.000000e+06</td>\n",
       "      <td>1.000000e+06</td>\n",
       "      <td>1.000000e+06</td>\n",
       "      <td>1.000000e+06</td>\n",
       "      <td>1.000000e+06</td>\n",
       "      <td>1.000000e+06</td>\n",
       "      <td>1.000000e+06</td>\n",
       "      <td>1.000000e+06</td>\n",
       "      <td>1.000000e+06</td>\n",
       "    </tr>\n",
       "    <tr>\n",
       "      <th>3</th>\n",
       "      <td>1.000000e+07</td>\n",
       "      <td>1.000000e+07</td>\n",
       "      <td>1.000000e+07</td>\n",
       "      <td>1.000000e+07</td>\n",
       "      <td>1.000000e+07</td>\n",
       "      <td>1.000000e+07</td>\n",
       "      <td>1.000000e+07</td>\n",
       "      <td>1.000000e+07</td>\n",
       "      <td>1.000000e+07</td>\n",
       "    </tr>\n",
       "    <tr>\n",
       "      <th>4</th>\n",
       "      <td>1.000000e+08</td>\n",
       "      <td>1.000000e+08</td>\n",
       "      <td>1.000000e+08</td>\n",
       "      <td>1.000000e+08</td>\n",
       "      <td>1.000000e+08</td>\n",
       "      <td>1.000000e+08</td>\n",
       "      <td>1.000000e+08</td>\n",
       "      <td>1.000000e+08</td>\n",
       "      <td>1.000000e+08</td>\n",
       "    </tr>\n",
       "    <tr>\n",
       "      <th>5</th>\n",
       "      <td>1.000000e+09</td>\n",
       "      <td>1.000000e+09</td>\n",
       "      <td>1.000000e+09</td>\n",
       "      <td>1.000000e+09</td>\n",
       "      <td>1.000000e+09</td>\n",
       "      <td>1.000000e+09</td>\n",
       "      <td>1.000000e+09</td>\n",
       "      <td>1.000000e+09</td>\n",
       "      <td>1.000000e+09</td>\n",
       "    </tr>\n",
       "  </tbody>\n",
       "</table>\n",
       "</div>"
      ],
      "text/plain": [
       "           SPDM       AI MS-1   Cedex-Shell    Cedex-COST      Illinois  \\\n",
       "0  1.000000e+04  1.000000e+04  1.000000e+04  1.000000e+04  1.000000e+04   \n",
       "1  1.000000e+05  1.000000e+05  1.000000e+05  1.000000e+05  1.000000e+05   \n",
       "2  1.000000e+06  1.000000e+06  1.000000e+06  1.000000e+06  1.000000e+06   \n",
       "3  1.000000e+07  1.000000e+07  1.000000e+07  1.000000e+07  1.000000e+07   \n",
       "4  1.000000e+08  1.000000e+08  1.000000e+08  1.000000e+08  1.000000e+08   \n",
       "5  1.000000e+09  1.000000e+09  1.000000e+09  1.000000e+09  1.000000e+09   \n",
       "\n",
       "      Minnesota         USACE        ME-PDG     AUSTROADS  \n",
       "0  1.000000e+04  1.000000e+04  1.000000e+04  1.000000e+04  \n",
       "1  1.000000e+05  1.000000e+05  1.000000e+05  1.000000e+05  \n",
       "2  1.000000e+06  1.000000e+06  1.000000e+06  1.000000e+06  \n",
       "3  1.000000e+07  1.000000e+07  1.000000e+07  1.000000e+07  \n",
       "4  1.000000e+08  1.000000e+08  1.000000e+08  1.000000e+08  \n",
       "5  1.000000e+09  1.000000e+09  1.000000e+09  1.000000e+09  "
      ]
     },
     "execution_count": 32,
     "metadata": {},
     "output_type": "execute_result"
    }
   ],
   "source": [
    "df_resultados_fatiga"
   ]
  }
 ],
 "metadata": {
  "kernelspec": {
   "display_name": "env",
   "language": "python",
   "name": "python3"
  },
  "language_info": {
   "codemirror_mode": {
    "name": "ipython",
    "version": 3
   },
   "file_extension": ".py",
   "mimetype": "text/x-python",
   "name": "python",
   "nbconvert_exporter": "python",
   "pygments_lexer": "ipython3",
   "version": "3.11.9"
  }
 },
 "nbformat": 4,
 "nbformat_minor": 2
}
