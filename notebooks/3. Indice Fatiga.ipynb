{
 "cells": [
  {
   "cell_type": "code",
   "execution_count": 119,
   "metadata": {},
   "outputs": [],
   "source": [
    "import pandas as pd\n",
    "import numpy as np"
   ]
  },
  {
   "cell_type": "code",
   "execution_count": 120,
   "metadata": {},
   "outputs": [],
   "source": [
    "df_micro = pd.DataFrame(\n",
    "    {\n",
    "        \"ni_transito\": [\n",
    "            10000,\n",
    "            100000,\n",
    "            1000000,\n",
    "            10000000,\n",
    "            100000000,\n",
    "            1000000000,\n",
    "        ]\n",
    "    }\n",
    ")"
   ]
  },
  {
   "cell_type": "code",
   "execution_count": 121,
   "metadata": {},
   "outputs": [
    {
     "data": {
      "text/html": [
       "<div>\n",
       "<style scoped>\n",
       "    .dataframe tbody tr th:only-of-type {\n",
       "        vertical-align: middle;\n",
       "    }\n",
       "\n",
       "    .dataframe tbody tr th {\n",
       "        vertical-align: top;\n",
       "    }\n",
       "\n",
       "    .dataframe thead th {\n",
       "        text-align: right;\n",
       "    }\n",
       "</style>\n",
       "<table border=\"1\" class=\"dataframe\">\n",
       "  <thead>\n",
       "    <tr style=\"text-align: right;\">\n",
       "      <th></th>\n",
       "      <th>ni_transito</th>\n",
       "    </tr>\n",
       "  </thead>\n",
       "  <tbody>\n",
       "    <tr>\n",
       "      <th>0</th>\n",
       "      <td>10000</td>\n",
       "    </tr>\n",
       "    <tr>\n",
       "      <th>1</th>\n",
       "      <td>100000</td>\n",
       "    </tr>\n",
       "    <tr>\n",
       "      <th>2</th>\n",
       "      <td>1000000</td>\n",
       "    </tr>\n",
       "    <tr>\n",
       "      <th>3</th>\n",
       "      <td>10000000</td>\n",
       "    </tr>\n",
       "    <tr>\n",
       "      <th>4</th>\n",
       "      <td>100000000</td>\n",
       "    </tr>\n",
       "    <tr>\n",
       "      <th>5</th>\n",
       "      <td>1000000000</td>\n",
       "    </tr>\n",
       "  </tbody>\n",
       "</table>\n",
       "</div>"
      ],
      "text/plain": [
       "   ni_transito\n",
       "0        10000\n",
       "1       100000\n",
       "2      1000000\n",
       "3     10000000\n",
       "4    100000000\n",
       "5   1000000000"
      ]
     },
     "execution_count": 121,
     "metadata": {},
     "output_type": "execute_result"
    }
   ],
   "source": [
    "df_micro"
   ]
  },
  {
   "cell_type": "markdown",
   "metadata": {},
   "source": [
    "# FORMULAS FIJAS DEL MODELO"
   ]
  },
  {
   "cell_type": "code",
   "execution_count": 122,
   "metadata": {},
   "outputs": [],
   "source": [
    "modulo_rigidez_MPa = 4500\n",
    "espesor_mezcla_asfaltica_cm = 15\n",
    "numero_ciclos_carga = 134"
   ]
  },
  {
   "cell_type": "code",
   "execution_count": 123,
   "metadata": {},
   "outputs": [
    {
     "data": {
      "text/plain": [
       "652500"
      ]
     },
     "execution_count": 123,
     "metadata": {},
     "output_type": "execute_result"
    }
   ],
   "source": [
    "rigidez_convertida = 145 * modulo_rigidez_MPa\n",
    "rigidez_convertida\n"
   ]
  },
  {
   "cell_type": "code",
   "execution_count": 124,
   "metadata": {},
   "outputs": [
    {
     "data": {
      "text/plain": [
       "15"
      ]
     },
     "execution_count": 124,
     "metadata": {},
     "output_type": "execute_result"
    }
   ],
   "source": [
    "espesor_mezcla_pulgadas = espesor_mezcla_asfaltica_cm / 2.54\n",
    "espesor_mezcla_asfaltica_cm"
   ]
  },
  {
   "cell_type": "code",
   "execution_count": 125,
   "metadata": {},
   "outputs": [
    {
     "data": {
      "text/plain": [
       "0.9725232662363479"
      ]
     },
     "execution_count": 125,
     "metadata": {},
     "output_type": "execute_result"
    }
   ],
   "source": [
    "factor_ajuste_modelo = 10 ** (4.84 * (11 / (11 + 5) - 0.69))\n",
    "factor_ajuste_modelo"
   ]
  },
  {
   "cell_type": "code",
   "execution_count": 126,
   "metadata": {},
   "outputs": [
    {
     "data": {
      "text/plain": [
       "250.01539692873743"
      ]
     },
     "execution_count": 126,
     "metadata": {},
     "output_type": "execute_result"
    }
   ],
   "source": [
    "factor_ajuste_resistencia = float(1 / (0.000398 + (0.003602 / (1 + np.exp(11.02 - 3.49 * espesor_mezcla_pulgadas)))))\n",
    "factor_ajuste_resistencia"
   ]
  },
  {
   "cell_type": "markdown",
   "metadata": {},
   "source": [
    "# Tabla de Calculo de indices de fatiga - tabla derecha"
   ]
  },
  {
   "cell_type": "code",
   "execution_count": 127,
   "metadata": {},
   "outputs": [],
   "source": [
    "# COPIA DF micro a  calculos base fatiga\n",
    "df_calculos_base_fatiga = df_micro.copy()"
   ]
  },
  {
   "cell_type": "code",
   "execution_count": 128,
   "metadata": {},
   "outputs": [
    {
     "data": {
      "text/html": [
       "<div>\n",
       "<style scoped>\n",
       "    .dataframe tbody tr th:only-of-type {\n",
       "        vertical-align: middle;\n",
       "    }\n",
       "\n",
       "    .dataframe tbody tr th {\n",
       "        vertical-align: top;\n",
       "    }\n",
       "\n",
       "    .dataframe thead th {\n",
       "        text-align: right;\n",
       "    }\n",
       "</style>\n",
       "<table border=\"1\" class=\"dataframe\">\n",
       "  <thead>\n",
       "    <tr style=\"text-align: right;\">\n",
       "      <th></th>\n",
       "      <th>ni_transito</th>\n",
       "    </tr>\n",
       "  </thead>\n",
       "  <tbody>\n",
       "    <tr>\n",
       "      <th>0</th>\n",
       "      <td>10000</td>\n",
       "    </tr>\n",
       "    <tr>\n",
       "      <th>1</th>\n",
       "      <td>100000</td>\n",
       "    </tr>\n",
       "    <tr>\n",
       "      <th>2</th>\n",
       "      <td>1000000</td>\n",
       "    </tr>\n",
       "    <tr>\n",
       "      <th>3</th>\n",
       "      <td>10000000</td>\n",
       "    </tr>\n",
       "    <tr>\n",
       "      <th>4</th>\n",
       "      <td>100000000</td>\n",
       "    </tr>\n",
       "    <tr>\n",
       "      <th>5</th>\n",
       "      <td>1000000000</td>\n",
       "    </tr>\n",
       "  </tbody>\n",
       "</table>\n",
       "</div>"
      ],
      "text/plain": [
       "   ni_transito\n",
       "0        10000\n",
       "1       100000\n",
       "2      1000000\n",
       "3     10000000\n",
       "4    100000000\n",
       "5   1000000000"
      ]
     },
     "execution_count": 128,
     "metadata": {},
     "output_type": "execute_result"
    }
   ],
   "source": [
    "df_calculos_base_fatiga"
   ]
  },
  {
   "cell_type": "code",
   "execution_count": 129,
   "metadata": {},
   "outputs": [],
   "source": [
    "# Calculo SPDM DERECHO \n",
    "df_calculos_base_fatiga['SPDM'] = (1000000 * (df_calculos_base_fatiga['ni_transito'] * 1/10 * (0.856 * 11 + 1.08)**-5 * (modulo_rigidez_MPa * 1000000)**1.8)**(-1/5))"
   ]
  },
  {
   "cell_type": "code",
   "execution_count": 130,
   "metadata": {},
   "outputs": [],
   "source": [
    "# Calculo de AI MS-1\n",
    "df_calculos_base_fatiga['AI MS-1'] = (1000000 * (df_calculos_base_fatiga['ni_transito'] * rigidez_convertida**0.854 / (18.4 * 0.00432 * factor_ajuste_modelo)))**(-1 / 3.291)"
   ]
  },
  {
   "cell_type": "markdown",
   "metadata": {},
   "source": [
    "=1000000*(J3*$J$11^0,854/(18,4*0,00432*$L$1))^(-1/3,291)"
   ]
  },
  {
   "cell_type": "code",
   "execution_count": 142,
   "metadata": {},
   "outputs": [
    {
     "data": {
      "text/plain": [
       "0    0.0\n",
       "1    0.0\n",
       "2    0.0\n",
       "3    0.0\n",
       "4    0.0\n",
       "5    0.0\n",
       "Name: ni_transito, dtype: float64"
      ]
     },
     "execution_count": 142,
     "metadata": {},
     "output_type": "execute_result"
    }
   ],
   "source": [
    "round((1000000 * (df_calculos_base_fatiga['ni_transito'] * rigidez_convertida**0.854 / (18.4 * 0.00432 * factor_ajuste_modelo)))**(-1 / 3.291))"
   ]
  },
  {
   "cell_type": "code",
   "execution_count": 144,
   "metadata": {},
   "outputs": [
    {
     "data": {
      "text/plain": [
       "0.9725232662363479"
      ]
     },
     "execution_count": 144,
     "metadata": {},
     "output_type": "execute_result"
    }
   ],
   "source": [
    "factor_ajuste_modelo"
   ]
  },
  {
   "cell_type": "code",
   "execution_count": 131,
   "metadata": {},
   "outputs": [],
   "source": [
    "# Calculo de Cedex-Shell\n",
    "df_calculos_base_fatiga['Cedex-Shell'] = (1000000 * (df_calculos_base_fatiga['ni_transito'] / 0.00000000906))**(-1 / 3.6706)"
   ]
  },
  {
   "cell_type": "code",
   "execution_count": 132,
   "metadata": {},
   "outputs": [],
   "source": [
    "# Calculo de Illinois\n",
    "df_calculos_base_fatiga['Illinois'] = (1000000 * (df_calculos_base_fatiga['ni_transito'] / 0.000005))**(-1 / 3)"
   ]
  },
  {
   "cell_type": "code",
   "execution_count": 133,
   "metadata": {},
   "outputs": [],
   "source": [
    "# Calculo de Minnesota\n",
    "df_calculos_base_fatiga['Minnesota'] = (1000000 * (df_calculos_base_fatiga['ni_transito'] / 0.00000283))**(-1 / 3.206)"
   ]
  },
  {
   "cell_type": "code",
   "execution_count": 134,
   "metadata": {},
   "outputs": [],
   "source": [
    "# Calculo de USACE\n",
    "df_calculos_base_fatiga['USACE'] = (1000000 * (df_calculos_base_fatiga['ni_transito'] / 478.63 * (145 * modulo_rigidez_MPa)**2.66))**(-1 / 5)"
   ]
  },
  {
   "cell_type": "code",
   "execution_count": 135,
   "metadata": {},
   "outputs": [],
   "source": [
    "#Calculo de ME-PDG\n",
    "df_calculos_base_fatiga['USACEME-PDG'] = (1000000 * (df_calculos_base_fatiga['ni_transito'] * rigidez_convertida**1.281 / (18.4 * 0.00432 * factor_ajuste_modelo * 0.007566 * factor_ajuste_resistencia)))**(-1 / 3.9492)"
   ]
  },
  {
   "cell_type": "code",
   "execution_count": 136,
   "metadata": {},
   "outputs": [],
   "source": [
    "# #Calculo de AUSTROADS\n",
    "df_calculos_base_fatiga['AUSTROADS'] = ((df_calculos_base_fatiga['ni_transito'] / 2)**-0.2 * 6918 * (0.856 * 11 + 1.08) / (modulo_rigidez_MPa**0.36))"
   ]
  },
  {
   "cell_type": "code",
   "execution_count": 139,
   "metadata": {},
   "outputs": [
    {
     "data": {
      "text/html": [
       "<div>\n",
       "<style scoped>\n",
       "    .dataframe tbody tr th:only-of-type {\n",
       "        vertical-align: middle;\n",
       "    }\n",
       "\n",
       "    .dataframe tbody tr th {\n",
       "        vertical-align: top;\n",
       "    }\n",
       "\n",
       "    .dataframe thead th {\n",
       "        text-align: right;\n",
       "    }\n",
       "</style>\n",
       "<table border=\"1\" class=\"dataframe\">\n",
       "  <thead>\n",
       "    <tr style=\"text-align: right;\">\n",
       "      <th></th>\n",
       "      <th>ni_transito</th>\n",
       "      <th>SPDM</th>\n",
       "      <th>AI MS-1</th>\n",
       "      <th>Cedex-Shell</th>\n",
       "      <th>Illinois</th>\n",
       "      <th>Minnesota</th>\n",
       "      <th>USACE</th>\n",
       "      <th>USACEME-PDG</th>\n",
       "      <th>AUSTROADS</th>\n",
       "    </tr>\n",
       "  </thead>\n",
       "  <tbody>\n",
       "    <tr>\n",
       "      <th>0</th>\n",
       "      <td>10000</td>\n",
       "      <td>882.810149</td>\n",
       "      <td>1.302333e-05</td>\n",
       "      <td>1.214758e-05</td>\n",
       "      <td>7.937005e-06</td>\n",
       "      <td>1.413437e-05</td>\n",
       "      <td>0.000028</td>\n",
       "      <td>0.000023</td>\n",
       "      <td>639.814199</td>\n",
       "    </tr>\n",
       "    <tr>\n",
       "      <th>1</th>\n",
       "      <td>100000</td>\n",
       "      <td>557.015547</td>\n",
       "      <td>6.469384e-06</td>\n",
       "      <td>6.487162e-06</td>\n",
       "      <td>3.684031e-06</td>\n",
       "      <td>6.892255e-06</td>\n",
       "      <td>0.000017</td>\n",
       "      <td>0.000013</td>\n",
       "      <td>403.695468</td>\n",
       "    </tr>\n",
       "    <tr>\n",
       "      <th>2</th>\n",
       "      <td>1000000</td>\n",
       "      <td>351.453050</td>\n",
       "      <td>3.213689e-06</td>\n",
       "      <td>3.464334e-06</td>\n",
       "      <td>1.709976e-06</td>\n",
       "      <td>3.360827e-06</td>\n",
       "      <td>0.000011</td>\n",
       "      <td>0.000007</td>\n",
       "      <td>254.714620</td>\n",
       "    </tr>\n",
       "    <tr>\n",
       "      <th>3</th>\n",
       "      <td>10000000</td>\n",
       "      <td>221.751883</td>\n",
       "      <td>1.596412e-06</td>\n",
       "      <td>1.850055e-06</td>\n",
       "      <td>7.937005e-07</td>\n",
       "      <td>1.638819e-06</td>\n",
       "      <td>0.000007</td>\n",
       "      <td>0.000004</td>\n",
       "      <td>160.714061</td>\n",
       "    </tr>\n",
       "    <tr>\n",
       "      <th>4</th>\n",
       "      <td>100000000</td>\n",
       "      <td>139.915979</td>\n",
       "      <td>7.930232e-07</td>\n",
       "      <td>9.879835e-07</td>\n",
       "      <td>3.684031e-07</td>\n",
       "      <td>7.991271e-07</td>\n",
       "      <td>0.000004</td>\n",
       "      <td>0.000002</td>\n",
       "      <td>101.403717</td>\n",
       "    </tr>\n",
       "    <tr>\n",
       "      <th>5</th>\n",
       "      <td>1000000000</td>\n",
       "      <td>88.281015</td>\n",
       "      <td>3.939371e-07</td>\n",
       "      <td>5.276120e-07</td>\n",
       "      <td>1.709976e-07</td>\n",
       "      <td>3.896733e-07</td>\n",
       "      <td>0.000003</td>\n",
       "      <td>0.000001</td>\n",
       "      <td>63.981420</td>\n",
       "    </tr>\n",
       "  </tbody>\n",
       "</table>\n",
       "</div>"
      ],
      "text/plain": [
       "   ni_transito        SPDM       AI MS-1   Cedex-Shell      Illinois  \\\n",
       "0        10000  882.810149  1.302333e-05  1.214758e-05  7.937005e-06   \n",
       "1       100000  557.015547  6.469384e-06  6.487162e-06  3.684031e-06   \n",
       "2      1000000  351.453050  3.213689e-06  3.464334e-06  1.709976e-06   \n",
       "3     10000000  221.751883  1.596412e-06  1.850055e-06  7.937005e-07   \n",
       "4    100000000  139.915979  7.930232e-07  9.879835e-07  3.684031e-07   \n",
       "5   1000000000   88.281015  3.939371e-07  5.276120e-07  1.709976e-07   \n",
       "\n",
       "      Minnesota     USACE  USACEME-PDG   AUSTROADS  \n",
       "0  1.413437e-05  0.000028     0.000023  639.814199  \n",
       "1  6.892255e-06  0.000017     0.000013  403.695468  \n",
       "2  3.360827e-06  0.000011     0.000007  254.714620  \n",
       "3  1.638819e-06  0.000007     0.000004  160.714061  \n",
       "4  7.991271e-07  0.000004     0.000002  101.403717  \n",
       "5  3.896733e-07  0.000003     0.000001   63.981420  "
      ]
     },
     "execution_count": 139,
     "metadata": {},
     "output_type": "execute_result"
    }
   ],
   "source": [
    "df_calculos_base_fatiga"
   ]
  },
  {
   "cell_type": "markdown",
   "metadata": {},
   "source": [
    "# Tabla de Calculo de indices de fatiga - tabla izquierda"
   ]
  },
  {
   "cell_type": "code",
   "execution_count": 138,
   "metadata": {},
   "outputs": [],
   "source": [
    "df_calculos_base_fatiga_iz = pd.DataFrame(\n",
    "    {\n",
    "        \"ni_transito\": []\n",
    "    }\n",
    ")"
   ]
  }
 ],
 "metadata": {
  "kernelspec": {
   "display_name": "env",
   "language": "python",
   "name": "python3"
  },
  "language_info": {
   "codemirror_mode": {
    "name": "ipython",
    "version": 3
   },
   "file_extension": ".py",
   "mimetype": "text/x-python",
   "name": "python",
   "nbconvert_exporter": "python",
   "pygments_lexer": "ipython3",
   "version": "3.11.9"
  }
 },
 "nbformat": 4,
 "nbformat_minor": 2
}
