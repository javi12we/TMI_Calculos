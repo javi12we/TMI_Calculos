{
 "cells": [
  {
   "cell_type": "code",
   "execution_count": 67,
   "metadata": {},
   "outputs": [],
   "source": [
    "import pandas as pd\n",
    "import numpy as np"
   ]
  },
  {
   "cell_type": "code",
   "execution_count": 68,
   "metadata": {},
   "outputs": [],
   "source": [
    "df_micro = pd.DataFrame(\n",
    "    {\n",
    "        \"ni_transito\": [\n",
    "            10000,\n",
    "            100000,\n",
    "            1000000,\n",
    "            10000000,\n",
    "            100000000,\n",
    "            1000000000,\n",
    "        ]\n",
    "    }\n",
    ")"
   ]
  },
  {
   "cell_type": "code",
   "execution_count": 69,
   "metadata": {},
   "outputs": [
    {
     "data": {
      "text/html": [
       "<div>\n",
       "<style scoped>\n",
       "    .dataframe tbody tr th:only-of-type {\n",
       "        vertical-align: middle;\n",
       "    }\n",
       "\n",
       "    .dataframe tbody tr th {\n",
       "        vertical-align: top;\n",
       "    }\n",
       "\n",
       "    .dataframe thead th {\n",
       "        text-align: right;\n",
       "    }\n",
       "</style>\n",
       "<table border=\"1\" class=\"dataframe\">\n",
       "  <thead>\n",
       "    <tr style=\"text-align: right;\">\n",
       "      <th></th>\n",
       "      <th>ni_transito</th>\n",
       "    </tr>\n",
       "  </thead>\n",
       "  <tbody>\n",
       "    <tr>\n",
       "      <th>0</th>\n",
       "      <td>10000</td>\n",
       "    </tr>\n",
       "    <tr>\n",
       "      <th>1</th>\n",
       "      <td>100000</td>\n",
       "    </tr>\n",
       "    <tr>\n",
       "      <th>2</th>\n",
       "      <td>1000000</td>\n",
       "    </tr>\n",
       "    <tr>\n",
       "      <th>3</th>\n",
       "      <td>10000000</td>\n",
       "    </tr>\n",
       "    <tr>\n",
       "      <th>4</th>\n",
       "      <td>100000000</td>\n",
       "    </tr>\n",
       "    <tr>\n",
       "      <th>5</th>\n",
       "      <td>1000000000</td>\n",
       "    </tr>\n",
       "  </tbody>\n",
       "</table>\n",
       "</div>"
      ],
      "text/plain": [
       "   ni_transito\n",
       "0        10000\n",
       "1       100000\n",
       "2      1000000\n",
       "3     10000000\n",
       "4    100000000\n",
       "5   1000000000"
      ]
     },
     "execution_count": 69,
     "metadata": {},
     "output_type": "execute_result"
    }
   ],
   "source": [
    "df_micro"
   ]
  },
  {
   "cell_type": "markdown",
   "metadata": {},
   "source": [
    "# FORMULAS FIJAS DEL MODELO"
   ]
  },
  {
   "cell_type": "code",
   "execution_count": 70,
   "metadata": {},
   "outputs": [],
   "source": [
    "modulo_rigidez_MPa = 4500\n",
    "espesor_mezcla_asfaltica_cm = 15\n",
    "numero_ciclos_carga = 134"
   ]
  },
  {
   "cell_type": "code",
   "execution_count": 71,
   "metadata": {},
   "outputs": [
    {
     "data": {
      "text/plain": [
       "652500"
      ]
     },
     "execution_count": 71,
     "metadata": {},
     "output_type": "execute_result"
    }
   ],
   "source": [
    "rigidez_convertida = 145 * modulo_rigidez_MPa\n",
    "rigidez_convertida\n"
   ]
  },
  {
   "cell_type": "code",
   "execution_count": 72,
   "metadata": {},
   "outputs": [
    {
     "data": {
      "text/plain": [
       "15"
      ]
     },
     "execution_count": 72,
     "metadata": {},
     "output_type": "execute_result"
    }
   ],
   "source": [
    "espesor_mezcla_pulgadas = espesor_mezcla_asfaltica_cm / 2.54\n",
    "espesor_mezcla_asfaltica_cm"
   ]
  },
  {
   "cell_type": "code",
   "execution_count": 73,
   "metadata": {},
   "outputs": [
    {
     "data": {
      "text/plain": [
       "0.9725232662363479"
      ]
     },
     "execution_count": 73,
     "metadata": {},
     "output_type": "execute_result"
    }
   ],
   "source": [
    "factor_ajuste_modelo = 10 ** (4.84 * (11 / (11 + 5) - 0.69))\n",
    "factor_ajuste_modelo"
   ]
  },
  {
   "cell_type": "code",
   "execution_count": 74,
   "metadata": {},
   "outputs": [
    {
     "data": {
      "text/plain": [
       "250.01539692873743"
      ]
     },
     "execution_count": 74,
     "metadata": {},
     "output_type": "execute_result"
    }
   ],
   "source": [
    "factor_ajuste_resistencia = float(1 / (0.000398 + (0.003602 / (1 + np.exp(11.02 - 3.49 * espesor_mezcla_pulgadas)))))\n",
    "factor_ajuste_resistencia"
   ]
  },
  {
   "cell_type": "markdown",
   "metadata": {},
   "source": [
    "# Tabla de Calculo de indices de fatiga - tabla derecha"
   ]
  },
  {
   "cell_type": "code",
   "execution_count": 75,
   "metadata": {},
   "outputs": [],
   "source": [
    "# COPIA DF micro a  calculos base fatiga\n",
    "df_calculos_base_fatiga = df_micro.copy()"
   ]
  },
  {
   "cell_type": "code",
   "execution_count": 76,
   "metadata": {},
   "outputs": [
    {
     "data": {
      "text/html": [
       "<div>\n",
       "<style scoped>\n",
       "    .dataframe tbody tr th:only-of-type {\n",
       "        vertical-align: middle;\n",
       "    }\n",
       "\n",
       "    .dataframe tbody tr th {\n",
       "        vertical-align: top;\n",
       "    }\n",
       "\n",
       "    .dataframe thead th {\n",
       "        text-align: right;\n",
       "    }\n",
       "</style>\n",
       "<table border=\"1\" class=\"dataframe\">\n",
       "  <thead>\n",
       "    <tr style=\"text-align: right;\">\n",
       "      <th></th>\n",
       "      <th>ni_transito</th>\n",
       "    </tr>\n",
       "  </thead>\n",
       "  <tbody>\n",
       "    <tr>\n",
       "      <th>0</th>\n",
       "      <td>10000</td>\n",
       "    </tr>\n",
       "    <tr>\n",
       "      <th>1</th>\n",
       "      <td>100000</td>\n",
       "    </tr>\n",
       "    <tr>\n",
       "      <th>2</th>\n",
       "      <td>1000000</td>\n",
       "    </tr>\n",
       "    <tr>\n",
       "      <th>3</th>\n",
       "      <td>10000000</td>\n",
       "    </tr>\n",
       "    <tr>\n",
       "      <th>4</th>\n",
       "      <td>100000000</td>\n",
       "    </tr>\n",
       "    <tr>\n",
       "      <th>5</th>\n",
       "      <td>1000000000</td>\n",
       "    </tr>\n",
       "  </tbody>\n",
       "</table>\n",
       "</div>"
      ],
      "text/plain": [
       "   ni_transito\n",
       "0        10000\n",
       "1       100000\n",
       "2      1000000\n",
       "3     10000000\n",
       "4    100000000\n",
       "5   1000000000"
      ]
     },
     "execution_count": 76,
     "metadata": {},
     "output_type": "execute_result"
    }
   ],
   "source": [
    "df_calculos_base_fatiga"
   ]
  },
  {
   "cell_type": "code",
   "execution_count": 77,
   "metadata": {},
   "outputs": [],
   "source": [
    "# Calculo SPDM DERECHO \n",
    "df_calculos_base_fatiga['SPDM'] = (1000000 * (df_calculos_base_fatiga['ni_transito'] * 1/10 * (0.856 * 11 + 1.08)**-5 * (modulo_rigidez_MPa * 1000000)**1.8)**(-1/5))"
   ]
  },
  {
   "cell_type": "code",
   "execution_count": 78,
   "metadata": {},
   "outputs": [],
   "source": [
    "# Calculo de AI MS-1\n",
    "df_calculos_base_fatiga['AI MS-1'] = 1000000 * ((df_calculos_base_fatiga['ni_transito'] * rigidez_convertida**0.854) / (18.4 * 0.00432 * factor_ajuste_modelo))**(-1 / 3.291)"
   ]
  },
  {
   "cell_type": "code",
   "execution_count": 79,
   "metadata": {},
   "outputs": [],
   "source": [
    "# Calculo de Cedex-Shell\n",
    "df_calculos_base_fatiga['Cedex-Shell'] = 1000000 * (df_calculos_base_fatiga['ni_transito'] / 0.00000000906)**(-1 / 3.6706)"
   ]
  },
  {
   "cell_type": "code",
   "execution_count": 80,
   "metadata": {},
   "outputs": [],
   "source": [
    "# Calculo de Illinois\n",
    "df_calculos_base_fatiga['Illinois'] = 1000000 * (df_calculos_base_fatiga['ni_transito'] / 0.000005)**(-1 / 3)"
   ]
  },
  {
   "cell_type": "code",
   "execution_count": 81,
   "metadata": {},
   "outputs": [],
   "source": [
    "# Calculo de Minnesota\n",
    "df_calculos_base_fatiga['Minnesota'] = 1000000 * (df_calculos_base_fatiga['ni_transito'] / 0.00000283)**(-1 / 3.206)"
   ]
  },
  {
   "cell_type": "code",
   "execution_count": 82,
   "metadata": {},
   "outputs": [],
   "source": [
    "# Calculo de USACE\n",
    "df_calculos_base_fatiga['USACE'] = 1000000 * (df_calculos_base_fatiga['ni_transito'] / 478.63 * (145 * modulo_rigidez_MPa)**2.66)**(-1 / 5)"
   ]
  },
  {
   "cell_type": "code",
   "execution_count": 83,
   "metadata": {},
   "outputs": [],
   "source": [
    "#Calculo de ME-PDG\n",
    "df_calculos_base_fatiga['ME-PDG'] = 1000000 * (df_calculos_base_fatiga['ni_transito'] * rigidez_convertida**1.281 / (18.4 * 0.00432 * factor_ajuste_modelo * 0.007566 * factor_ajuste_resistencia))**(-1 / 3.9492)"
   ]
  },
  {
   "cell_type": "code",
   "execution_count": 84,
   "metadata": {},
   "outputs": [],
   "source": [
    "# #Calculo de AUSTROADS\n",
    "df_calculos_base_fatiga['AUSTROADS'] = ((df_calculos_base_fatiga['ni_transito'] / 2)**-0.2 * 6918 * (0.856 * 11 + 1.08) / (modulo_rigidez_MPa**0.36))"
   ]
  },
  {
   "cell_type": "code",
   "execution_count": 85,
   "metadata": {},
   "outputs": [
    {
     "data": {
      "text/html": [
       "<div>\n",
       "<style scoped>\n",
       "    .dataframe tbody tr th:only-of-type {\n",
       "        vertical-align: middle;\n",
       "    }\n",
       "\n",
       "    .dataframe tbody tr th {\n",
       "        vertical-align: top;\n",
       "    }\n",
       "\n",
       "    .dataframe thead th {\n",
       "        text-align: right;\n",
       "    }\n",
       "</style>\n",
       "<table border=\"1\" class=\"dataframe\">\n",
       "  <thead>\n",
       "    <tr style=\"text-align: right;\">\n",
       "      <th></th>\n",
       "      <th>ni_transito</th>\n",
       "      <th>SPDM</th>\n",
       "      <th>AI MS-1</th>\n",
       "      <th>Cedex-Shell</th>\n",
       "      <th>Illinois</th>\n",
       "      <th>Minnesota</th>\n",
       "      <th>USACE</th>\n",
       "      <th>ME-PDG</th>\n",
       "      <th>AUSTROADS</th>\n",
       "    </tr>\n",
       "  </thead>\n",
       "  <tbody>\n",
       "    <tr>\n",
       "      <th>0</th>\n",
       "      <td>10000</td>\n",
       "      <td>882.810149</td>\n",
       "      <td>866.714311</td>\n",
       "      <td>523.720928</td>\n",
       "      <td>793.700526</td>\n",
       "      <td>1051.398728</td>\n",
       "      <td>439.180601</td>\n",
       "      <td>775.599737</td>\n",
       "      <td>639.814199</td>\n",
       "    </tr>\n",
       "    <tr>\n",
       "      <th>1</th>\n",
       "      <td>100000</td>\n",
       "      <td>557.015547</td>\n",
       "      <td>430.543422</td>\n",
       "      <td>279.682250</td>\n",
       "      <td>368.403150</td>\n",
       "      <td>512.686980</td>\n",
       "      <td>277.104226</td>\n",
       "      <td>432.934118</td>\n",
       "      <td>403.695468</td>\n",
       "    </tr>\n",
       "    <tr>\n",
       "      <th>2</th>\n",
       "      <td>1000000</td>\n",
       "      <td>351.453050</td>\n",
       "      <td>213.873979</td>\n",
       "      <td>149.358478</td>\n",
       "      <td>170.997595</td>\n",
       "      <td>249.998342</td>\n",
       "      <td>174.840946</td>\n",
       "      <td>241.660668</td>\n",
       "      <td>254.714620</td>\n",
       "    </tr>\n",
       "    <tr>\n",
       "      <th>3</th>\n",
       "      <td>10000000</td>\n",
       "      <td>221.751883</td>\n",
       "      <td>106.242661</td>\n",
       "      <td>79.761783</td>\n",
       "      <td>79.370053</td>\n",
       "      <td>121.905127</td>\n",
       "      <td>110.317179</td>\n",
       "      <td>134.893223</td>\n",
       "      <td>160.714061</td>\n",
       "    </tr>\n",
       "    <tr>\n",
       "      <th>4</th>\n",
       "      <td>100000000</td>\n",
       "      <td>139.915979</td>\n",
       "      <td>52.776420</td>\n",
       "      <td>42.595119</td>\n",
       "      <td>36.840315</td>\n",
       "      <td>59.443834</td>\n",
       "      <td>69.605434</td>\n",
       "      <td>75.296413</td>\n",
       "      <td>101.403717</td>\n",
       "    </tr>\n",
       "    <tr>\n",
       "      <th>5</th>\n",
       "      <td>1000000000</td>\n",
       "      <td>88.281015</td>\n",
       "      <td>26.216875</td>\n",
       "      <td>22.747036</td>\n",
       "      <td>17.099759</td>\n",
       "      <td>28.986225</td>\n",
       "      <td>43.918060</td>\n",
       "      <td>42.029909</td>\n",
       "      <td>63.981420</td>\n",
       "    </tr>\n",
       "  </tbody>\n",
       "</table>\n",
       "</div>"
      ],
      "text/plain": [
       "   ni_transito        SPDM     AI MS-1  Cedex-Shell    Illinois    Minnesota  \\\n",
       "0        10000  882.810149  866.714311   523.720928  793.700526  1051.398728   \n",
       "1       100000  557.015547  430.543422   279.682250  368.403150   512.686980   \n",
       "2      1000000  351.453050  213.873979   149.358478  170.997595   249.998342   \n",
       "3     10000000  221.751883  106.242661    79.761783   79.370053   121.905127   \n",
       "4    100000000  139.915979   52.776420    42.595119   36.840315    59.443834   \n",
       "5   1000000000   88.281015   26.216875    22.747036   17.099759    28.986225   \n",
       "\n",
       "        USACE      ME-PDG   AUSTROADS  \n",
       "0  439.180601  775.599737  639.814199  \n",
       "1  277.104226  432.934118  403.695468  \n",
       "2  174.840946  241.660668  254.714620  \n",
       "3  110.317179  134.893223  160.714061  \n",
       "4   69.605434   75.296413  101.403717  \n",
       "5   43.918060   42.029909   63.981420  "
      ]
     },
     "execution_count": 85,
     "metadata": {},
     "output_type": "execute_result"
    }
   ],
   "source": [
    "df_calculos_base_fatiga"
   ]
  },
  {
   "cell_type": "markdown",
   "metadata": {},
   "source": [
    "# Tabla de Calculo de indices de fatiga - tabla izquierda"
   ]
  }
 ],
 "metadata": {
  "kernelspec": {
   "display_name": "Python 3",
   "language": "python",
   "name": "python3"
  },
  "language_info": {
   "codemirror_mode": {
    "name": "ipython",
    "version": 3
   },
   "file_extension": ".py",
   "mimetype": "text/x-python",
   "name": "python",
   "nbconvert_exporter": "python",
   "pygments_lexer": "ipython3",
   "version": "3.10.9"
  }
 },
 "nbformat": 4,
 "nbformat_minor": 2
}
