{
 "cells": [
  {
   "cell_type": "code",
   "execution_count": 42,
   "metadata": {},
   "outputs": [],
   "source": [
    "import pandas as pd\n",
    "import numpy as np\n",
    "import plotly.express as px"
   ]
  },
  {
   "cell_type": "markdown",
   "metadata": {},
   "source": [
    "# Datos de entrada"
   ]
  },
  {
   "cell_type": "code",
   "execution_count": 43,
   "metadata": {},
   "outputs": [],
   "source": [
    "df_WPI = pd.DataFrame(\n",
    "    {\n",
    "        \"WPI\": [\n",
    "            0.1,\n",
    "            0.9,\n",
    "            0.3,\n",
    "            5,\n",
    "            10,\n",
    "            15,\n",
    "            20,\n",
    "            30,\n",
    "            40,\n",
    "            50,\n",
    "        ]\n",
    "    }\n",
    ")"
   ]
  },
  {
   "cell_type": "markdown",
   "metadata": {},
   "source": [
    "# TABLA HR -WPI"
   ]
  },
  {
   "cell_type": "code",
   "execution_count": 44,
   "metadata": {},
   "outputs": [],
   "source": [
    "df_WPI[\"a\"] = (0.00364 * df_WPI[\"WPI\"] ** 3.35 + 4 * df_WPI[\"WPI\"] + 11)"
   ]
  },
  {
   "cell_type": "code",
   "execution_count": 45,
   "metadata": {},
   "outputs": [],
   "source": [
    "df_WPI[\"c\"] = 0.0514 * df_WPI[\"WPI\"] ** 0.465 + 0.5"
   ]
  },
  {
   "cell_type": "code",
   "execution_count": 46,
   "metadata": {},
   "outputs": [],
   "source": [
    "df_WPI[\"b\"] = df_WPI[\"c\"] * (-2.313 * df_WPI[\"WPI\"] ** 0.14 + 5)"
   ]
  },
  {
   "cell_type": "code",
   "execution_count": 47,
   "metadata": {},
   "outputs": [],
   "source": [
    "df_WPI[\"hr\"] = (0.00364 * df_WPI[\"WPI\"] ** 3.35 + 4 * df_WPI[\"WPI\"] + 11) * 32.44 * np.exp(0.0186 * df_WPI[\"WPI\"])"
   ]
  },
  {
   "cell_type": "code",
   "execution_count": 48,
   "metadata": {},
   "outputs": [
    {
     "data": {
      "text/html": [
       "<div>\n",
       "<style scoped>\n",
       "    .dataframe tbody tr th:only-of-type {\n",
       "        vertical-align: middle;\n",
       "    }\n",
       "\n",
       "    .dataframe tbody tr th {\n",
       "        vertical-align: top;\n",
       "    }\n",
       "\n",
       "    .dataframe thead th {\n",
       "        text-align: right;\n",
       "    }\n",
       "</style>\n",
       "<table border=\"1\" class=\"dataframe\">\n",
       "  <thead>\n",
       "    <tr style=\"text-align: right;\">\n",
       "      <th></th>\n",
       "      <th>WPI</th>\n",
       "      <th>a</th>\n",
       "      <th>c</th>\n",
       "      <th>b</th>\n",
       "      <th>hr</th>\n",
       "    </tr>\n",
       "  </thead>\n",
       "  <tbody>\n",
       "    <tr>\n",
       "      <th>0</th>\n",
       "      <td>0.1</td>\n",
       "      <td>11.400002</td>\n",
       "      <td>0.517618</td>\n",
       "      <td>1.720760</td>\n",
       "      <td>370.504551</td>\n",
       "    </tr>\n",
       "    <tr>\n",
       "      <th>1</th>\n",
       "      <td>0.9</td>\n",
       "      <td>14.602557</td>\n",
       "      <td>0.548942</td>\n",
       "      <td>1.493600</td>\n",
       "      <td>481.703564</td>\n",
       "    </tr>\n",
       "    <tr>\n",
       "      <th>2</th>\n",
       "      <td>0.3</td>\n",
       "      <td>12.200064</td>\n",
       "      <td>0.529365</td>\n",
       "      <td>1.612330</td>\n",
       "      <td>397.984662</td>\n",
       "    </tr>\n",
       "    <tr>\n",
       "      <th>3</th>\n",
       "      <td>5.0</td>\n",
       "      <td>31.799192</td>\n",
       "      <td>0.608639</td>\n",
       "      <td>1.279630</td>\n",
       "      <td>1132.103965</td>\n",
       "    </tr>\n",
       "    <tr>\n",
       "      <th>4</th>\n",
       "      <td>10.0</td>\n",
       "      <td>59.148945</td>\n",
       "      <td>0.649956</td>\n",
       "      <td>1.174581</td>\n",
       "      <td>2311.035526</td>\n",
       "    </tr>\n",
       "    <tr>\n",
       "      <th>5</th>\n",
       "      <td>15.0</td>\n",
       "      <td>102.696193</td>\n",
       "      <td>0.681070</td>\n",
       "      <td>1.103801</td>\n",
       "      <td>4403.554240</td>\n",
       "    </tr>\n",
       "    <tr>\n",
       "      <th>6</th>\n",
       "      <td>20.0</td>\n",
       "      <td>174.090595</td>\n",
       "      <td>0.706987</td>\n",
       "      <td>1.047617</td>\n",
       "      <td>8192.448171</td>\n",
       "    </tr>\n",
       "    <tr>\n",
       "      <th>7</th>\n",
       "      <td>30.0</td>\n",
       "      <td>454.189756</td>\n",
       "      <td>0.749934</td>\n",
       "      <td>0.957154</td>\n",
       "      <td>25742.724055</td>\n",
       "    </tr>\n",
       "    <tr>\n",
       "      <th>8</th>\n",
       "      <td>40.0</td>\n",
       "      <td>1018.232008</td>\n",
       "      <td>0.785707</td>\n",
       "      <td>0.882572</td>\n",
       "      <td>69509.263166</td>\n",
       "    </tr>\n",
       "    <tr>\n",
       "      <th>9</th>\n",
       "      <td>50.0</td>\n",
       "      <td>2000.167078</td>\n",
       "      <td>0.816945</td>\n",
       "      <td>0.817160</td>\n",
       "      <td>164452.692490</td>\n",
       "    </tr>\n",
       "  </tbody>\n",
       "</table>\n",
       "</div>"
      ],
      "text/plain": [
       "    WPI            a         c         b             hr\n",
       "0   0.1    11.400002  0.517618  1.720760     370.504551\n",
       "1   0.9    14.602557  0.548942  1.493600     481.703564\n",
       "2   0.3    12.200064  0.529365  1.612330     397.984662\n",
       "3   5.0    31.799192  0.608639  1.279630    1132.103965\n",
       "4  10.0    59.148945  0.649956  1.174581    2311.035526\n",
       "5  15.0   102.696193  0.681070  1.103801    4403.554240\n",
       "6  20.0   174.090595  0.706987  1.047617    8192.448171\n",
       "7  30.0   454.189756  0.749934  0.957154   25742.724055\n",
       "8  40.0  1018.232008  0.785707  0.882572   69509.263166\n",
       "9  50.0  2000.167078  0.816945  0.817160  164452.692490"
      ]
     },
     "execution_count": 48,
     "metadata": {},
     "output_type": "execute_result"
    }
   ],
   "source": [
    "df_WPI"
   ]
  },
  {
   "cell_type": "markdown",
   "metadata": {},
   "source": [
    "# Tabla Ch"
   ]
  },
  {
   "cell_type": "code",
   "execution_count": 49,
   "metadata": {},
   "outputs": [],
   "source": [
    "df_CH = pd.DataFrame(\n",
    "    {\n",
    "        \"h\": [\n",
    "            0.1,\n",
    "            1,\n",
    "            10,\n",
    "            100,\n",
    "            1000,\n",
    "            10000,\n",
    "            100000,\n",
    "            1000000,\n",
    "        ]\n",
    "    }\n",
    ")"
   ]
  },
  {
   "cell_type": "code",
   "execution_count": 50,
   "metadata": {},
   "outputs": [],
   "source": [
    "# Crear la tabla C(h) usando los valores de hr en df_WPI y los valores de h en df_CH\n",
    "for index, row in df_WPI.iterrows():\n",
    "    df_CH[f\"C(h)_WPI_{row['WPI']}\"] = df_CH[\"h\"].apply(lambda h, hr_value = row[\"hr\"]: 1 - np.log(1 + h / hr_value) / np.log(1 + 1000000 / hr_value))"
   ]
  },
  {
   "cell_type": "code",
   "execution_count": 51,
   "metadata": {},
   "outputs": [
    {
     "data": {
      "text/html": [
       "<div>\n",
       "<style scoped>\n",
       "    .dataframe tbody tr th:only-of-type {\n",
       "        vertical-align: middle;\n",
       "    }\n",
       "\n",
       "    .dataframe tbody tr th {\n",
       "        vertical-align: top;\n",
       "    }\n",
       "\n",
       "    .dataframe thead th {\n",
       "        text-align: right;\n",
       "    }\n",
       "</style>\n",
       "<table border=\"1\" class=\"dataframe\">\n",
       "  <thead>\n",
       "    <tr style=\"text-align: right;\">\n",
       "      <th></th>\n",
       "      <th>h</th>\n",
       "      <th>C(h)_WPI_0.1</th>\n",
       "      <th>C(h)_WPI_0.9</th>\n",
       "      <th>C(h)_WPI_0.3</th>\n",
       "      <th>C(h)_WPI_5.0</th>\n",
       "      <th>C(h)_WPI_10.0</th>\n",
       "      <th>C(h)_WPI_15.0</th>\n",
       "      <th>C(h)_WPI_20.0</th>\n",
       "      <th>C(h)_WPI_30.0</th>\n",
       "      <th>C(h)_WPI_40.0</th>\n",
       "      <th>C(h)_WPI_50.0</th>\n",
       "    </tr>\n",
       "  </thead>\n",
       "  <tbody>\n",
       "    <tr>\n",
       "      <th>0</th>\n",
       "      <td>0.1</td>\n",
       "      <td>0.999966</td>\n",
       "      <td>0.999973</td>\n",
       "      <td>0.999968</td>\n",
       "      <td>0.999987</td>\n",
       "      <td>0.999993</td>\n",
       "      <td>0.999996</td>\n",
       "      <td>0.999997</td>\n",
       "      <td>0.999999</td>\n",
       "      <td>0.999999</td>\n",
       "      <td>1.000000</td>\n",
       "    </tr>\n",
       "    <tr>\n",
       "      <th>1</th>\n",
       "      <td>1.0</td>\n",
       "      <td>0.999659</td>\n",
       "      <td>0.999729</td>\n",
       "      <td>0.999679</td>\n",
       "      <td>0.999870</td>\n",
       "      <td>0.999929</td>\n",
       "      <td>0.999958</td>\n",
       "      <td>0.999975</td>\n",
       "      <td>0.999989</td>\n",
       "      <td>0.999995</td>\n",
       "      <td>0.999997</td>\n",
       "    </tr>\n",
       "    <tr>\n",
       "      <th>2</th>\n",
       "      <td>10.0</td>\n",
       "      <td>0.996629</td>\n",
       "      <td>0.997310</td>\n",
       "      <td>0.996830</td>\n",
       "      <td>0.998704</td>\n",
       "      <td>0.999289</td>\n",
       "      <td>0.999582</td>\n",
       "      <td>0.999747</td>\n",
       "      <td>0.999895</td>\n",
       "      <td>0.999947</td>\n",
       "      <td>0.999969</td>\n",
       "    </tr>\n",
       "    <tr>\n",
       "      <th>3</th>\n",
       "      <td>100.0</td>\n",
       "      <td>0.969758</td>\n",
       "      <td>0.975306</td>\n",
       "      <td>0.971370</td>\n",
       "      <td>0.987524</td>\n",
       "      <td>0.993024</td>\n",
       "      <td>0.995864</td>\n",
       "      <td>0.997479</td>\n",
       "      <td>0.998948</td>\n",
       "      <td>0.999474</td>\n",
       "      <td>0.999689</td>\n",
       "    </tr>\n",
       "    <tr>\n",
       "      <th>4</th>\n",
       "      <td>1000.0</td>\n",
       "      <td>0.834443</td>\n",
       "      <td>0.852904</td>\n",
       "      <td>0.839533</td>\n",
       "      <td>0.906699</td>\n",
       "      <td>0.940787</td>\n",
       "      <td>0.962310</td>\n",
       "      <td>0.976070</td>\n",
       "      <td>0.989658</td>\n",
       "      <td>0.994774</td>\n",
       "      <td>0.996903</td>\n",
       "    </tr>\n",
       "    <tr>\n",
       "      <th>5</th>\n",
       "      <td>10000.0</td>\n",
       "      <td>0.578300</td>\n",
       "      <td>0.596781</td>\n",
       "      <td>0.583248</td>\n",
       "      <td>0.663107</td>\n",
       "      <td>0.724523</td>\n",
       "      <td>0.781746</td>\n",
       "      <td>0.834232</td>\n",
       "      <td>0.910938</td>\n",
       "      <td>0.950827</td>\n",
       "      <td>0.969842</td>\n",
       "    </tr>\n",
       "    <tr>\n",
       "      <th>6</th>\n",
       "      <td>100000.0</td>\n",
       "      <td>0.291008</td>\n",
       "      <td>0.300872</td>\n",
       "      <td>0.293635</td>\n",
       "      <td>0.337881</td>\n",
       "      <td>0.375808</td>\n",
       "      <td>0.416942</td>\n",
       "      <td>0.463773</td>\n",
       "      <td>0.569586</td>\n",
       "      <td>0.673880</td>\n",
       "      <td>0.757309</td>\n",
       "    </tr>\n",
       "    <tr>\n",
       "      <th>7</th>\n",
       "      <td>1000000.0</td>\n",
       "      <td>0.000000</td>\n",
       "      <td>0.000000</td>\n",
       "      <td>0.000000</td>\n",
       "      <td>0.000000</td>\n",
       "      <td>0.000000</td>\n",
       "      <td>0.000000</td>\n",
       "      <td>0.000000</td>\n",
       "      <td>0.000000</td>\n",
       "      <td>0.000000</td>\n",
       "      <td>0.000000</td>\n",
       "    </tr>\n",
       "  </tbody>\n",
       "</table>\n",
       "</div>"
      ],
      "text/plain": [
       "           h  C(h)_WPI_0.1  C(h)_WPI_0.9  C(h)_WPI_0.3  C(h)_WPI_5.0  \\\n",
       "0        0.1      0.999966      0.999973      0.999968      0.999987   \n",
       "1        1.0      0.999659      0.999729      0.999679      0.999870   \n",
       "2       10.0      0.996629      0.997310      0.996830      0.998704   \n",
       "3      100.0      0.969758      0.975306      0.971370      0.987524   \n",
       "4     1000.0      0.834443      0.852904      0.839533      0.906699   \n",
       "5    10000.0      0.578300      0.596781      0.583248      0.663107   \n",
       "6   100000.0      0.291008      0.300872      0.293635      0.337881   \n",
       "7  1000000.0      0.000000      0.000000      0.000000      0.000000   \n",
       "\n",
       "   C(h)_WPI_10.0  C(h)_WPI_15.0  C(h)_WPI_20.0  C(h)_WPI_30.0  C(h)_WPI_40.0  \\\n",
       "0       0.999993       0.999996       0.999997       0.999999       0.999999   \n",
       "1       0.999929       0.999958       0.999975       0.999989       0.999995   \n",
       "2       0.999289       0.999582       0.999747       0.999895       0.999947   \n",
       "3       0.993024       0.995864       0.997479       0.998948       0.999474   \n",
       "4       0.940787       0.962310       0.976070       0.989658       0.994774   \n",
       "5       0.724523       0.781746       0.834232       0.910938       0.950827   \n",
       "6       0.375808       0.416942       0.463773       0.569586       0.673880   \n",
       "7       0.000000       0.000000       0.000000       0.000000       0.000000   \n",
       "\n",
       "   C(h)_WPI_50.0  \n",
       "0       1.000000  \n",
       "1       0.999997  \n",
       "2       0.999969  \n",
       "3       0.999689  \n",
       "4       0.996903  \n",
       "5       0.969842  \n",
       "6       0.757309  \n",
       "7       0.000000  "
      ]
     },
     "execution_count": 51,
     "metadata": {},
     "output_type": "execute_result"
    }
   ],
   "source": [
    "df_CH"
   ]
  },
  {
   "cell_type": "markdown",
   "metadata": {},
   "source": [
    "# Tabla S"
   ]
  },
  {
   "cell_type": "code",
   "execution_count": 52,
   "metadata": {},
   "outputs": [],
   "source": [
    "# Crear una tabla de S usando los valores calculados para C(h)\n",
    "df_S = df_CH[[\"h\"]].copy()  # Copiar solo la columna h"
   ]
  },
  {
   "cell_type": "code",
   "execution_count": 53,
   "metadata": {},
   "outputs": [],
   "source": [
    "# Calcular S para cada conjunto de parámetros a, b, c, y cada valor de C(h) en df_CH\n",
    "for index, row in df_WPI.iterrows():\n",
    "    a_value = row[\"a\"]\n",
    "    b_value = row[\"b\"]\n",
    "    c_value = row[\"c\"]\n",
    "    column_name = f\"{row['WPI']}\"\n",
    "    df_S[column_name] = df_CH[f\"C(h)_WPI_{row['WPI']}\"] * (1 / (np.log(np.exp(1) + (df_CH[\"h\"] / a_value)**b_value)**c_value))"
   ]
  },
  {
   "cell_type": "code",
   "execution_count": 54,
   "metadata": {},
   "outputs": [
    {
     "data": {
      "text/html": [
       "<div>\n",
       "<style scoped>\n",
       "    .dataframe tbody tr th:only-of-type {\n",
       "        vertical-align: middle;\n",
       "    }\n",
       "\n",
       "    .dataframe tbody tr th {\n",
       "        vertical-align: top;\n",
       "    }\n",
       "\n",
       "    .dataframe thead th {\n",
       "        text-align: right;\n",
       "    }\n",
       "</style>\n",
       "<table border=\"1\" class=\"dataframe\">\n",
       "  <thead>\n",
       "    <tr style=\"text-align: right;\">\n",
       "      <th></th>\n",
       "      <th>h</th>\n",
       "      <th>0.1</th>\n",
       "      <th>0.9</th>\n",
       "      <th>0.3</th>\n",
       "      <th>5.0</th>\n",
       "      <th>10.0</th>\n",
       "      <th>15.0</th>\n",
       "      <th>20.0</th>\n",
       "      <th>30.0</th>\n",
       "      <th>40.0</th>\n",
       "      <th>50.0</th>\n",
       "    </tr>\n",
       "  </thead>\n",
       "  <tbody>\n",
       "    <tr>\n",
       "      <th>0</th>\n",
       "      <td>0.1</td>\n",
       "      <td>0.999911</td>\n",
       "      <td>0.999855</td>\n",
       "      <td>0.999884</td>\n",
       "      <td>0.999846</td>\n",
       "      <td>0.999860</td>\n",
       "      <td>0.999877</td>\n",
       "      <td>0.999893</td>\n",
       "      <td>0.999912</td>\n",
       "      <td>0.999916</td>\n",
       "      <td>0.999908</td>\n",
       "    </tr>\n",
       "    <tr>\n",
       "      <th>1</th>\n",
       "      <td>1.0</td>\n",
       "      <td>0.996789</td>\n",
       "      <td>0.996079</td>\n",
       "      <td>0.996258</td>\n",
       "      <td>0.997209</td>\n",
       "      <td>0.997954</td>\n",
       "      <td>0.998454</td>\n",
       "      <td>0.998809</td>\n",
       "      <td>0.999201</td>\n",
       "      <td>0.999355</td>\n",
       "      <td>0.999394</td>\n",
       "    </tr>\n",
       "    <tr>\n",
       "      <th>2</th>\n",
       "      <td>10.0</td>\n",
       "      <td>0.885190</td>\n",
       "      <td>0.906574</td>\n",
       "      <td>0.890827</td>\n",
       "      <td>0.952790</td>\n",
       "      <td>0.971351</td>\n",
       "      <td>0.981127</td>\n",
       "      <td>0.987027</td>\n",
       "      <td>0.992835</td>\n",
       "      <td>0.995104</td>\n",
       "      <td>0.996037</td>\n",
       "    </tr>\n",
       "    <tr>\n",
       "      <th>3</th>\n",
       "      <td>100.0</td>\n",
       "      <td>0.485945</td>\n",
       "      <td>0.532011</td>\n",
       "      <td>0.502031</td>\n",
       "      <td>0.657051</td>\n",
       "      <td>0.756501</td>\n",
       "      <td>0.830539</td>\n",
       "      <td>0.883546</td>\n",
       "      <td>0.941037</td>\n",
       "      <td>0.964516</td>\n",
       "      <td>0.974824</td>\n",
       "    </tr>\n",
       "    <tr>\n",
       "      <th>4</th>\n",
       "      <td>1000.0</td>\n",
       "      <td>0.290087</td>\n",
       "      <td>0.310055</td>\n",
       "      <td>0.297301</td>\n",
       "      <td>0.365716</td>\n",
       "      <td>0.423460</td>\n",
       "      <td>0.487840</td>\n",
       "      <td>0.560257</td>\n",
       "      <td>0.702834</td>\n",
       "      <td>0.805091</td>\n",
       "      <td>0.865070</td>\n",
       "    </tr>\n",
       "    <tr>\n",
       "      <th>5</th>\n",
       "      <td>10000.0</td>\n",
       "      <td>0.162177</td>\n",
       "      <td>0.170945</td>\n",
       "      <td>0.165361</td>\n",
       "      <td>0.196762</td>\n",
       "      <td>0.225302</td>\n",
       "      <td>0.258729</td>\n",
       "      <td>0.298350</td>\n",
       "      <td>0.390773</td>\n",
       "      <td>0.489977</td>\n",
       "      <td>0.583366</td>\n",
       "    </tr>\n",
       "    <tr>\n",
       "      <th>6</th>\n",
       "      <td>100000.0</td>\n",
       "      <td>0.070143</td>\n",
       "      <td>0.073015</td>\n",
       "      <td>0.071212</td>\n",
       "      <td>0.081690</td>\n",
       "      <td>0.091901</td>\n",
       "      <td>0.104787</td>\n",
       "      <td>0.121381</td>\n",
       "      <td>0.165936</td>\n",
       "      <td>0.222612</td>\n",
       "      <td>0.285398</td>\n",
       "    </tr>\n",
       "    <tr>\n",
       "      <th>7</th>\n",
       "      <td>1000000.0</td>\n",
       "      <td>0.000000</td>\n",
       "      <td>0.000000</td>\n",
       "      <td>0.000000</td>\n",
       "      <td>0.000000</td>\n",
       "      <td>0.000000</td>\n",
       "      <td>0.000000</td>\n",
       "      <td>0.000000</td>\n",
       "      <td>0.000000</td>\n",
       "      <td>0.000000</td>\n",
       "      <td>0.000000</td>\n",
       "    </tr>\n",
       "  </tbody>\n",
       "</table>\n",
       "</div>"
      ],
      "text/plain": [
       "           h       0.1       0.9       0.3       5.0      10.0      15.0  \\\n",
       "0        0.1  0.999911  0.999855  0.999884  0.999846  0.999860  0.999877   \n",
       "1        1.0  0.996789  0.996079  0.996258  0.997209  0.997954  0.998454   \n",
       "2       10.0  0.885190  0.906574  0.890827  0.952790  0.971351  0.981127   \n",
       "3      100.0  0.485945  0.532011  0.502031  0.657051  0.756501  0.830539   \n",
       "4     1000.0  0.290087  0.310055  0.297301  0.365716  0.423460  0.487840   \n",
       "5    10000.0  0.162177  0.170945  0.165361  0.196762  0.225302  0.258729   \n",
       "6   100000.0  0.070143  0.073015  0.071212  0.081690  0.091901  0.104787   \n",
       "7  1000000.0  0.000000  0.000000  0.000000  0.000000  0.000000  0.000000   \n",
       "\n",
       "       20.0      30.0      40.0      50.0  \n",
       "0  0.999893  0.999912  0.999916  0.999908  \n",
       "1  0.998809  0.999201  0.999355  0.999394  \n",
       "2  0.987027  0.992835  0.995104  0.996037  \n",
       "3  0.883546  0.941037  0.964516  0.974824  \n",
       "4  0.560257  0.702834  0.805091  0.865070  \n",
       "5  0.298350  0.390773  0.489977  0.583366  \n",
       "6  0.121381  0.165936  0.222612  0.285398  \n",
       "7  0.000000  0.000000  0.000000  0.000000  "
      ]
     },
     "execution_count": 54,
     "metadata": {},
     "output_type": "execute_result"
    }
   ],
   "source": [
    "df_S"
   ]
  },
  {
   "cell_type": "code",
   "execution_count": 63,
   "metadata": {},
   "outputs": [
    {
     "data": {
      "application/vnd.plotly.v1+json": {
       "config": {
        "plotlyServerURL": "https://plot.ly"
       },
       "data": [
        {
         "hovertemplate": "WPI=0.1<br>Succión (kPa)=%{x}<br>Grado de saturación=%{y}<extra></extra>",
         "legendgroup": "0.1",
         "line": {
          "color": "#636efa",
          "dash": "solid"
         },
         "marker": {
          "symbol": "circle"
         },
         "mode": "lines",
         "name": "0.1",
         "orientation": "v",
         "showlegend": true,
         "type": "scatter",
         "x": [
          0.1,
          1,
          10,
          100,
          1000,
          10000,
          100000,
          1000000
         ],
         "xaxis": "x",
         "y": [
          0.9999108643426733,
          0.9967890866219195,
          0.8851897468402793,
          0.4859445197030862,
          0.2900870774816237,
          0.16217683235329952,
          0.07014325094659907,
          0
         ],
         "yaxis": "y"
        },
        {
         "hovertemplate": "WPI=0.9<br>Succión (kPa)=%{x}<br>Grado de saturación=%{y}<extra></extra>",
         "legendgroup": "0.9",
         "line": {
          "color": "#EF553B",
          "dash": "solid"
         },
         "marker": {
          "symbol": "circle"
         },
         "mode": "lines",
         "name": "0.9",
         "orientation": "v",
         "showlegend": true,
         "type": "scatter",
         "x": [
          0.1,
          1,
          10,
          100,
          1000,
          10000,
          100000,
          1000000
         ],
         "xaxis": "x",
         "y": [
          0.999854709111683,
          0.9960790387044294,
          0.9065738364768965,
          0.5320113192133901,
          0.3100552418714057,
          0.17094525212791117,
          0.07301510156190015,
          0
         ],
         "yaxis": "y"
        },
        {
         "hovertemplate": "WPI=0.3<br>Succión (kPa)=%{x}<br>Grado de saturación=%{y}<extra></extra>",
         "legendgroup": "0.3",
         "line": {
          "color": "#00cc96",
          "dash": "solid"
         },
         "marker": {
          "symbol": "circle"
         },
         "mode": "lines",
         "name": "0.3",
         "orientation": "v",
         "showlegend": true,
         "type": "scatter",
         "x": [
          0.1,
          1,
          10,
          100,
          1000,
          10000,
          100000,
          1000000
         ],
         "xaxis": "x",
         "y": [
          0.9998836842019196,
          0.996258237270989,
          0.890826754196941,
          0.5020308658918793,
          0.2973008695361882,
          0.1653612420904644,
          0.07121198300197626,
          0
         ],
         "yaxis": "y"
        },
        {
         "hovertemplate": "WPI=5.0<br>Succión (kPa)=%{x}<br>Grado de saturación=%{y}<extra></extra>",
         "legendgroup": "5.0",
         "line": {
          "color": "#ab63fa",
          "dash": "solid"
         },
         "marker": {
          "symbol": "circle"
         },
         "mode": "lines",
         "name": "5.0",
         "orientation": "v",
         "showlegend": true,
         "type": "scatter",
         "x": [
          0.1,
          1,
          10,
          100,
          1000,
          10000,
          100000,
          1000000
         ],
         "xaxis": "x",
         "y": [
          0.9998464541256574,
          0.9972092106957248,
          0.9527901869730107,
          0.6570513720197361,
          0.3657157651237924,
          0.19676196411090677,
          0.08169004947960572,
          0
         ],
         "yaxis": "y"
        },
        {
         "hovertemplate": "WPI=10.0<br>Succión (kPa)=%{x}<br>Grado de saturación=%{y}<extra></extra>",
         "legendgroup": "10.0",
         "line": {
          "color": "#FFA15A",
          "dash": "solid"
         },
         "marker": {
          "symbol": "circle"
         },
         "mode": "lines",
         "name": "10.0",
         "orientation": "v",
         "showlegend": true,
         "type": "scatter",
         "x": [
          0.1,
          1,
          10,
          100,
          1000,
          10000,
          100000,
          1000000
         ],
         "xaxis": "x",
         "y": [
          0.9998602596303462,
          0.997954011794337,
          0.9713509412958073,
          0.756500628533051,
          0.42346025555550765,
          0.22530159681669007,
          0.09190055862147582,
          0
         ],
         "yaxis": "y"
        },
        {
         "hovertemplate": "WPI=15.0<br>Succión (kPa)=%{x}<br>Grado de saturación=%{y}<extra></extra>",
         "legendgroup": "15.0",
         "line": {
          "color": "#19d3f3",
          "dash": "solid"
         },
         "marker": {
          "symbol": "circle"
         },
         "mode": "lines",
         "name": "15.0",
         "orientation": "v",
         "showlegend": true,
         "type": "scatter",
         "x": [
          0.1,
          1,
          10,
          100,
          1000,
          10000,
          100000,
          1000000
         ],
         "xaxis": "x",
         "y": [
          0.9998770665612424,
          0.9984542209114152,
          0.9811266595661681,
          0.8305386580543777,
          0.4878403795147074,
          0.25872949238348913,
          0.10478652772875649,
          0
         ],
         "yaxis": "y"
        },
        {
         "hovertemplate": "WPI=20.0<br>Succión (kPa)=%{x}<br>Grado de saturación=%{y}<extra></extra>",
         "legendgroup": "20.0",
         "line": {
          "color": "#FF6692",
          "dash": "solid"
         },
         "marker": {
          "symbol": "circle"
         },
         "mode": "lines",
         "name": "20.0",
         "orientation": "v",
         "showlegend": true,
         "type": "scatter",
         "x": [
          0.1,
          1,
          10,
          100,
          1000,
          10000,
          100000,
          1000000
         ],
         "xaxis": "x",
         "y": [
          0.9998927657050272,
          0.9988087371037804,
          0.9870273448396957,
          0.8835457870793921,
          0.5602566923664334,
          0.2983500903856502,
          0.1213807675401525,
          0
         ],
         "yaxis": "y"
        },
        {
         "hovertemplate": "WPI=30.0<br>Succión (kPa)=%{x}<br>Grado de saturación=%{y}<extra></extra>",
         "legendgroup": "30.0",
         "line": {
          "color": "#B6E880",
          "dash": "solid"
         },
         "marker": {
          "symbol": "circle"
         },
         "mode": "lines",
         "name": "30.0",
         "orientation": "v",
         "showlegend": true,
         "type": "scatter",
         "x": [
          0.1,
          1,
          10,
          100,
          1000,
          10000,
          100000,
          1000000
         ],
         "xaxis": "x",
         "y": [
          0.9999118252289658,
          0.9992011222500233,
          0.9928347151765927,
          0.941037053686881,
          0.7028335457989632,
          0.3907732559131098,
          0.16593573072662116,
          0
         ],
         "yaxis": "y"
        },
        {
         "hovertemplate": "WPI=40.0<br>Succión (kPa)=%{x}<br>Grado de saturación=%{y}<extra></extra>",
         "legendgroup": "40.0",
         "line": {
          "color": "#FF97FF",
          "dash": "solid"
         },
         "marker": {
          "symbol": "circle"
         },
         "mode": "lines",
         "name": "40.0",
         "orientation": "v",
         "showlegend": true,
         "type": "scatter",
         "x": [
          0.1,
          1,
          10,
          100,
          1000,
          10000,
          100000,
          1000000
         ],
         "xaxis": "x",
         "y": [
          0.9999155878815013,
          0.9993552519917795,
          0.9951041870763665,
          0.9645157464204022,
          0.8050907068620589,
          0.4899771979729538,
          0.22261162822117872,
          0
         ],
         "yaxis": "y"
        },
        {
         "hovertemplate": "WPI=50.0<br>Succión (kPa)=%{x}<br>Grado de saturación=%{y}<extra></extra>",
         "legendgroup": "50.0",
         "line": {
          "color": "#FECB52",
          "dash": "solid"
         },
         "marker": {
          "symbol": "circle"
         },
         "mode": "lines",
         "name": "50.0",
         "orientation": "v",
         "showlegend": true,
         "type": "scatter",
         "x": [
          0.1,
          1,
          10,
          100,
          1000,
          10000,
          100000,
          1000000
         ],
         "xaxis": "x",
         "y": [
          0.9999078201472925,
          0.9993944084378571,
          0.9960371250546212,
          0.9748239516267597,
          0.8650699850557235,
          0.5833658717085305,
          0.2853976472731857,
          0
         ],
         "yaxis": "y"
        }
       ],
       "layout": {
        "legend": {
         "title": {
          "text": "WPI"
         },
         "tracegroupgap": 0
        },
        "template": {
         "data": {
          "bar": [
           {
            "error_x": {
             "color": "#2a3f5f"
            },
            "error_y": {
             "color": "#2a3f5f"
            },
            "marker": {
             "line": {
              "color": "white",
              "width": 0.5
             },
             "pattern": {
              "fillmode": "overlay",
              "size": 10,
              "solidity": 0.2
             }
            },
            "type": "bar"
           }
          ],
          "barpolar": [
           {
            "marker": {
             "line": {
              "color": "white",
              "width": 0.5
             },
             "pattern": {
              "fillmode": "overlay",
              "size": 10,
              "solidity": 0.2
             }
            },
            "type": "barpolar"
           }
          ],
          "carpet": [
           {
            "aaxis": {
             "endlinecolor": "#2a3f5f",
             "gridcolor": "#C8D4E3",
             "linecolor": "#C8D4E3",
             "minorgridcolor": "#C8D4E3",
             "startlinecolor": "#2a3f5f"
            },
            "baxis": {
             "endlinecolor": "#2a3f5f",
             "gridcolor": "#C8D4E3",
             "linecolor": "#C8D4E3",
             "minorgridcolor": "#C8D4E3",
             "startlinecolor": "#2a3f5f"
            },
            "type": "carpet"
           }
          ],
          "choropleth": [
           {
            "colorbar": {
             "outlinewidth": 0,
             "ticks": ""
            },
            "type": "choropleth"
           }
          ],
          "contour": [
           {
            "colorbar": {
             "outlinewidth": 0,
             "ticks": ""
            },
            "colorscale": [
             [
              0,
              "#0d0887"
             ],
             [
              0.1111111111111111,
              "#46039f"
             ],
             [
              0.2222222222222222,
              "#7201a8"
             ],
             [
              0.3333333333333333,
              "#9c179e"
             ],
             [
              0.4444444444444444,
              "#bd3786"
             ],
             [
              0.5555555555555556,
              "#d8576b"
             ],
             [
              0.6666666666666666,
              "#ed7953"
             ],
             [
              0.7777777777777778,
              "#fb9f3a"
             ],
             [
              0.8888888888888888,
              "#fdca26"
             ],
             [
              1,
              "#f0f921"
             ]
            ],
            "type": "contour"
           }
          ],
          "contourcarpet": [
           {
            "colorbar": {
             "outlinewidth": 0,
             "ticks": ""
            },
            "type": "contourcarpet"
           }
          ],
          "heatmap": [
           {
            "colorbar": {
             "outlinewidth": 0,
             "ticks": ""
            },
            "colorscale": [
             [
              0,
              "#0d0887"
             ],
             [
              0.1111111111111111,
              "#46039f"
             ],
             [
              0.2222222222222222,
              "#7201a8"
             ],
             [
              0.3333333333333333,
              "#9c179e"
             ],
             [
              0.4444444444444444,
              "#bd3786"
             ],
             [
              0.5555555555555556,
              "#d8576b"
             ],
             [
              0.6666666666666666,
              "#ed7953"
             ],
             [
              0.7777777777777778,
              "#fb9f3a"
             ],
             [
              0.8888888888888888,
              "#fdca26"
             ],
             [
              1,
              "#f0f921"
             ]
            ],
            "type": "heatmap"
           }
          ],
          "heatmapgl": [
           {
            "colorbar": {
             "outlinewidth": 0,
             "ticks": ""
            },
            "colorscale": [
             [
              0,
              "#0d0887"
             ],
             [
              0.1111111111111111,
              "#46039f"
             ],
             [
              0.2222222222222222,
              "#7201a8"
             ],
             [
              0.3333333333333333,
              "#9c179e"
             ],
             [
              0.4444444444444444,
              "#bd3786"
             ],
             [
              0.5555555555555556,
              "#d8576b"
             ],
             [
              0.6666666666666666,
              "#ed7953"
             ],
             [
              0.7777777777777778,
              "#fb9f3a"
             ],
             [
              0.8888888888888888,
              "#fdca26"
             ],
             [
              1,
              "#f0f921"
             ]
            ],
            "type": "heatmapgl"
           }
          ],
          "histogram": [
           {
            "marker": {
             "pattern": {
              "fillmode": "overlay",
              "size": 10,
              "solidity": 0.2
             }
            },
            "type": "histogram"
           }
          ],
          "histogram2d": [
           {
            "colorbar": {
             "outlinewidth": 0,
             "ticks": ""
            },
            "colorscale": [
             [
              0,
              "#0d0887"
             ],
             [
              0.1111111111111111,
              "#46039f"
             ],
             [
              0.2222222222222222,
              "#7201a8"
             ],
             [
              0.3333333333333333,
              "#9c179e"
             ],
             [
              0.4444444444444444,
              "#bd3786"
             ],
             [
              0.5555555555555556,
              "#d8576b"
             ],
             [
              0.6666666666666666,
              "#ed7953"
             ],
             [
              0.7777777777777778,
              "#fb9f3a"
             ],
             [
              0.8888888888888888,
              "#fdca26"
             ],
             [
              1,
              "#f0f921"
             ]
            ],
            "type": "histogram2d"
           }
          ],
          "histogram2dcontour": [
           {
            "colorbar": {
             "outlinewidth": 0,
             "ticks": ""
            },
            "colorscale": [
             [
              0,
              "#0d0887"
             ],
             [
              0.1111111111111111,
              "#46039f"
             ],
             [
              0.2222222222222222,
              "#7201a8"
             ],
             [
              0.3333333333333333,
              "#9c179e"
             ],
             [
              0.4444444444444444,
              "#bd3786"
             ],
             [
              0.5555555555555556,
              "#d8576b"
             ],
             [
              0.6666666666666666,
              "#ed7953"
             ],
             [
              0.7777777777777778,
              "#fb9f3a"
             ],
             [
              0.8888888888888888,
              "#fdca26"
             ],
             [
              1,
              "#f0f921"
             ]
            ],
            "type": "histogram2dcontour"
           }
          ],
          "mesh3d": [
           {
            "colorbar": {
             "outlinewidth": 0,
             "ticks": ""
            },
            "type": "mesh3d"
           }
          ],
          "parcoords": [
           {
            "line": {
             "colorbar": {
              "outlinewidth": 0,
              "ticks": ""
             }
            },
            "type": "parcoords"
           }
          ],
          "pie": [
           {
            "automargin": true,
            "type": "pie"
           }
          ],
          "scatter": [
           {
            "fillpattern": {
             "fillmode": "overlay",
             "size": 10,
             "solidity": 0.2
            },
            "type": "scatter"
           }
          ],
          "scatter3d": [
           {
            "line": {
             "colorbar": {
              "outlinewidth": 0,
              "ticks": ""
             }
            },
            "marker": {
             "colorbar": {
              "outlinewidth": 0,
              "ticks": ""
             }
            },
            "type": "scatter3d"
           }
          ],
          "scattercarpet": [
           {
            "marker": {
             "colorbar": {
              "outlinewidth": 0,
              "ticks": ""
             }
            },
            "type": "scattercarpet"
           }
          ],
          "scattergeo": [
           {
            "marker": {
             "colorbar": {
              "outlinewidth": 0,
              "ticks": ""
             }
            },
            "type": "scattergeo"
           }
          ],
          "scattergl": [
           {
            "marker": {
             "colorbar": {
              "outlinewidth": 0,
              "ticks": ""
             }
            },
            "type": "scattergl"
           }
          ],
          "scattermapbox": [
           {
            "marker": {
             "colorbar": {
              "outlinewidth": 0,
              "ticks": ""
             }
            },
            "type": "scattermapbox"
           }
          ],
          "scatterpolar": [
           {
            "marker": {
             "colorbar": {
              "outlinewidth": 0,
              "ticks": ""
             }
            },
            "type": "scatterpolar"
           }
          ],
          "scatterpolargl": [
           {
            "marker": {
             "colorbar": {
              "outlinewidth": 0,
              "ticks": ""
             }
            },
            "type": "scatterpolargl"
           }
          ],
          "scatterternary": [
           {
            "marker": {
             "colorbar": {
              "outlinewidth": 0,
              "ticks": ""
             }
            },
            "type": "scatterternary"
           }
          ],
          "surface": [
           {
            "colorbar": {
             "outlinewidth": 0,
             "ticks": ""
            },
            "colorscale": [
             [
              0,
              "#0d0887"
             ],
             [
              0.1111111111111111,
              "#46039f"
             ],
             [
              0.2222222222222222,
              "#7201a8"
             ],
             [
              0.3333333333333333,
              "#9c179e"
             ],
             [
              0.4444444444444444,
              "#bd3786"
             ],
             [
              0.5555555555555556,
              "#d8576b"
             ],
             [
              0.6666666666666666,
              "#ed7953"
             ],
             [
              0.7777777777777778,
              "#fb9f3a"
             ],
             [
              0.8888888888888888,
              "#fdca26"
             ],
             [
              1,
              "#f0f921"
             ]
            ],
            "type": "surface"
           }
          ],
          "table": [
           {
            "cells": {
             "fill": {
              "color": "#EBF0F8"
             },
             "line": {
              "color": "white"
             }
            },
            "header": {
             "fill": {
              "color": "#C8D4E3"
             },
             "line": {
              "color": "white"
             }
            },
            "type": "table"
           }
          ]
         },
         "layout": {
          "annotationdefaults": {
           "arrowcolor": "#2a3f5f",
           "arrowhead": 0,
           "arrowwidth": 1
          },
          "autotypenumbers": "strict",
          "coloraxis": {
           "colorbar": {
            "outlinewidth": 0,
            "ticks": ""
           }
          },
          "colorscale": {
           "diverging": [
            [
             0,
             "#8e0152"
            ],
            [
             0.1,
             "#c51b7d"
            ],
            [
             0.2,
             "#de77ae"
            ],
            [
             0.3,
             "#f1b6da"
            ],
            [
             0.4,
             "#fde0ef"
            ],
            [
             0.5,
             "#f7f7f7"
            ],
            [
             0.6,
             "#e6f5d0"
            ],
            [
             0.7,
             "#b8e186"
            ],
            [
             0.8,
             "#7fbc41"
            ],
            [
             0.9,
             "#4d9221"
            ],
            [
             1,
             "#276419"
            ]
           ],
           "sequential": [
            [
             0,
             "#0d0887"
            ],
            [
             0.1111111111111111,
             "#46039f"
            ],
            [
             0.2222222222222222,
             "#7201a8"
            ],
            [
             0.3333333333333333,
             "#9c179e"
            ],
            [
             0.4444444444444444,
             "#bd3786"
            ],
            [
             0.5555555555555556,
             "#d8576b"
            ],
            [
             0.6666666666666666,
             "#ed7953"
            ],
            [
             0.7777777777777778,
             "#fb9f3a"
            ],
            [
             0.8888888888888888,
             "#fdca26"
            ],
            [
             1,
             "#f0f921"
            ]
           ],
           "sequentialminus": [
            [
             0,
             "#0d0887"
            ],
            [
             0.1111111111111111,
             "#46039f"
            ],
            [
             0.2222222222222222,
             "#7201a8"
            ],
            [
             0.3333333333333333,
             "#9c179e"
            ],
            [
             0.4444444444444444,
             "#bd3786"
            ],
            [
             0.5555555555555556,
             "#d8576b"
            ],
            [
             0.6666666666666666,
             "#ed7953"
            ],
            [
             0.7777777777777778,
             "#fb9f3a"
            ],
            [
             0.8888888888888888,
             "#fdca26"
            ],
            [
             1,
             "#f0f921"
            ]
           ]
          },
          "colorway": [
           "#636efa",
           "#EF553B",
           "#00cc96",
           "#ab63fa",
           "#FFA15A",
           "#19d3f3",
           "#FF6692",
           "#B6E880",
           "#FF97FF",
           "#FECB52"
          ],
          "font": {
           "color": "#2a3f5f"
          },
          "geo": {
           "bgcolor": "white",
           "lakecolor": "white",
           "landcolor": "white",
           "showlakes": true,
           "showland": true,
           "subunitcolor": "#C8D4E3"
          },
          "hoverlabel": {
           "align": "left"
          },
          "hovermode": "closest",
          "mapbox": {
           "style": "light"
          },
          "paper_bgcolor": "white",
          "plot_bgcolor": "white",
          "polar": {
           "angularaxis": {
            "gridcolor": "#EBF0F8",
            "linecolor": "#EBF0F8",
            "ticks": ""
           },
           "bgcolor": "white",
           "radialaxis": {
            "gridcolor": "#EBF0F8",
            "linecolor": "#EBF0F8",
            "ticks": ""
           }
          },
          "scene": {
           "xaxis": {
            "backgroundcolor": "white",
            "gridcolor": "#DFE8F3",
            "gridwidth": 2,
            "linecolor": "#EBF0F8",
            "showbackground": true,
            "ticks": "",
            "zerolinecolor": "#EBF0F8"
           },
           "yaxis": {
            "backgroundcolor": "white",
            "gridcolor": "#DFE8F3",
            "gridwidth": 2,
            "linecolor": "#EBF0F8",
            "showbackground": true,
            "ticks": "",
            "zerolinecolor": "#EBF0F8"
           },
           "zaxis": {
            "backgroundcolor": "white",
            "gridcolor": "#DFE8F3",
            "gridwidth": 2,
            "linecolor": "#EBF0F8",
            "showbackground": true,
            "ticks": "",
            "zerolinecolor": "#EBF0F8"
           }
          },
          "shapedefaults": {
           "line": {
            "color": "#2a3f5f"
           }
          },
          "ternary": {
           "aaxis": {
            "gridcolor": "#DFE8F3",
            "linecolor": "#A2B1C6",
            "ticks": ""
           },
           "baxis": {
            "gridcolor": "#DFE8F3",
            "linecolor": "#A2B1C6",
            "ticks": ""
           },
           "bgcolor": "white",
           "caxis": {
            "gridcolor": "#DFE8F3",
            "linecolor": "#A2B1C6",
            "ticks": ""
           }
          },
          "title": {
           "x": 0.05
          },
          "xaxis": {
           "automargin": true,
           "gridcolor": "#EBF0F8",
           "linecolor": "#EBF0F8",
           "ticks": "",
           "title": {
            "standoff": 15
           },
           "zerolinecolor": "#EBF0F8",
           "zerolinewidth": 2
          },
          "yaxis": {
           "automargin": true,
           "gridcolor": "#EBF0F8",
           "linecolor": "#EBF0F8",
           "ticks": "",
           "title": {
            "standoff": 15
           },
           "zerolinecolor": "#EBF0F8",
           "zerolinewidth": 2
          }
         }
        },
        "title": {
         "text": "Grado de Saturación vs Succión (kPa) para diferentes valores de WPI"
        },
        "xaxis": {
         "anchor": "y",
         "domain": [
          0,
          1
         ],
         "title": {
          "text": "Succión (kPa)"
         },
         "type": "log"
        },
        "yaxis": {
         "anchor": "x",
         "domain": [
          0,
          1
         ],
         "title": {
          "text": "Grado de saturación"
         }
        }
       }
      }
     },
     "metadata": {},
     "output_type": "display_data"
    }
   ],
   "source": [
    "# Aquí se genera un DataFrame largo, con columnas 'Succión (kPa)', 'Grado de saturación', y 'WPI'\n",
    "df_long = df_S.melt(id_vars=['h'], \n",
    "                    var_name='WPI', \n",
    "                    value_name='Grado de saturación')\n",
    "\n",
    "# Cambiar nombre de la columna 'h' a 'Succión (kPa)'\n",
    "df_long.rename(columns={'h': 'Succión (kPa)'}, inplace=True)\n",
    "\n",
    "# Crear gráfico\n",
    "fig = px.line(\n",
    "    df_long,\n",
    "    x=\"Succión (kPa)\",\n",
    "    y=\"Grado de saturación\",\n",
    "    color=\"WPI\",\n",
    "    log_x=True,  # Eje x logarítmico para succión\n",
    "    title=\"Grado de Saturación vs Succión (kPa) para diferentes valores de WPI\"\n",
    ")\n",
    "\n",
    "# Personalizar el gráfico\n",
    "fig.update_layout(\n",
    "    xaxis_title=\"Succión (kPa)\",\n",
    "    yaxis_title=\"Grado de saturación\",\n",
    "    legend_title=\"WPI\",\n",
    "    template=\"plotly_white\"\n",
    ")\n",
    "\n",
    "# Mostrar el gráfico\n",
    "fig.show()"
   ]
  },
  {
   "cell_type": "markdown",
   "metadata": {},
   "source": [
    "# Calculo D60"
   ]
  },
  {
   "cell_type": "code",
   "execution_count": null,
   "metadata": {},
   "outputs": [],
   "source": [
    "#tABLA WPI d60\n",
    "df_D60 = pd.DataFrame(\n",
    "    {\n",
    "        \"D60\": [\n",
    "            0.1,\n",
    "            0.2,\n",
    "            0.3,\n",
    "            0.4,\n",
    "            0.5,\n",
    "            0.6,\n",
    "            0.7,\n",
    "            0.8,\n",
    "            0.9,\n",
    "            1,\n",
    "        ]\n",
    "    }\n",
    ")"
   ]
  },
  {
   "cell_type": "code",
   "execution_count": null,
   "metadata": {},
   "outputs": [],
   "source": [
    "df_D60[\"a\"] = 0.8627 * df_D60[\"D60\"] ** -0.751"
   ]
  },
  {
   "cell_type": "code",
   "execution_count": null,
   "metadata": {},
   "outputs": [],
   "source": [
    "df_D60[\"b\"] = 7.5"
   ]
  },
  {
   "cell_type": "code",
   "execution_count": null,
   "metadata": {},
   "outputs": [],
   "source": [
    "df_D60[\"c\"] = 0.1772 * np.log(df_D60[\"D60\"]) + 0.7734"
   ]
  },
  {
   "cell_type": "code",
   "execution_count": null,
   "metadata": {},
   "outputs": [
    {
     "data": {
      "text/html": [
       "<div>\n",
       "<style scoped>\n",
       "    .dataframe tbody tr th:only-of-type {\n",
       "        vertical-align: middle;\n",
       "    }\n",
       "\n",
       "    .dataframe tbody tr th {\n",
       "        vertical-align: top;\n",
       "    }\n",
       "\n",
       "    .dataframe thead th {\n",
       "        text-align: right;\n",
       "    }\n",
       "</style>\n",
       "<table border=\"1\" class=\"dataframe\">\n",
       "  <thead>\n",
       "    <tr style=\"text-align: right;\">\n",
       "      <th></th>\n",
       "      <th>D60</th>\n",
       "      <th>a</th>\n",
       "      <th>b</th>\n",
       "      <th>c</th>\n",
       "      <th>hr</th>\n",
       "    </tr>\n",
       "  </thead>\n",
       "  <tbody>\n",
       "    <tr>\n",
       "      <th>0</th>\n",
       "      <td>0.1</td>\n",
       "      <td>4.862502</td>\n",
       "      <td>7.5</td>\n",
       "      <td>0.365382</td>\n",
       "      <td>48.157889</td>\n",
       "    </tr>\n",
       "    <tr>\n",
       "      <th>1</th>\n",
       "      <td>0.2</td>\n",
       "      <td>2.889258</td>\n",
       "      <td>7.5</td>\n",
       "      <td>0.488208</td>\n",
       "      <td>14.376562</td>\n",
       "    </tr>\n",
       "    <tr>\n",
       "      <th>2</th>\n",
       "      <td>0.3</td>\n",
       "      <td>2.130795</td>\n",
       "      <td>7.5</td>\n",
       "      <td>0.560056</td>\n",
       "      <td>7.079760</td>\n",
       "    </tr>\n",
       "    <tr>\n",
       "      <th>3</th>\n",
       "      <td>0.4</td>\n",
       "      <td>1.716772</td>\n",
       "      <td>7.5</td>\n",
       "      <td>0.611033</td>\n",
       "      <td>4.281548</td>\n",
       "    </tr>\n",
       "    <tr>\n",
       "      <th>4</th>\n",
       "      <td>0.5</td>\n",
       "      <td>1.451889</td>\n",
       "      <td>7.5</td>\n",
       "      <td>0.650574</td>\n",
       "      <td>2.898155</td>\n",
       "    </tr>\n",
       "    <tr>\n",
       "      <th>5</th>\n",
       "      <td>0.6</td>\n",
       "      <td>1.266101</td>\n",
       "      <td>7.5</td>\n",
       "      <td>0.682882</td>\n",
       "      <td>2.106762</td>\n",
       "    </tr>\n",
       "    <tr>\n",
       "      <th>6</th>\n",
       "      <td>0.7</td>\n",
       "      <td>1.127694</td>\n",
       "      <td>7.5</td>\n",
       "      <td>0.710197</td>\n",
       "      <td>1.608762</td>\n",
       "    </tr>\n",
       "    <tr>\n",
       "      <th>7</th>\n",
       "      <td>0.8</td>\n",
       "      <td>1.020092</td>\n",
       "      <td>7.5</td>\n",
       "      <td>0.733859</td>\n",
       "      <td>1.273570</td>\n",
       "    </tr>\n",
       "    <tr>\n",
       "      <th>8</th>\n",
       "      <td>0.9</td>\n",
       "      <td>0.933735</td>\n",
       "      <td>7.5</td>\n",
       "      <td>0.754730</td>\n",
       "      <td>1.036366</td>\n",
       "    </tr>\n",
       "    <tr>\n",
       "      <th>9</th>\n",
       "      <td>1.0</td>\n",
       "      <td>0.862700</td>\n",
       "      <td>7.5</td>\n",
       "      <td>0.773400</td>\n",
       "      <td>0.861864</td>\n",
       "    </tr>\n",
       "  </tbody>\n",
       "</table>\n",
       "</div>"
      ],
      "text/plain": [
       "   D60         a    b         c         hr\n",
       "0  0.1  4.862502  7.5  0.365382  48.157889\n",
       "1  0.2  2.889258  7.5  0.488208  14.376562\n",
       "2  0.3  2.130795  7.5  0.560056   7.079760\n",
       "3  0.4  1.716772  7.5  0.611033   4.281548\n",
       "4  0.5  1.451889  7.5  0.650574   2.898155\n",
       "5  0.6  1.266101  7.5  0.682882   2.106762\n",
       "6  0.7  1.127694  7.5  0.710197   1.608762\n",
       "7  0.8  1.020092  7.5  0.733859   1.273570\n",
       "8  0.9  0.933735  7.5  0.754730   1.036366\n",
       "9  1.0  0.862700  7.5  0.773400   0.861864"
      ]
     },
     "execution_count": 19,
     "metadata": {},
     "output_type": "execute_result"
    }
   ],
   "source": [
    "# Hr-d60\n",
    "\n",
    "df_D60[\"hr\"] = df_D60[\"a\"] / (df_D60[\"D60\"] + 0.00097)\n",
    "df_D60"
   ]
  },
  {
   "cell_type": "markdown",
   "metadata": {},
   "source": [
    "# TABLA CH -D60"
   ]
  },
  {
   "cell_type": "code",
   "execution_count": null,
   "metadata": {},
   "outputs": [],
   "source": [
    "df_CH_D60 = pd.DataFrame(\n",
    "    {\n",
    "        \"h\": [\n",
    "            0.1,\n",
    "            0.2,\n",
    "            0.3,\n",
    "            0.4,\n",
    "            0.5,\n",
    "            0.6,\n",
    "            0.7,\n",
    "            0.8,\n",
    "            0.9,\n",
    "            1,\n",
    "            10,\n",
    "            100,\n",
    "            1000,\n",
    "            10000,\n",
    "            100000,\n",
    "            1000000,\n",
    "        ]\n",
    "    }\n",
    ")"
   ]
  },
  {
   "cell_type": "code",
   "execution_count": null,
   "metadata": {},
   "outputs": [],
   "source": [
    "# Crear la tabla C(h) usando los valores de hr en df_d60 y los valores de h en df_CH\n",
    "for index, row in df_D60.iterrows():\n",
    "    df_CH_D60[f\"{row['D60']}\"] = 1 - (np.log(1 + df_CH_D60['h'] / df_D60.loc[index][\"hr\"]) / np.log(1 + 1000000 / df_D60.loc[index][\"hr\"]))"
   ]
  },
  {
   "cell_type": "code",
   "execution_count": null,
   "metadata": {},
   "outputs": [
    {
     "data": {
      "text/html": [
       "<div>\n",
       "<style scoped>\n",
       "    .dataframe tbody tr th:only-of-type {\n",
       "        vertical-align: middle;\n",
       "    }\n",
       "\n",
       "    .dataframe tbody tr th {\n",
       "        vertical-align: top;\n",
       "    }\n",
       "\n",
       "    .dataframe thead th {\n",
       "        text-align: right;\n",
       "    }\n",
       "</style>\n",
       "<table border=\"1\" class=\"dataframe\">\n",
       "  <thead>\n",
       "    <tr style=\"text-align: right;\">\n",
       "      <th></th>\n",
       "      <th>h</th>\n",
       "      <th>D60_0.1</th>\n",
       "      <th>D60_0.2</th>\n",
       "      <th>D60_0.3</th>\n",
       "      <th>D60_0.4</th>\n",
       "      <th>D60_0.5</th>\n",
       "      <th>D60_0.6</th>\n",
       "      <th>D60_0.7</th>\n",
       "      <th>D60_0.8</th>\n",
       "      <th>D60_0.9</th>\n",
       "      <th>D60_1.0</th>\n",
       "    </tr>\n",
       "  </thead>\n",
       "  <tbody>\n",
       "    <tr>\n",
       "      <th>0</th>\n",
       "      <td>0.1</td>\n",
       "      <td>0.999791</td>\n",
       "      <td>0.999378</td>\n",
       "      <td>0.998817</td>\n",
       "      <td>0.998132</td>\n",
       "      <td>0.997340</td>\n",
       "      <td>0.996452</td>\n",
       "      <td>0.995479</td>\n",
       "      <td>0.994431</td>\n",
       "      <td>0.993315</td>\n",
       "      <td>0.992139</td>\n",
       "    </tr>\n",
       "    <tr>\n",
       "      <th>1</th>\n",
       "      <td>0.2</td>\n",
       "      <td>0.999583</td>\n",
       "      <td>0.998761</td>\n",
       "      <td>0.997651</td>\n",
       "      <td>0.996307</td>\n",
       "      <td>0.994767</td>\n",
       "      <td>0.993061</td>\n",
       "      <td>0.991216</td>\n",
       "      <td>0.989254</td>\n",
       "      <td>0.987195</td>\n",
       "      <td>0.985056</td>\n",
       "    </tr>\n",
       "    <tr>\n",
       "      <th>2</th>\n",
       "      <td>0.3</td>\n",
       "      <td>0.999375</td>\n",
       "      <td>0.998148</td>\n",
       "      <td>0.996500</td>\n",
       "      <td>0.994521</td>\n",
       "      <td>0.992275</td>\n",
       "      <td>0.989814</td>\n",
       "      <td>0.987182</td>\n",
       "      <td>0.984417</td>\n",
       "      <td>0.981550</td>\n",
       "      <td>0.978611</td>\n",
       "    </tr>\n",
       "    <tr>\n",
       "      <th>3</th>\n",
       "      <td>0.4</td>\n",
       "      <td>0.999168</td>\n",
       "      <td>0.997539</td>\n",
       "      <td>0.995365</td>\n",
       "      <td>0.992775</td>\n",
       "      <td>0.989861</td>\n",
       "      <td>0.986700</td>\n",
       "      <td>0.983354</td>\n",
       "      <td>0.979878</td>\n",
       "      <td>0.976313</td>\n",
       "      <td>0.972698</td>\n",
       "    </tr>\n",
       "    <tr>\n",
       "      <th>4</th>\n",
       "      <td>0.5</td>\n",
       "      <td>0.998961</td>\n",
       "      <td>0.996934</td>\n",
       "      <td>0.994245</td>\n",
       "      <td>0.991065</td>\n",
       "      <td>0.987518</td>\n",
       "      <td>0.983707</td>\n",
       "      <td>0.979713</td>\n",
       "      <td>0.975602</td>\n",
       "      <td>0.971429</td>\n",
       "      <td>0.967237</td>\n",
       "    </tr>\n",
       "    <tr>\n",
       "      <th>5</th>\n",
       "      <td>0.6</td>\n",
       "      <td>0.998754</td>\n",
       "      <td>0.996333</td>\n",
       "      <td>0.993140</td>\n",
       "      <td>0.989390</td>\n",
       "      <td>0.985244</td>\n",
       "      <td>0.980827</td>\n",
       "      <td>0.976239</td>\n",
       "      <td>0.971561</td>\n",
       "      <td>0.966853</td>\n",
       "      <td>0.962162</td>\n",
       "    </tr>\n",
       "    <tr>\n",
       "      <th>6</th>\n",
       "      <td>0.7</td>\n",
       "      <td>0.998548</td>\n",
       "      <td>0.995736</td>\n",
       "      <td>0.992049</td>\n",
       "      <td>0.987750</td>\n",
       "      <td>0.983034</td>\n",
       "      <td>0.978051</td>\n",
       "      <td>0.972920</td>\n",
       "      <td>0.967730</td>\n",
       "      <td>0.962548</td>\n",
       "      <td>0.957424</td>\n",
       "    </tr>\n",
       "    <tr>\n",
       "      <th>7</th>\n",
       "      <td>0.8</td>\n",
       "      <td>0.998343</td>\n",
       "      <td>0.995143</td>\n",
       "      <td>0.990972</td>\n",
       "      <td>0.986142</td>\n",
       "      <td>0.980884</td>\n",
       "      <td>0.975373</td>\n",
       "      <td>0.969742</td>\n",
       "      <td>0.964089</td>\n",
       "      <td>0.958485</td>\n",
       "      <td>0.952980</td>\n",
       "    </tr>\n",
       "    <tr>\n",
       "      <th>8</th>\n",
       "      <td>0.9</td>\n",
       "      <td>0.998137</td>\n",
       "      <td>0.994554</td>\n",
       "      <td>0.989908</td>\n",
       "      <td>0.984565</td>\n",
       "      <td>0.978791</td>\n",
       "      <td>0.972785</td>\n",
       "      <td>0.966692</td>\n",
       "      <td>0.960619</td>\n",
       "      <td>0.954637</td>\n",
       "      <td>0.948795</td>\n",
       "    </tr>\n",
       "    <tr>\n",
       "      <th>9</th>\n",
       "      <td>1.0</td>\n",
       "      <td>0.997933</td>\n",
       "      <td>0.993969</td>\n",
       "      <td>0.988858</td>\n",
       "      <td>0.983019</td>\n",
       "      <td>0.976753</td>\n",
       "      <td>0.970282</td>\n",
       "      <td>0.963762</td>\n",
       "      <td>0.957305</td>\n",
       "      <td>0.950983</td>\n",
       "      <td>0.944842</td>\n",
       "    </tr>\n",
       "    <tr>\n",
       "      <th>10</th>\n",
       "      <td>10.0</td>\n",
       "      <td>0.981021</td>\n",
       "      <td>0.952643</td>\n",
       "      <td>0.925735</td>\n",
       "      <td>0.902546</td>\n",
       "      <td>0.882914</td>\n",
       "      <td>0.866215</td>\n",
       "      <td>0.851852</td>\n",
       "      <td>0.839348</td>\n",
       "      <td>0.828337</td>\n",
       "      <td>0.818542</td>\n",
       "    </tr>\n",
       "    <tr>\n",
       "      <th>11</th>\n",
       "      <td>100.0</td>\n",
       "      <td>0.886955</td>\n",
       "      <td>0.813999</td>\n",
       "      <td>0.770934</td>\n",
       "      <td>0.741710</td>\n",
       "      <td>0.720058</td>\n",
       "      <td>0.703079</td>\n",
       "      <td>0.689232</td>\n",
       "      <td>0.677611</td>\n",
       "      <td>0.667647</td>\n",
       "      <td>0.658955</td>\n",
       "    </tr>\n",
       "    <tr>\n",
       "      <th>12</th>\n",
       "      <td>1000.0</td>\n",
       "      <td>0.690144</td>\n",
       "      <td>0.618255</td>\n",
       "      <td>0.581932</td>\n",
       "      <td>0.558480</td>\n",
       "      <td>0.541497</td>\n",
       "      <td>0.528344</td>\n",
       "      <td>0.517701</td>\n",
       "      <td>0.508814</td>\n",
       "      <td>0.501221</td>\n",
       "      <td>0.494616</td>\n",
       "    </tr>\n",
       "    <tr>\n",
       "      <th>13</th>\n",
       "      <td>10000.0</td>\n",
       "      <td>0.462768</td>\n",
       "      <td>0.412895</td>\n",
       "      <td>0.388292</td>\n",
       "      <td>0.372516</td>\n",
       "      <td>0.361127</td>\n",
       "      <td>0.352321</td>\n",
       "      <td>0.345202</td>\n",
       "      <td>0.339263</td>\n",
       "      <td>0.334190</td>\n",
       "      <td>0.329779</td>\n",
       "    </tr>\n",
       "    <tr>\n",
       "      <th>14</th>\n",
       "      <td>100000.0</td>\n",
       "      <td>0.231580</td>\n",
       "      <td>0.206500</td>\n",
       "      <td>0.194170</td>\n",
       "      <td>0.186272</td>\n",
       "      <td>0.180572</td>\n",
       "      <td>0.176167</td>\n",
       "      <td>0.172606</td>\n",
       "      <td>0.169635</td>\n",
       "      <td>0.167098</td>\n",
       "      <td>0.164892</td>\n",
       "    </tr>\n",
       "    <tr>\n",
       "      <th>15</th>\n",
       "      <td>1000000.0</td>\n",
       "      <td>0.000000</td>\n",
       "      <td>0.000000</td>\n",
       "      <td>0.000000</td>\n",
       "      <td>0.000000</td>\n",
       "      <td>0.000000</td>\n",
       "      <td>0.000000</td>\n",
       "      <td>0.000000</td>\n",
       "      <td>0.000000</td>\n",
       "      <td>0.000000</td>\n",
       "      <td>0.000000</td>\n",
       "    </tr>\n",
       "  </tbody>\n",
       "</table>\n",
       "</div>"
      ],
      "text/plain": [
       "            h   D60_0.1   D60_0.2   D60_0.3   D60_0.4   D60_0.5   D60_0.6  \\\n",
       "0         0.1  0.999791  0.999378  0.998817  0.998132  0.997340  0.996452   \n",
       "1         0.2  0.999583  0.998761  0.997651  0.996307  0.994767  0.993061   \n",
       "2         0.3  0.999375  0.998148  0.996500  0.994521  0.992275  0.989814   \n",
       "3         0.4  0.999168  0.997539  0.995365  0.992775  0.989861  0.986700   \n",
       "4         0.5  0.998961  0.996934  0.994245  0.991065  0.987518  0.983707   \n",
       "5         0.6  0.998754  0.996333  0.993140  0.989390  0.985244  0.980827   \n",
       "6         0.7  0.998548  0.995736  0.992049  0.987750  0.983034  0.978051   \n",
       "7         0.8  0.998343  0.995143  0.990972  0.986142  0.980884  0.975373   \n",
       "8         0.9  0.998137  0.994554  0.989908  0.984565  0.978791  0.972785   \n",
       "9         1.0  0.997933  0.993969  0.988858  0.983019  0.976753  0.970282   \n",
       "10       10.0  0.981021  0.952643  0.925735  0.902546  0.882914  0.866215   \n",
       "11      100.0  0.886955  0.813999  0.770934  0.741710  0.720058  0.703079   \n",
       "12     1000.0  0.690144  0.618255  0.581932  0.558480  0.541497  0.528344   \n",
       "13    10000.0  0.462768  0.412895  0.388292  0.372516  0.361127  0.352321   \n",
       "14   100000.0  0.231580  0.206500  0.194170  0.186272  0.180572  0.176167   \n",
       "15  1000000.0  0.000000  0.000000  0.000000  0.000000  0.000000  0.000000   \n",
       "\n",
       "     D60_0.7   D60_0.8   D60_0.9   D60_1.0  \n",
       "0   0.995479  0.994431  0.993315  0.992139  \n",
       "1   0.991216  0.989254  0.987195  0.985056  \n",
       "2   0.987182  0.984417  0.981550  0.978611  \n",
       "3   0.983354  0.979878  0.976313  0.972698  \n",
       "4   0.979713  0.975602  0.971429  0.967237  \n",
       "5   0.976239  0.971561  0.966853  0.962162  \n",
       "6   0.972920  0.967730  0.962548  0.957424  \n",
       "7   0.969742  0.964089  0.958485  0.952980  \n",
       "8   0.966692  0.960619  0.954637  0.948795  \n",
       "9   0.963762  0.957305  0.950983  0.944842  \n",
       "10  0.851852  0.839348  0.828337  0.818542  \n",
       "11  0.689232  0.677611  0.667647  0.658955  \n",
       "12  0.517701  0.508814  0.501221  0.494616  \n",
       "13  0.345202  0.339263  0.334190  0.329779  \n",
       "14  0.172606  0.169635  0.167098  0.164892  \n",
       "15  0.000000  0.000000  0.000000  0.000000  "
      ]
     },
     "execution_count": 33,
     "metadata": {},
     "output_type": "execute_result"
    }
   ],
   "source": [
    "df_CH_D60"
   ]
  },
  {
   "cell_type": "markdown",
   "metadata": {},
   "source": [
    "# TABLA S"
   ]
  },
  {
   "cell_type": "code",
   "execution_count": null,
   "metadata": {},
   "outputs": [],
   "source": [
    "df_S_D60 = pd.DataFrame(\n",
    "    {\n",
    "        \"h\": [\n",
    "            0.1,\n",
    "            0.2,\n",
    "            0.3,\n",
    "            0.4,\n",
    "            0.5,\n",
    "            0.6,\n",
    "            0.7,\n",
    "            0.8,\n",
    "            0.9,\n",
    "            1,\n",
    "            10,\n",
    "            100,\n",
    "            1000,\n",
    "            10000,\n",
    "            100000,\n",
    "            1000000,\n",
    "        ]\n",
    "    }\n",
    ")"
   ]
  },
  {
   "cell_type": "code",
   "execution_count": null,
   "metadata": {},
   "outputs": [],
   "source": [
    "for index, row in df_D60.iterrows():\n",
    "    a_value = row[\"a\"]\n",
    "    b_value = row[\"b\"]\n",
    "    c_value = row[\"c\"]\n",
    "    column_name = f\"{row['D60']}\"\n",
    "    df_S_D60[column_name] = df_CH_D60[f\"{row['D60']}\"] / (np.log(np.exp(1) + (df_S_D60['h'] / a_value) ** b_value) ** c_value)"
   ]
  },
  {
   "cell_type": "code",
   "execution_count": null,
   "metadata": {},
   "outputs": [
    {
     "data": {
      "text/html": [
       "<div>\n",
       "<style scoped>\n",
       "    .dataframe tbody tr th:only-of-type {\n",
       "        vertical-align: middle;\n",
       "    }\n",
       "\n",
       "    .dataframe tbody tr th {\n",
       "        vertical-align: top;\n",
       "    }\n",
       "\n",
       "    .dataframe thead th {\n",
       "        text-align: right;\n",
       "    }\n",
       "</style>\n",
       "<table border=\"1\" class=\"dataframe\">\n",
       "  <thead>\n",
       "    <tr style=\"text-align: right;\">\n",
       "      <th></th>\n",
       "      <th>h</th>\n",
       "      <th>0.1</th>\n",
       "      <th>0.2</th>\n",
       "      <th>0.3</th>\n",
       "      <th>0.4</th>\n",
       "      <th>0.5</th>\n",
       "      <th>0.6</th>\n",
       "      <th>0.7</th>\n",
       "      <th>0.8</th>\n",
       "      <th>0.9</th>\n",
       "      <th>1.0</th>\n",
       "    </tr>\n",
       "  </thead>\n",
       "  <tbody>\n",
       "    <tr>\n",
       "      <th>0</th>\n",
       "      <td>0.1</td>\n",
       "      <td>0.999791</td>\n",
       "      <td>0.999378</td>\n",
       "      <td>0.998817</td>\n",
       "      <td>0.998132</td>\n",
       "      <td>0.997340</td>\n",
       "      <td>0.996452</td>\n",
       "      <td>0.995479</td>\n",
       "      <td>0.994431</td>\n",
       "      <td>0.993315</td>\n",
       "      <td>0.992139</td>\n",
       "    </tr>\n",
       "    <tr>\n",
       "      <th>1</th>\n",
       "      <td>0.2</td>\n",
       "      <td>0.999583</td>\n",
       "      <td>0.998761</td>\n",
       "      <td>0.997651</td>\n",
       "      <td>0.996307</td>\n",
       "      <td>0.994767</td>\n",
       "      <td>0.993061</td>\n",
       "      <td>0.991215</td>\n",
       "      <td>0.989253</td>\n",
       "      <td>0.987192</td>\n",
       "      <td>0.985051</td>\n",
       "    </tr>\n",
       "    <tr>\n",
       "      <th>2</th>\n",
       "      <td>0.3</td>\n",
       "      <td>0.999375</td>\n",
       "      <td>0.998148</td>\n",
       "      <td>0.996500</td>\n",
       "      <td>0.994521</td>\n",
       "      <td>0.992274</td>\n",
       "      <td>0.989809</td>\n",
       "      <td>0.987170</td>\n",
       "      <td>0.984389</td>\n",
       "      <td>0.981496</td>\n",
       "      <td>0.978510</td>\n",
       "    </tr>\n",
       "    <tr>\n",
       "      <th>3</th>\n",
       "      <td>0.4</td>\n",
       "      <td>0.999168</td>\n",
       "      <td>0.997539</td>\n",
       "      <td>0.995364</td>\n",
       "      <td>0.992771</td>\n",
       "      <td>0.989846</td>\n",
       "      <td>0.986656</td>\n",
       "      <td>0.983246</td>\n",
       "      <td>0.979642</td>\n",
       "      <td>0.975844</td>\n",
       "      <td>0.971831</td>\n",
       "    </tr>\n",
       "    <tr>\n",
       "      <th>4</th>\n",
       "      <td>0.5</td>\n",
       "      <td>0.998961</td>\n",
       "      <td>0.996933</td>\n",
       "      <td>0.994241</td>\n",
       "      <td>0.991043</td>\n",
       "      <td>0.987439</td>\n",
       "      <td>0.983474</td>\n",
       "      <td>0.979139</td>\n",
       "      <td>0.974352</td>\n",
       "      <td>0.968949</td>\n",
       "      <td>0.962673</td>\n",
       "    </tr>\n",
       "    <tr>\n",
       "      <th>5</th>\n",
       "      <td>0.6</td>\n",
       "      <td>0.998754</td>\n",
       "      <td>0.996332</td>\n",
       "      <td>0.993125</td>\n",
       "      <td>0.989307</td>\n",
       "      <td>0.984932</td>\n",
       "      <td>0.979918</td>\n",
       "      <td>0.974004</td>\n",
       "      <td>0.966707</td>\n",
       "      <td>0.957294</td>\n",
       "      <td>0.944774</td>\n",
       "    </tr>\n",
       "    <tr>\n",
       "      <th>6</th>\n",
       "      <td>0.7</td>\n",
       "      <td>0.998548</td>\n",
       "      <td>0.995732</td>\n",
       "      <td>0.992001</td>\n",
       "      <td>0.987484</td>\n",
       "      <td>0.982046</td>\n",
       "      <td>0.975183</td>\n",
       "      <td>0.965906</td>\n",
       "      <td>0.952672</td>\n",
       "      <td>0.933447</td>\n",
       "      <td>0.906038</td>\n",
       "    </tr>\n",
       "    <tr>\n",
       "      <th>7</th>\n",
       "      <td>0.8</td>\n",
       "      <td>0.998343</td>\n",
       "      <td>0.995131</td>\n",
       "      <td>0.990840</td>\n",
       "      <td>0.985421</td>\n",
       "      <td>0.978211</td>\n",
       "      <td>0.967662</td>\n",
       "      <td>0.951149</td>\n",
       "      <td>0.925179</td>\n",
       "      <td>0.886362</td>\n",
       "      <td>0.833178</td>\n",
       "    </tr>\n",
       "    <tr>\n",
       "      <th>8</th>\n",
       "      <td>0.9</td>\n",
       "      <td>0.998137</td>\n",
       "      <td>0.994526</td>\n",
       "      <td>0.989591</td>\n",
       "      <td>0.982828</td>\n",
       "      <td>0.972391</td>\n",
       "      <td>0.954581</td>\n",
       "      <td>0.924053</td>\n",
       "      <td>0.875740</td>\n",
       "      <td>0.808528</td>\n",
       "      <td>0.727783</td>\n",
       "    </tr>\n",
       "    <tr>\n",
       "      <th>9</th>\n",
       "      <td>1.0</td>\n",
       "      <td>0.997932</td>\n",
       "      <td>0.993907</td>\n",
       "      <td>0.988160</td>\n",
       "      <td>0.979214</td>\n",
       "      <td>0.962899</td>\n",
       "      <td>0.931950</td>\n",
       "      <td>0.878554</td>\n",
       "      <td>0.800852</td>\n",
       "      <td>0.707601</td>\n",
       "      <td>0.613332</td>\n",
       "    </tr>\n",
       "    <tr>\n",
       "      <th>10</th>\n",
       "      <td>10.0</td>\n",
       "      <td>0.529045</td>\n",
       "      <td>0.320504</td>\n",
       "      <td>0.234650</td>\n",
       "      <td>0.186397</td>\n",
       "      <td>0.155200</td>\n",
       "      <td>0.133283</td>\n",
       "      <td>0.117000</td>\n",
       "      <td>0.104405</td>\n",
       "      <td>0.094358</td>\n",
       "      <td>0.086149</td>\n",
       "    </tr>\n",
       "    <tr>\n",
       "      <th>11</th>\n",
       "      <td>100.0</td>\n",
       "      <td>0.283527</td>\n",
       "      <td>0.164110</td>\n",
       "      <td>0.117254</td>\n",
       "      <td>0.091919</td>\n",
       "      <td>0.075935</td>\n",
       "      <td>0.064881</td>\n",
       "      <td>0.056757</td>\n",
       "      <td>0.050520</td>\n",
       "      <td>0.045572</td>\n",
       "      <td>0.041546</td>\n",
       "    </tr>\n",
       "    <tr>\n",
       "      <th>12</th>\n",
       "      <td>1000.0</td>\n",
       "      <td>0.179386</td>\n",
       "      <td>0.097621</td>\n",
       "      <td>0.068065</td>\n",
       "      <td>0.052611</td>\n",
       "      <td>0.043046</td>\n",
       "      <td>0.036517</td>\n",
       "      <td>0.031764</td>\n",
       "      <td>0.028142</td>\n",
       "      <td>0.025286</td>\n",
       "      <td>0.022975</td>\n",
       "    </tr>\n",
       "    <tr>\n",
       "      <th>13</th>\n",
       "      <td>10000.0</td>\n",
       "      <td>0.105487</td>\n",
       "      <td>0.055438</td>\n",
       "      <td>0.038008</td>\n",
       "      <td>0.029060</td>\n",
       "      <td>0.023589</td>\n",
       "      <td>0.019888</td>\n",
       "      <td>0.017212</td>\n",
       "      <td>0.015185</td>\n",
       "      <td>0.013594</td>\n",
       "      <td>0.012312</td>\n",
       "    </tr>\n",
       "    <tr>\n",
       "      <th>14</th>\n",
       "      <td>100000.0</td>\n",
       "      <td>0.047938</td>\n",
       "      <td>0.024554</td>\n",
       "      <td>0.016608</td>\n",
       "      <td>0.012583</td>\n",
       "      <td>0.010146</td>\n",
       "      <td>0.008508</td>\n",
       "      <td>0.007331</td>\n",
       "      <td>0.006444</td>\n",
       "      <td>0.005750</td>\n",
       "      <td>0.005193</td>\n",
       "    </tr>\n",
       "    <tr>\n",
       "      <th>15</th>\n",
       "      <td>1000000.0</td>\n",
       "      <td>0.000000</td>\n",
       "      <td>0.000000</td>\n",
       "      <td>0.000000</td>\n",
       "      <td>0.000000</td>\n",
       "      <td>0.000000</td>\n",
       "      <td>0.000000</td>\n",
       "      <td>0.000000</td>\n",
       "      <td>0.000000</td>\n",
       "      <td>0.000000</td>\n",
       "      <td>0.000000</td>\n",
       "    </tr>\n",
       "  </tbody>\n",
       "</table>\n",
       "</div>"
      ],
      "text/plain": [
       "            h       0.1       0.2       0.3       0.4       0.5       0.6  \\\n",
       "0         0.1  0.999791  0.999378  0.998817  0.998132  0.997340  0.996452   \n",
       "1         0.2  0.999583  0.998761  0.997651  0.996307  0.994767  0.993061   \n",
       "2         0.3  0.999375  0.998148  0.996500  0.994521  0.992274  0.989809   \n",
       "3         0.4  0.999168  0.997539  0.995364  0.992771  0.989846  0.986656   \n",
       "4         0.5  0.998961  0.996933  0.994241  0.991043  0.987439  0.983474   \n",
       "5         0.6  0.998754  0.996332  0.993125  0.989307  0.984932  0.979918   \n",
       "6         0.7  0.998548  0.995732  0.992001  0.987484  0.982046  0.975183   \n",
       "7         0.8  0.998343  0.995131  0.990840  0.985421  0.978211  0.967662   \n",
       "8         0.9  0.998137  0.994526  0.989591  0.982828  0.972391  0.954581   \n",
       "9         1.0  0.997932  0.993907  0.988160  0.979214  0.962899  0.931950   \n",
       "10       10.0  0.529045  0.320504  0.234650  0.186397  0.155200  0.133283   \n",
       "11      100.0  0.283527  0.164110  0.117254  0.091919  0.075935  0.064881   \n",
       "12     1000.0  0.179386  0.097621  0.068065  0.052611  0.043046  0.036517   \n",
       "13    10000.0  0.105487  0.055438  0.038008  0.029060  0.023589  0.019888   \n",
       "14   100000.0  0.047938  0.024554  0.016608  0.012583  0.010146  0.008508   \n",
       "15  1000000.0  0.000000  0.000000  0.000000  0.000000  0.000000  0.000000   \n",
       "\n",
       "         0.7       0.8       0.9       1.0  \n",
       "0   0.995479  0.994431  0.993315  0.992139  \n",
       "1   0.991215  0.989253  0.987192  0.985051  \n",
       "2   0.987170  0.984389  0.981496  0.978510  \n",
       "3   0.983246  0.979642  0.975844  0.971831  \n",
       "4   0.979139  0.974352  0.968949  0.962673  \n",
       "5   0.974004  0.966707  0.957294  0.944774  \n",
       "6   0.965906  0.952672  0.933447  0.906038  \n",
       "7   0.951149  0.925179  0.886362  0.833178  \n",
       "8   0.924053  0.875740  0.808528  0.727783  \n",
       "9   0.878554  0.800852  0.707601  0.613332  \n",
       "10  0.117000  0.104405  0.094358  0.086149  \n",
       "11  0.056757  0.050520  0.045572  0.041546  \n",
       "12  0.031764  0.028142  0.025286  0.022975  \n",
       "13  0.017212  0.015185  0.013594  0.012312  \n",
       "14  0.007331  0.006444  0.005750  0.005193  \n",
       "15  0.000000  0.000000  0.000000  0.000000  "
      ]
     },
     "execution_count": 39,
     "metadata": {},
     "output_type": "execute_result"
    }
   ],
   "source": [
    "df_S_D60"
   ]
  },
  {
   "cell_type": "code",
   "execution_count": 62,
   "metadata": {},
   "outputs": [
    {
     "data": {
      "application/vnd.plotly.v1+json": {
       "config": {
        "plotlyServerURL": "https://plot.ly"
       },
       "data": [
        {
         "hovertemplate": "D60=0.1<br>Succión (kPa)=%{x}<br>Grado de saturación=%{y}<extra></extra>",
         "legendgroup": "0.1",
         "line": {
          "color": "#636efa",
          "dash": "solid"
         },
         "marker": {
          "symbol": "circle"
         },
         "mode": "lines",
         "name": "0.1",
         "orientation": "v",
         "showlegend": true,
         "type": "scatter",
         "x": [
          0.1,
          0.2,
          0.3,
          0.4,
          0.5,
          0.6,
          0.7,
          0.8,
          0.9,
          1,
          10,
          100,
          1000,
          10000,
          100000,
          1000000
         ],
         "xaxis": "x",
         "y": [
          0.9997913354152267,
          0.9995831027726172,
          0.9993753001902062,
          0.9991679252368191,
          0.9989609735265779,
          0.9987544356373061,
          0.9985482914735162,
          0.9983425010755308,
          0.9981369907708713,
          0.9979316334686819,
          0.529044790466226,
          0.2835267109577028,
          0.17938580480275906,
          0.10548696038445352,
          0.04793800233574531,
          0
         ],
         "yaxis": "y"
        },
        {
         "hovertemplate": "D60=0.2<br>Succión (kPa)=%{x}<br>Grado de saturación=%{y}<extra></extra>",
         "legendgroup": "0.2",
         "line": {
          "color": "#EF553B",
          "dash": "solid"
         },
         "marker": {
          "symbol": "circle"
         },
         "mode": "lines",
         "name": "0.2",
         "orientation": "v",
         "showlegend": true,
         "type": "scatter",
         "x": [
          0.1,
          0.2,
          0.3,
          0.4,
          0.5,
          0.6,
          0.7,
          0.8,
          0.9,
          1,
          10,
          100,
          1000,
          10000,
          100000,
          1000000
         ],
         "xaxis": "x",
         "y": [
          0.9993783199609163,
          0.9987609192092128,
          0.9981477327811861,
          0.997538659840886,
          0.9969334707551325,
          0.9963316035623057,
          0.9957317920325076,
          0.9951314599023293,
          0.9945258094183316,
          0.9939065272423947,
          0.3205037345594043,
          0.16411002645468642,
          0.09762077533414042,
          0.055438450436949796,
          0.02455434535006544,
          0
         ],
         "yaxis": "y"
        },
        {
         "hovertemplate": "D60=0.3<br>Succión (kPa)=%{x}<br>Grado de saturación=%{y}<extra></extra>",
         "legendgroup": "0.3",
         "line": {
          "color": "#00cc96",
          "dash": "solid"
         },
         "marker": {
          "symbol": "circle"
         },
         "mode": "lines",
         "name": "0.3",
         "orientation": "v",
         "showlegend": true,
         "type": "scatter",
         "x": [
          0.1,
          0.2,
          0.3,
          0.4,
          0.5,
          0.6,
          0.7,
          0.8,
          0.9,
          1,
          10,
          100,
          1000,
          10000,
          100000,
          1000000
         ],
         "xaxis": "x",
         "y": [
          0.9988172019213872,
          0.9976507605002137,
          0.9965001568752996,
          0.9953644740056484,
          0.9942413538454473,
          0.9931247167909127,
          0.9920006013028714,
          0.9908404073784096,
          0.9895907912522126,
          0.9881595085182533,
          0.23465014414441046,
          0.11725369120451481,
          0.06806511720033369,
          0.0380077648188619,
          0.016607595753659693,
          0
         ],
         "yaxis": "y"
        },
        {
         "hovertemplate": "D60=0.4<br>Succión (kPa)=%{x}<br>Grado de saturación=%{y}<extra></extra>",
         "legendgroup": "0.4",
         "line": {
          "color": "#ab63fa",
          "dash": "solid"
         },
         "marker": {
          "symbol": "circle"
         },
         "mode": "lines",
         "name": "0.4",
         "orientation": "v",
         "showlegend": true,
         "type": "scatter",
         "x": [
          0.1,
          0.2,
          0.3,
          0.4,
          0.5,
          0.6,
          0.7,
          0.8,
          0.9,
          1,
          10,
          100,
          1000,
          10000,
          100000,
          1000000
         ],
         "xaxis": "x",
         "y": [
          0.9981322639365079,
          0.9963066558273787,
          0.9945209165695466,
          0.992770619163109,
          0.9910434383499906,
          0.9893066476490896,
          0.9874843955551698,
          0.9854211416292448,
          0.982828284191638,
          0.9792138344688452,
          0.18639692920695738,
          0.09191874147142483,
          0.05261050743809175,
          0.029060017507493117,
          0.012583324234887257,
          0
         ],
         "yaxis": "y"
        },
        {
         "hovertemplate": "D60=0.5<br>Succión (kPa)=%{x}<br>Grado de saturación=%{y}<extra></extra>",
         "legendgroup": "0.5",
         "line": {
          "color": "#FFA15A",
          "dash": "solid"
         },
         "marker": {
          "symbol": "circle"
         },
         "mode": "lines",
         "name": "0.5",
         "orientation": "v",
         "showlegend": true,
         "type": "scatter",
         "x": [
          0.1,
          0.2,
          0.3,
          0.4,
          0.5,
          0.6,
          0.7,
          0.8,
          0.9,
          1,
          10,
          100,
          1000,
          10000,
          100000,
          1000000
         ],
         "xaxis": "x",
         "y": [
          0.9973396902400595,
          0.9947665902109727,
          0.9922736650169611,
          0.9898458589395003,
          0.9874387420426919,
          0.9849320942593822,
          0.9820463050175826,
          0.9782114864454189,
          0.9723911285546283,
          0.9628990617345242,
          0.15519972599110038,
          0.07593467272357662,
          0.04304576821894502,
          0.02358903712262448,
          0.01014567702678406,
          0
         ],
         "yaxis": "y"
        },
        {
         "hovertemplate": "D60=0.6<br>Succión (kPa)=%{x}<br>Grado de saturación=%{y}<extra></extra>",
         "legendgroup": "0.6",
         "line": {
          "color": "#19d3f3",
          "dash": "solid"
         },
         "marker": {
          "symbol": "circle"
         },
         "mode": "lines",
         "name": "0.6",
         "orientation": "v",
         "showlegend": true,
         "type": "scatter",
         "x": [
          0.1,
          0.2,
          0.3,
          0.4,
          0.5,
          0.6,
          0.7,
          0.8,
          0.9,
          1,
          10,
          100,
          1000,
          10000,
          100000,
          1000000
         ],
         "xaxis": "x",
         "y": [
          0.9964519620880183,
          0.9930609542258064,
          0.989809274081118,
          0.9866559330048777,
          0.9834743702581903,
          0.9799179624852727,
          0.9751828276109662,
          0.9676619785911057,
          0.9545813990639942,
          0.9319495223630452,
          0.13328262633270194,
          0.0648813694805578,
          0.0365168051713773,
          0.019887729620950867,
          0.008508204259817681,
          0
         ],
         "yaxis": "y"
        },
        {
         "hovertemplate": "D60=0.7<br>Succión (kPa)=%{x}<br>Grado de saturación=%{y}<extra></extra>",
         "legendgroup": "0.7",
         "line": {
          "color": "#FF6692",
          "dash": "solid"
         },
         "marker": {
          "symbol": "circle"
         },
         "mode": "lines",
         "name": "0.7",
         "orientation": "v",
         "showlegend": true,
         "type": "scatter",
         "x": [
          0.1,
          0.2,
          0.3,
          0.4,
          0.5,
          0.6,
          0.7,
          0.8,
          0.9,
          1,
          10,
          100,
          1000,
          10000,
          100000,
          1000000
         ],
         "xaxis": "x",
         "y": [
          0.995479457928867,
          0.9912154929998424,
          0.9871696640710425,
          0.9832462808077957,
          0.9791389979003902,
          0.9740035827621869,
          0.9659063410906976,
          0.9511491305625219,
          0.9240527032221676,
          0.878553855809359,
          0.11700019985984052,
          0.05675701812573397,
          0.03176368442023619,
          0.017212035156895632,
          0.007331196396242152,
          0
         ],
         "yaxis": "y"
        },
        {
         "hovertemplate": "D60=0.8<br>Succión (kPa)=%{x}<br>Grado de saturación=%{y}<extra></extra>",
         "legendgroup": "0.8",
         "line": {
          "color": "#B6E880",
          "dash": "solid"
         },
         "marker": {
          "symbol": "circle"
         },
         "mode": "lines",
         "name": "0.8",
         "orientation": "v",
         "showlegend": true,
         "type": "scatter",
         "x": [
          0.1,
          0.2,
          0.3,
          0.4,
          0.5,
          0.6,
          0.7,
          0.8,
          0.9,
          1,
          10,
          100,
          1000,
          10000,
          100000,
          1000000
         ],
         "xaxis": "x",
         "y": [
          0.9944311902066688,
          0.9892525979715651,
          0.9843892761194564,
          0.979641590809433,
          0.9743516758351627,
          0.9667073602705428,
          0.9526722853344014,
          0.9251792901785263,
          0.8757398723503843,
          0.8008518394370882,
          0.10440487504246936,
          0.05051962249436452,
          0.028141794593779378,
          0.015184872301362734,
          0.0064436902544731545,
          0
         ],
         "yaxis": "y"
        },
        {
         "hovertemplate": "D60=0.9<br>Succión (kPa)=%{x}<br>Grado de saturación=%{y}<extra></extra>",
         "legendgroup": "0.9",
         "line": {
          "color": "#FF97FF",
          "dash": "solid"
         },
         "marker": {
          "symbol": "circle"
         },
         "mode": "lines",
         "name": "0.9",
         "orientation": "v",
         "showlegend": true,
         "type": "scatter",
         "x": [
          0.1,
          0.2,
          0.3,
          0.4,
          0.5,
          0.6,
          0.7,
          0.8,
          0.9,
          1,
          10,
          100,
          1000,
          10000,
          100000,
          1000000
         ],
         "xaxis": "x",
         "y": [
          0.9933151923182266,
          0.9871919568212874,
          0.9814956739556231,
          0.9758441115119659,
          0.9689490676960831,
          0.9572940167018713,
          0.9334467638708092,
          0.8863624752181317,
          0.8085282778586476,
          0.7076013555177155,
          0.0943581950237383,
          0.04557179013404064,
          0.025286226497813275,
          0.013594381421461847,
          0.0057501770285761375,
          0
         ],
         "yaxis": "y"
        },
        {
         "hovertemplate": "D60=1.0<br>Succión (kPa)=%{x}<br>Grado de saturación=%{y}<extra></extra>",
         "legendgroup": "1.0",
         "line": {
          "color": "#FECB52",
          "dash": "solid"
         },
         "marker": {
          "symbol": "circle"
         },
         "mode": "lines",
         "name": "1.0",
         "orientation": "v",
         "showlegend": true,
         "type": "scatter",
         "x": [
          0.1,
          0.2,
          0.3,
          0.4,
          0.5,
          0.6,
          0.7,
          0.8,
          0.9,
          1,
          10,
          100,
          1000,
          10000,
          100000,
          1000000
         ],
         "xaxis": "x",
         "y": [
          0.9921387402634835,
          0.9850509209496633,
          0.9785097798378977,
          0.9718313882621379,
          0.9626733822248896,
          0.944773732670996,
          0.9060382590933548,
          0.8331784727762411,
          0.7277827489762487,
          0.6133321313292749,
          0.08614892293970874,
          0.04154573915113613,
          0.02297453008365774,
          0.012312214183654016,
          0.0051930727109790725,
          0
         ],
         "yaxis": "y"
        }
       ],
       "layout": {
        "legend": {
         "title": {
          "text": "D60"
         },
         "tracegroupgap": 0
        },
        "template": {
         "data": {
          "bar": [
           {
            "error_x": {
             "color": "#2a3f5f"
            },
            "error_y": {
             "color": "#2a3f5f"
            },
            "marker": {
             "line": {
              "color": "white",
              "width": 0.5
             },
             "pattern": {
              "fillmode": "overlay",
              "size": 10,
              "solidity": 0.2
             }
            },
            "type": "bar"
           }
          ],
          "barpolar": [
           {
            "marker": {
             "line": {
              "color": "white",
              "width": 0.5
             },
             "pattern": {
              "fillmode": "overlay",
              "size": 10,
              "solidity": 0.2
             }
            },
            "type": "barpolar"
           }
          ],
          "carpet": [
           {
            "aaxis": {
             "endlinecolor": "#2a3f5f",
             "gridcolor": "#C8D4E3",
             "linecolor": "#C8D4E3",
             "minorgridcolor": "#C8D4E3",
             "startlinecolor": "#2a3f5f"
            },
            "baxis": {
             "endlinecolor": "#2a3f5f",
             "gridcolor": "#C8D4E3",
             "linecolor": "#C8D4E3",
             "minorgridcolor": "#C8D4E3",
             "startlinecolor": "#2a3f5f"
            },
            "type": "carpet"
           }
          ],
          "choropleth": [
           {
            "colorbar": {
             "outlinewidth": 0,
             "ticks": ""
            },
            "type": "choropleth"
           }
          ],
          "contour": [
           {
            "colorbar": {
             "outlinewidth": 0,
             "ticks": ""
            },
            "colorscale": [
             [
              0,
              "#0d0887"
             ],
             [
              0.1111111111111111,
              "#46039f"
             ],
             [
              0.2222222222222222,
              "#7201a8"
             ],
             [
              0.3333333333333333,
              "#9c179e"
             ],
             [
              0.4444444444444444,
              "#bd3786"
             ],
             [
              0.5555555555555556,
              "#d8576b"
             ],
             [
              0.6666666666666666,
              "#ed7953"
             ],
             [
              0.7777777777777778,
              "#fb9f3a"
             ],
             [
              0.8888888888888888,
              "#fdca26"
             ],
             [
              1,
              "#f0f921"
             ]
            ],
            "type": "contour"
           }
          ],
          "contourcarpet": [
           {
            "colorbar": {
             "outlinewidth": 0,
             "ticks": ""
            },
            "type": "contourcarpet"
           }
          ],
          "heatmap": [
           {
            "colorbar": {
             "outlinewidth": 0,
             "ticks": ""
            },
            "colorscale": [
             [
              0,
              "#0d0887"
             ],
             [
              0.1111111111111111,
              "#46039f"
             ],
             [
              0.2222222222222222,
              "#7201a8"
             ],
             [
              0.3333333333333333,
              "#9c179e"
             ],
             [
              0.4444444444444444,
              "#bd3786"
             ],
             [
              0.5555555555555556,
              "#d8576b"
             ],
             [
              0.6666666666666666,
              "#ed7953"
             ],
             [
              0.7777777777777778,
              "#fb9f3a"
             ],
             [
              0.8888888888888888,
              "#fdca26"
             ],
             [
              1,
              "#f0f921"
             ]
            ],
            "type": "heatmap"
           }
          ],
          "heatmapgl": [
           {
            "colorbar": {
             "outlinewidth": 0,
             "ticks": ""
            },
            "colorscale": [
             [
              0,
              "#0d0887"
             ],
             [
              0.1111111111111111,
              "#46039f"
             ],
             [
              0.2222222222222222,
              "#7201a8"
             ],
             [
              0.3333333333333333,
              "#9c179e"
             ],
             [
              0.4444444444444444,
              "#bd3786"
             ],
             [
              0.5555555555555556,
              "#d8576b"
             ],
             [
              0.6666666666666666,
              "#ed7953"
             ],
             [
              0.7777777777777778,
              "#fb9f3a"
             ],
             [
              0.8888888888888888,
              "#fdca26"
             ],
             [
              1,
              "#f0f921"
             ]
            ],
            "type": "heatmapgl"
           }
          ],
          "histogram": [
           {
            "marker": {
             "pattern": {
              "fillmode": "overlay",
              "size": 10,
              "solidity": 0.2
             }
            },
            "type": "histogram"
           }
          ],
          "histogram2d": [
           {
            "colorbar": {
             "outlinewidth": 0,
             "ticks": ""
            },
            "colorscale": [
             [
              0,
              "#0d0887"
             ],
             [
              0.1111111111111111,
              "#46039f"
             ],
             [
              0.2222222222222222,
              "#7201a8"
             ],
             [
              0.3333333333333333,
              "#9c179e"
             ],
             [
              0.4444444444444444,
              "#bd3786"
             ],
             [
              0.5555555555555556,
              "#d8576b"
             ],
             [
              0.6666666666666666,
              "#ed7953"
             ],
             [
              0.7777777777777778,
              "#fb9f3a"
             ],
             [
              0.8888888888888888,
              "#fdca26"
             ],
             [
              1,
              "#f0f921"
             ]
            ],
            "type": "histogram2d"
           }
          ],
          "histogram2dcontour": [
           {
            "colorbar": {
             "outlinewidth": 0,
             "ticks": ""
            },
            "colorscale": [
             [
              0,
              "#0d0887"
             ],
             [
              0.1111111111111111,
              "#46039f"
             ],
             [
              0.2222222222222222,
              "#7201a8"
             ],
             [
              0.3333333333333333,
              "#9c179e"
             ],
             [
              0.4444444444444444,
              "#bd3786"
             ],
             [
              0.5555555555555556,
              "#d8576b"
             ],
             [
              0.6666666666666666,
              "#ed7953"
             ],
             [
              0.7777777777777778,
              "#fb9f3a"
             ],
             [
              0.8888888888888888,
              "#fdca26"
             ],
             [
              1,
              "#f0f921"
             ]
            ],
            "type": "histogram2dcontour"
           }
          ],
          "mesh3d": [
           {
            "colorbar": {
             "outlinewidth": 0,
             "ticks": ""
            },
            "type": "mesh3d"
           }
          ],
          "parcoords": [
           {
            "line": {
             "colorbar": {
              "outlinewidth": 0,
              "ticks": ""
             }
            },
            "type": "parcoords"
           }
          ],
          "pie": [
           {
            "automargin": true,
            "type": "pie"
           }
          ],
          "scatter": [
           {
            "fillpattern": {
             "fillmode": "overlay",
             "size": 10,
             "solidity": 0.2
            },
            "type": "scatter"
           }
          ],
          "scatter3d": [
           {
            "line": {
             "colorbar": {
              "outlinewidth": 0,
              "ticks": ""
             }
            },
            "marker": {
             "colorbar": {
              "outlinewidth": 0,
              "ticks": ""
             }
            },
            "type": "scatter3d"
           }
          ],
          "scattercarpet": [
           {
            "marker": {
             "colorbar": {
              "outlinewidth": 0,
              "ticks": ""
             }
            },
            "type": "scattercarpet"
           }
          ],
          "scattergeo": [
           {
            "marker": {
             "colorbar": {
              "outlinewidth": 0,
              "ticks": ""
             }
            },
            "type": "scattergeo"
           }
          ],
          "scattergl": [
           {
            "marker": {
             "colorbar": {
              "outlinewidth": 0,
              "ticks": ""
             }
            },
            "type": "scattergl"
           }
          ],
          "scattermapbox": [
           {
            "marker": {
             "colorbar": {
              "outlinewidth": 0,
              "ticks": ""
             }
            },
            "type": "scattermapbox"
           }
          ],
          "scatterpolar": [
           {
            "marker": {
             "colorbar": {
              "outlinewidth": 0,
              "ticks": ""
             }
            },
            "type": "scatterpolar"
           }
          ],
          "scatterpolargl": [
           {
            "marker": {
             "colorbar": {
              "outlinewidth": 0,
              "ticks": ""
             }
            },
            "type": "scatterpolargl"
           }
          ],
          "scatterternary": [
           {
            "marker": {
             "colorbar": {
              "outlinewidth": 0,
              "ticks": ""
             }
            },
            "type": "scatterternary"
           }
          ],
          "surface": [
           {
            "colorbar": {
             "outlinewidth": 0,
             "ticks": ""
            },
            "colorscale": [
             [
              0,
              "#0d0887"
             ],
             [
              0.1111111111111111,
              "#46039f"
             ],
             [
              0.2222222222222222,
              "#7201a8"
             ],
             [
              0.3333333333333333,
              "#9c179e"
             ],
             [
              0.4444444444444444,
              "#bd3786"
             ],
             [
              0.5555555555555556,
              "#d8576b"
             ],
             [
              0.6666666666666666,
              "#ed7953"
             ],
             [
              0.7777777777777778,
              "#fb9f3a"
             ],
             [
              0.8888888888888888,
              "#fdca26"
             ],
             [
              1,
              "#f0f921"
             ]
            ],
            "type": "surface"
           }
          ],
          "table": [
           {
            "cells": {
             "fill": {
              "color": "#EBF0F8"
             },
             "line": {
              "color": "white"
             }
            },
            "header": {
             "fill": {
              "color": "#C8D4E3"
             },
             "line": {
              "color": "white"
             }
            },
            "type": "table"
           }
          ]
         },
         "layout": {
          "annotationdefaults": {
           "arrowcolor": "#2a3f5f",
           "arrowhead": 0,
           "arrowwidth": 1
          },
          "autotypenumbers": "strict",
          "coloraxis": {
           "colorbar": {
            "outlinewidth": 0,
            "ticks": ""
           }
          },
          "colorscale": {
           "diverging": [
            [
             0,
             "#8e0152"
            ],
            [
             0.1,
             "#c51b7d"
            ],
            [
             0.2,
             "#de77ae"
            ],
            [
             0.3,
             "#f1b6da"
            ],
            [
             0.4,
             "#fde0ef"
            ],
            [
             0.5,
             "#f7f7f7"
            ],
            [
             0.6,
             "#e6f5d0"
            ],
            [
             0.7,
             "#b8e186"
            ],
            [
             0.8,
             "#7fbc41"
            ],
            [
             0.9,
             "#4d9221"
            ],
            [
             1,
             "#276419"
            ]
           ],
           "sequential": [
            [
             0,
             "#0d0887"
            ],
            [
             0.1111111111111111,
             "#46039f"
            ],
            [
             0.2222222222222222,
             "#7201a8"
            ],
            [
             0.3333333333333333,
             "#9c179e"
            ],
            [
             0.4444444444444444,
             "#bd3786"
            ],
            [
             0.5555555555555556,
             "#d8576b"
            ],
            [
             0.6666666666666666,
             "#ed7953"
            ],
            [
             0.7777777777777778,
             "#fb9f3a"
            ],
            [
             0.8888888888888888,
             "#fdca26"
            ],
            [
             1,
             "#f0f921"
            ]
           ],
           "sequentialminus": [
            [
             0,
             "#0d0887"
            ],
            [
             0.1111111111111111,
             "#46039f"
            ],
            [
             0.2222222222222222,
             "#7201a8"
            ],
            [
             0.3333333333333333,
             "#9c179e"
            ],
            [
             0.4444444444444444,
             "#bd3786"
            ],
            [
             0.5555555555555556,
             "#d8576b"
            ],
            [
             0.6666666666666666,
             "#ed7953"
            ],
            [
             0.7777777777777778,
             "#fb9f3a"
            ],
            [
             0.8888888888888888,
             "#fdca26"
            ],
            [
             1,
             "#f0f921"
            ]
           ]
          },
          "colorway": [
           "#636efa",
           "#EF553B",
           "#00cc96",
           "#ab63fa",
           "#FFA15A",
           "#19d3f3",
           "#FF6692",
           "#B6E880",
           "#FF97FF",
           "#FECB52"
          ],
          "font": {
           "color": "#2a3f5f"
          },
          "geo": {
           "bgcolor": "white",
           "lakecolor": "white",
           "landcolor": "white",
           "showlakes": true,
           "showland": true,
           "subunitcolor": "#C8D4E3"
          },
          "hoverlabel": {
           "align": "left"
          },
          "hovermode": "closest",
          "mapbox": {
           "style": "light"
          },
          "paper_bgcolor": "white",
          "plot_bgcolor": "white",
          "polar": {
           "angularaxis": {
            "gridcolor": "#EBF0F8",
            "linecolor": "#EBF0F8",
            "ticks": ""
           },
           "bgcolor": "white",
           "radialaxis": {
            "gridcolor": "#EBF0F8",
            "linecolor": "#EBF0F8",
            "ticks": ""
           }
          },
          "scene": {
           "xaxis": {
            "backgroundcolor": "white",
            "gridcolor": "#DFE8F3",
            "gridwidth": 2,
            "linecolor": "#EBF0F8",
            "showbackground": true,
            "ticks": "",
            "zerolinecolor": "#EBF0F8"
           },
           "yaxis": {
            "backgroundcolor": "white",
            "gridcolor": "#DFE8F3",
            "gridwidth": 2,
            "linecolor": "#EBF0F8",
            "showbackground": true,
            "ticks": "",
            "zerolinecolor": "#EBF0F8"
           },
           "zaxis": {
            "backgroundcolor": "white",
            "gridcolor": "#DFE8F3",
            "gridwidth": 2,
            "linecolor": "#EBF0F8",
            "showbackground": true,
            "ticks": "",
            "zerolinecolor": "#EBF0F8"
           }
          },
          "shapedefaults": {
           "line": {
            "color": "#2a3f5f"
           }
          },
          "ternary": {
           "aaxis": {
            "gridcolor": "#DFE8F3",
            "linecolor": "#A2B1C6",
            "ticks": ""
           },
           "baxis": {
            "gridcolor": "#DFE8F3",
            "linecolor": "#A2B1C6",
            "ticks": ""
           },
           "bgcolor": "white",
           "caxis": {
            "gridcolor": "#DFE8F3",
            "linecolor": "#A2B1C6",
            "ticks": ""
           }
          },
          "title": {
           "x": 0.05
          },
          "xaxis": {
           "automargin": true,
           "gridcolor": "#EBF0F8",
           "linecolor": "#EBF0F8",
           "ticks": "",
           "title": {
            "standoff": 15
           },
           "zerolinecolor": "#EBF0F8",
           "zerolinewidth": 2
          },
          "yaxis": {
           "automargin": true,
           "gridcolor": "#EBF0F8",
           "linecolor": "#EBF0F8",
           "ticks": "",
           "title": {
            "standoff": 15
           },
           "zerolinecolor": "#EBF0F8",
           "zerolinewidth": 2
          }
         }
        },
        "title": {
         "text": "Grado de Saturación vs Succión (kPa) para diferentes valores de D60"
        },
        "xaxis": {
         "anchor": "y",
         "domain": [
          0,
          1
         ],
         "title": {
          "text": "Succión (kPa)"
         },
         "type": "log"
        },
        "yaxis": {
         "anchor": "x",
         "domain": [
          0,
          1
         ],
         "title": {
          "text": "Grado de saturación"
         }
        }
       }
      }
     },
     "metadata": {},
     "output_type": "display_data"
    }
   ],
   "source": [
    "df_long = df_S_D60.melt(id_vars=['h'], \n",
    "                    var_name='D60', \n",
    "                    value_name='Grado de saturación')\n",
    "\n",
    "# Cambiar nombre de la columna 'h' a 'Succión (kPa)'\n",
    "df_long.rename(columns={'h': 'Succión (kPa)'}, inplace=True)\n",
    "\n",
    "# Crear gráfico\n",
    "fig = px.line(\n",
    "    df_long,\n",
    "    x=\"Succión (kPa)\",\n",
    "    y=\"Grado de saturación\",\n",
    "    color=\"D60\",\n",
    "    log_x=True,  # Eje x logarítmico para succión\n",
    "    title=\"Grado de Saturación vs Succión (kPa) para diferentes valores de D60\"\n",
    ")\n",
    "\n",
    "# Personalizar el gráfico\n",
    "fig.update_layout(\n",
    "    xaxis_title=\"Succión (kPa)\",\n",
    "    yaxis_title=\"Grado de saturación\",\n",
    "    legend_title=\"D60\",\n",
    "    template=\"plotly_white\"\n",
    ")\n",
    "\n",
    "# Mostrar el gráfico\n",
    "fig.show()"
   ]
  }
 ],
 "metadata": {
  "kernelspec": {
   "display_name": "Python 3",
   "language": "python",
   "name": "python3"
  },
  "language_info": {
   "codemirror_mode": {
    "name": "ipython",
    "version": 3
   },
   "file_extension": ".py",
   "mimetype": "text/x-python",
   "name": "python",
   "nbconvert_exporter": "python",
   "pygments_lexer": "ipython3",
   "version": "3.10.9"
  }
 },
 "nbformat": 4,
 "nbformat_minor": 2
}
