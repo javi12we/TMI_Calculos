{
 "cells": [
  {
   "cell_type": "code",
   "execution_count": 1,
   "metadata": {},
   "outputs": [],
   "source": [
    "import pandas as pd\n",
    "import math\n",
    "import numpy as np\n",
    "import plotly.express as px"
   ]
  },
  {
   "cell_type": "markdown",
   "metadata": {},
   "source": [
    "# Datos de entrada"
   ]
  },
  {
   "cell_type": "code",
   "execution_count": 2,
   "metadata": {},
   "outputs": [],
   "source": [
    "df_WPI = pd.DataFrame(\n",
    "    {\n",
    "        \"WPI\": [\n",
    "            0.1,\n",
    "            0.9,\n",
    "            0.3,\n",
    "            5,\n",
    "            10,\n",
    "            15,\n",
    "            20,\n",
    "            30,\n",
    "            40,\n",
    "            50,\n",
    "        ]\n",
    "    }\n",
    ")"
   ]
  },
  {
   "cell_type": "markdown",
   "metadata": {},
   "source": [
    "# TABLA HR -WPI"
   ]
  },
  {
   "cell_type": "code",
   "execution_count": 3,
   "metadata": {},
   "outputs": [],
   "source": [
    "# COPIA DF micro a  calculos base fatiga\n",
    "df_WPI = df_WPI.copy()"
   ]
  },
  {
   "cell_type": "code",
   "execution_count": 4,
   "metadata": {},
   "outputs": [],
   "source": [
    "df_WPI[\"a\"] = (0.00364 * df_WPI[\"WPI\"] ** 3.35 + 4 * df_WPI[\"WPI\"] + 11)"
   ]
  },
  {
   "cell_type": "code",
   "execution_count": 5,
   "metadata": {},
   "outputs": [],
   "source": [
    "df_WPI[\"c\"] = 0.0514 * df_WPI[\"WPI\"] ** 0.465 + 0.5"
   ]
  },
  {
   "cell_type": "code",
   "execution_count": 6,
   "metadata": {},
   "outputs": [],
   "source": [
    "df_WPI[\"b\"] = df_WPI[\"c\"] * (-2.313 * df_WPI[\"WPI\"] ** 0.14 + 5)"
   ]
  },
  {
   "cell_type": "code",
   "execution_count": 7,
   "metadata": {},
   "outputs": [],
   "source": [
    "df_WPI[\"hr\"] = (0.00364 * df_WPI[\"WPI\"] ** 3.35 + 4 * df_WPI[\"WPI\"] + 11) * 32.44 * np.exp(0.0186 * df_WPI[\"WPI\"])"
   ]
  },
  {
   "cell_type": "code",
   "execution_count": 8,
   "metadata": {},
   "outputs": [
    {
     "data": {
      "text/html": [
       "<div>\n",
       "<style scoped>\n",
       "    .dataframe tbody tr th:only-of-type {\n",
       "        vertical-align: middle;\n",
       "    }\n",
       "\n",
       "    .dataframe tbody tr th {\n",
       "        vertical-align: top;\n",
       "    }\n",
       "\n",
       "    .dataframe thead th {\n",
       "        text-align: right;\n",
       "    }\n",
       "</style>\n",
       "<table border=\"1\" class=\"dataframe\">\n",
       "  <thead>\n",
       "    <tr style=\"text-align: right;\">\n",
       "      <th></th>\n",
       "      <th>WPI</th>\n",
       "      <th>a</th>\n",
       "      <th>c</th>\n",
       "      <th>b</th>\n",
       "      <th>hr</th>\n",
       "    </tr>\n",
       "  </thead>\n",
       "  <tbody>\n",
       "    <tr>\n",
       "      <th>0</th>\n",
       "      <td>0.1</td>\n",
       "      <td>11.400002</td>\n",
       "      <td>0.517618</td>\n",
       "      <td>1.720760</td>\n",
       "      <td>370.504551</td>\n",
       "    </tr>\n",
       "    <tr>\n",
       "      <th>1</th>\n",
       "      <td>0.9</td>\n",
       "      <td>14.602557</td>\n",
       "      <td>0.548942</td>\n",
       "      <td>1.493600</td>\n",
       "      <td>481.703564</td>\n",
       "    </tr>\n",
       "    <tr>\n",
       "      <th>2</th>\n",
       "      <td>0.3</td>\n",
       "      <td>12.200064</td>\n",
       "      <td>0.529365</td>\n",
       "      <td>1.612330</td>\n",
       "      <td>397.984662</td>\n",
       "    </tr>\n",
       "    <tr>\n",
       "      <th>3</th>\n",
       "      <td>5.0</td>\n",
       "      <td>31.799192</td>\n",
       "      <td>0.608639</td>\n",
       "      <td>1.279630</td>\n",
       "      <td>1132.103965</td>\n",
       "    </tr>\n",
       "    <tr>\n",
       "      <th>4</th>\n",
       "      <td>10.0</td>\n",
       "      <td>59.148945</td>\n",
       "      <td>0.649956</td>\n",
       "      <td>1.174581</td>\n",
       "      <td>2311.035526</td>\n",
       "    </tr>\n",
       "    <tr>\n",
       "      <th>5</th>\n",
       "      <td>15.0</td>\n",
       "      <td>102.696193</td>\n",
       "      <td>0.681070</td>\n",
       "      <td>1.103801</td>\n",
       "      <td>4403.554240</td>\n",
       "    </tr>\n",
       "    <tr>\n",
       "      <th>6</th>\n",
       "      <td>20.0</td>\n",
       "      <td>174.090595</td>\n",
       "      <td>0.706987</td>\n",
       "      <td>1.047617</td>\n",
       "      <td>8192.448171</td>\n",
       "    </tr>\n",
       "    <tr>\n",
       "      <th>7</th>\n",
       "      <td>30.0</td>\n",
       "      <td>454.189756</td>\n",
       "      <td>0.749934</td>\n",
       "      <td>0.957154</td>\n",
       "      <td>25742.724055</td>\n",
       "    </tr>\n",
       "    <tr>\n",
       "      <th>8</th>\n",
       "      <td>40.0</td>\n",
       "      <td>1018.232008</td>\n",
       "      <td>0.785707</td>\n",
       "      <td>0.882572</td>\n",
       "      <td>69509.263166</td>\n",
       "    </tr>\n",
       "    <tr>\n",
       "      <th>9</th>\n",
       "      <td>50.0</td>\n",
       "      <td>2000.167078</td>\n",
       "      <td>0.816945</td>\n",
       "      <td>0.817160</td>\n",
       "      <td>164452.692490</td>\n",
       "    </tr>\n",
       "  </tbody>\n",
       "</table>\n",
       "</div>"
      ],
      "text/plain": [
       "    WPI            a         c         b             hr\n",
       "0   0.1    11.400002  0.517618  1.720760     370.504551\n",
       "1   0.9    14.602557  0.548942  1.493600     481.703564\n",
       "2   0.3    12.200064  0.529365  1.612330     397.984662\n",
       "3   5.0    31.799192  0.608639  1.279630    1132.103965\n",
       "4  10.0    59.148945  0.649956  1.174581    2311.035526\n",
       "5  15.0   102.696193  0.681070  1.103801    4403.554240\n",
       "6  20.0   174.090595  0.706987  1.047617    8192.448171\n",
       "7  30.0   454.189756  0.749934  0.957154   25742.724055\n",
       "8  40.0  1018.232008  0.785707  0.882572   69509.263166\n",
       "9  50.0  2000.167078  0.816945  0.817160  164452.692490"
      ]
     },
     "execution_count": 8,
     "metadata": {},
     "output_type": "execute_result"
    }
   ],
   "source": [
    "df_WPI"
   ]
  },
  {
   "cell_type": "markdown",
   "metadata": {},
   "source": [
    "# Tabla Ch - WPI"
   ]
  },
  {
   "cell_type": "code",
   "execution_count": 9,
   "metadata": {},
   "outputs": [],
   "source": [
    "df_CH_WPI = pd.DataFrame(\n",
    "    {\n",
    "        \"h\": [\n",
    "            0.1,\n",
    "            1,\n",
    "            10,\n",
    "            100,\n",
    "            1000,\n",
    "            10000,\n",
    "            100000,\n",
    "            1000000,\n",
    "        ]\n",
    "    }\n",
    ")"
   ]
  },
  {
   "cell_type": "code",
   "execution_count": 10,
   "metadata": {},
   "outputs": [],
   "source": [
    "# Copia tabla anterior NO ME FUNCIONA NO ME DA EL MISMO VALOR\n",
    "df_CH_WPI = df_CH_WPI.copy()"
   ]
  },
  {
   "cell_type": "code",
   "execution_count": 11,
   "metadata": {},
   "outputs": [],
   "source": [
    "# Calculo de CH con 0.1\n",
    "df_CH_WPI[\"CH-0.1\"] = 1 - np.log(1 + df_CH_WPI['h'] / df_WPI[\"hr\"]) / np.log(1 + 1000000 / df_WPI[\"hr\"])"
   ]
  },
  {
   "cell_type": "code",
   "execution_count": 12,
   "metadata": {},
   "outputs": [],
   "source": [
    "df_CH_WPI[\"CH-0.9\"] = 1 - np.log(1 + df_CH_WPI['h'] / df_WPI[\"hr\"]) / np.log(1 + 1000000 / df_WPI[\"hr\"])"
   ]
  },
  {
   "cell_type": "code",
   "execution_count": 13,
   "metadata": {},
   "outputs": [],
   "source": [
    "df_CH_WPI[\"CH-0.3\"] = 1 - np.log(1 + df_CH_WPI['h'] / df_WPI[\"hr\"]) / np.log(1 + 1000000 / df_WPI[\"hr\"])"
   ]
  },
  {
   "cell_type": "code",
   "execution_count": 14,
   "metadata": {},
   "outputs": [],
   "source": [
    "df_CH_WPI[\"CH-5\"] = 1 - np.log(1 + df_CH_WPI['h'] / df_WPI[\"hr\"]) / np.log(1 + 1000000 / df_WPI[\"hr\"])"
   ]
  },
  {
   "cell_type": "code",
   "execution_count": 15,
   "metadata": {},
   "outputs": [],
   "source": [
    "df_CH_WPI[\"CH-10\"] = 1 - np.log(1 + df_CH_WPI['h'] / df_WPI[\"hr\"]) / np.log(1 + 1000000 / df_WPI[\"hr\"])"
   ]
  },
  {
   "cell_type": "code",
   "execution_count": 16,
   "metadata": {},
   "outputs": [],
   "source": [
    "df_CH_WPI[\"CH-15\"] = 1 - np.log(1 + df_CH_WPI['h'] / df_WPI[\"hr\"]) / np.log(1 + 1000000 / df_WPI[\"hr\"])"
   ]
  },
  {
   "cell_type": "code",
   "execution_count": 17,
   "metadata": {},
   "outputs": [],
   "source": [
    "df_CH_WPI[\"CH-20\"] = 1 - np.log(1 + df_CH_WPI['h'] / df_WPI[\"hr\"]) / np.log(1 + 1000000 / df_WPI[\"hr\"])"
   ]
  },
  {
   "cell_type": "code",
   "execution_count": 18,
   "metadata": {},
   "outputs": [],
   "source": [
    "df_CH_WPI[\"CH-30\"] = 1 - np.log(1 + df_CH_WPI['h'] / df_WPI[\"hr\"]) / np.log(1 + 1000000 / df_WPI[\"hr\"])"
   ]
  },
  {
   "cell_type": "code",
   "execution_count": 19,
   "metadata": {},
   "outputs": [],
   "source": [
    "df_CH_WPI[\"CH-40\"] = 1 - np.log(1 + df_CH_WPI['h'] / df_WPI[\"hr\"]) / np.log(1 + 1000000 / df_WPI[\"hr\"])"
   ]
  },
  {
   "cell_type": "code",
   "execution_count": 20,
   "metadata": {},
   "outputs": [],
   "source": [
    "df_CH_WPI[\"CH-50\"] = 1 - np.log(1 + df_CH_WPI['h'] / df_WPI[\"hr\"]) / np.log(1 + 1000000 / df_WPI[\"hr\"])"
   ]
  },
  {
   "cell_type": "code",
   "execution_count": 21,
   "metadata": {},
   "outputs": [
    {
     "data": {
      "text/html": [
       "<div>\n",
       "<style scoped>\n",
       "    .dataframe tbody tr th:only-of-type {\n",
       "        vertical-align: middle;\n",
       "    }\n",
       "\n",
       "    .dataframe tbody tr th {\n",
       "        vertical-align: top;\n",
       "    }\n",
       "\n",
       "    .dataframe thead th {\n",
       "        text-align: right;\n",
       "    }\n",
       "</style>\n",
       "<table border=\"1\" class=\"dataframe\">\n",
       "  <thead>\n",
       "    <tr style=\"text-align: right;\">\n",
       "      <th></th>\n",
       "      <th>h</th>\n",
       "      <th>CH-0.1</th>\n",
       "      <th>CH-0.9</th>\n",
       "      <th>CH-0.3</th>\n",
       "      <th>CH-5</th>\n",
       "      <th>CH-10</th>\n",
       "      <th>CH-15</th>\n",
       "      <th>CH-20</th>\n",
       "      <th>CH-30</th>\n",
       "      <th>CH-40</th>\n",
       "      <th>CH-50</th>\n",
       "    </tr>\n",
       "  </thead>\n",
       "  <tbody>\n",
       "    <tr>\n",
       "      <th>0</th>\n",
       "      <td>0.1</td>\n",
       "      <td>0.999966</td>\n",
       "      <td>0.999966</td>\n",
       "      <td>0.999966</td>\n",
       "      <td>0.999966</td>\n",
       "      <td>0.999966</td>\n",
       "      <td>0.999966</td>\n",
       "      <td>0.999966</td>\n",
       "      <td>0.999966</td>\n",
       "      <td>0.999966</td>\n",
       "      <td>0.999966</td>\n",
       "    </tr>\n",
       "    <tr>\n",
       "      <th>1</th>\n",
       "      <td>1.0</td>\n",
       "      <td>0.999729</td>\n",
       "      <td>0.999729</td>\n",
       "      <td>0.999729</td>\n",
       "      <td>0.999729</td>\n",
       "      <td>0.999729</td>\n",
       "      <td>0.999729</td>\n",
       "      <td>0.999729</td>\n",
       "      <td>0.999729</td>\n",
       "      <td>0.999729</td>\n",
       "      <td>0.999729</td>\n",
       "    </tr>\n",
       "    <tr>\n",
       "      <th>2</th>\n",
       "      <td>10.0</td>\n",
       "      <td>0.996830</td>\n",
       "      <td>0.996830</td>\n",
       "      <td>0.996830</td>\n",
       "      <td>0.996830</td>\n",
       "      <td>0.996830</td>\n",
       "      <td>0.996830</td>\n",
       "      <td>0.996830</td>\n",
       "      <td>0.996830</td>\n",
       "      <td>0.996830</td>\n",
       "      <td>0.996830</td>\n",
       "    </tr>\n",
       "    <tr>\n",
       "      <th>3</th>\n",
       "      <td>100.0</td>\n",
       "      <td>0.987524</td>\n",
       "      <td>0.987524</td>\n",
       "      <td>0.987524</td>\n",
       "      <td>0.987524</td>\n",
       "      <td>0.987524</td>\n",
       "      <td>0.987524</td>\n",
       "      <td>0.987524</td>\n",
       "      <td>0.987524</td>\n",
       "      <td>0.987524</td>\n",
       "      <td>0.987524</td>\n",
       "    </tr>\n",
       "    <tr>\n",
       "      <th>4</th>\n",
       "      <td>1000.0</td>\n",
       "      <td>0.940787</td>\n",
       "      <td>0.940787</td>\n",
       "      <td>0.940787</td>\n",
       "      <td>0.940787</td>\n",
       "      <td>0.940787</td>\n",
       "      <td>0.940787</td>\n",
       "      <td>0.940787</td>\n",
       "      <td>0.940787</td>\n",
       "      <td>0.940787</td>\n",
       "      <td>0.940787</td>\n",
       "    </tr>\n",
       "    <tr>\n",
       "      <th>5</th>\n",
       "      <td>10000.0</td>\n",
       "      <td>0.781746</td>\n",
       "      <td>0.781746</td>\n",
       "      <td>0.781746</td>\n",
       "      <td>0.781746</td>\n",
       "      <td>0.781746</td>\n",
       "      <td>0.781746</td>\n",
       "      <td>0.781746</td>\n",
       "      <td>0.781746</td>\n",
       "      <td>0.781746</td>\n",
       "      <td>0.781746</td>\n",
       "    </tr>\n",
       "    <tr>\n",
       "      <th>6</th>\n",
       "      <td>100000.0</td>\n",
       "      <td>0.463773</td>\n",
       "      <td>0.463773</td>\n",
       "      <td>0.463773</td>\n",
       "      <td>0.463773</td>\n",
       "      <td>0.463773</td>\n",
       "      <td>0.463773</td>\n",
       "      <td>0.463773</td>\n",
       "      <td>0.463773</td>\n",
       "      <td>0.463773</td>\n",
       "      <td>0.463773</td>\n",
       "    </tr>\n",
       "    <tr>\n",
       "      <th>7</th>\n",
       "      <td>1000000.0</td>\n",
       "      <td>0.000000</td>\n",
       "      <td>0.000000</td>\n",
       "      <td>0.000000</td>\n",
       "      <td>0.000000</td>\n",
       "      <td>0.000000</td>\n",
       "      <td>0.000000</td>\n",
       "      <td>0.000000</td>\n",
       "      <td>0.000000</td>\n",
       "      <td>0.000000</td>\n",
       "      <td>0.000000</td>\n",
       "    </tr>\n",
       "  </tbody>\n",
       "</table>\n",
       "</div>"
      ],
      "text/plain": [
       "           h    CH-0.1    CH-0.9    CH-0.3      CH-5     CH-10     CH-15  \\\n",
       "0        0.1  0.999966  0.999966  0.999966  0.999966  0.999966  0.999966   \n",
       "1        1.0  0.999729  0.999729  0.999729  0.999729  0.999729  0.999729   \n",
       "2       10.0  0.996830  0.996830  0.996830  0.996830  0.996830  0.996830   \n",
       "3      100.0  0.987524  0.987524  0.987524  0.987524  0.987524  0.987524   \n",
       "4     1000.0  0.940787  0.940787  0.940787  0.940787  0.940787  0.940787   \n",
       "5    10000.0  0.781746  0.781746  0.781746  0.781746  0.781746  0.781746   \n",
       "6   100000.0  0.463773  0.463773  0.463773  0.463773  0.463773  0.463773   \n",
       "7  1000000.0  0.000000  0.000000  0.000000  0.000000  0.000000  0.000000   \n",
       "\n",
       "      CH-20     CH-30     CH-40     CH-50  \n",
       "0  0.999966  0.999966  0.999966  0.999966  \n",
       "1  0.999729  0.999729  0.999729  0.999729  \n",
       "2  0.996830  0.996830  0.996830  0.996830  \n",
       "3  0.987524  0.987524  0.987524  0.987524  \n",
       "4  0.940787  0.940787  0.940787  0.940787  \n",
       "5  0.781746  0.781746  0.781746  0.781746  \n",
       "6  0.463773  0.463773  0.463773  0.463773  \n",
       "7  0.000000  0.000000  0.000000  0.000000  "
      ]
     },
     "execution_count": 21,
     "metadata": {},
     "output_type": "execute_result"
    }
   ],
   "source": [
    "df_CH_WPI"
   ]
  },
  {
   "cell_type": "markdown",
   "metadata": {},
   "source": [
    "# Tabla 3  df_S_WPI"
   ]
  },
  {
   "cell_type": "code",
   "execution_count": 22,
   "metadata": {},
   "outputs": [],
   "source": [
    "df_S_WPI = pd.DataFrame(\n",
    "        {\n",
    "        \"h\": [\n",
    "            0.1,\n",
    "            1,\n",
    "            10,\n",
    "            100,\n",
    "            1000,\n",
    "            10000,\n",
    "            100000,\n",
    "            1000000,\n",
    "        ]\n",
    "    }\n",
    ")"
   ]
  },
  {
   "cell_type": "code",
   "execution_count": 23,
   "metadata": {},
   "outputs": [],
   "source": [
    "df_S_WPI = df_S_WPI.copy()"
   ]
  },
  {
   "cell_type": "code",
   "execution_count": 24,
   "metadata": {},
   "outputs": [],
   "source": [
    "df_S_WPI[\"S-0.1\"] = df_CH_WPI[\"CH-0.1\"] / (np.log(np.exp(1) + (df_S_WPI['h'] / df_WPI[\"a\"]) ** df_WPI[\"b\"]) ** df_WPI[\"c\"])"
   ]
  },
  {
   "cell_type": "code",
   "execution_count": 25,
   "metadata": {},
   "outputs": [],
   "source": [
    "df_S_WPI[\"S-0.9\"] = df_CH_WPI[\"CH-0.1\"] / (np.log(np.exp(1) + (df_S_WPI['h'] / df_WPI[\"a\"]) ** df_WPI[\"b\"]) ** df_WPI[\"c\"])"
   ]
  },
  {
   "cell_type": "code",
   "execution_count": 26,
   "metadata": {},
   "outputs": [],
   "source": [
    "df_S_WPI[\"S-0.3\"] = df_CH_WPI[\"CH-0.1\"] / (np.log(np.exp(1) + (df_S_WPI['h'] / df_WPI[\"a\"]) ** df_WPI[\"b\"]) ** df_WPI[\"c\"])"
   ]
  },
  {
   "cell_type": "code",
   "execution_count": 27,
   "metadata": {},
   "outputs": [],
   "source": [
    "df_S_WPI[\"S-5\"] = df_CH_WPI[\"CH-0.1\"] / (np.log(np.exp(1) + (df_S_WPI['h'] / df_WPI[\"a\"]) ** df_WPI[\"b\"]) ** df_WPI[\"c\"])"
   ]
  },
  {
   "cell_type": "code",
   "execution_count": 28,
   "metadata": {},
   "outputs": [],
   "source": [
    "df_S_WPI[\"S-10\"] = df_CH_WPI[\"CH-0.1\"] / (np.log(np.exp(1) + (df_S_WPI['h'] / df_WPI[\"a\"]) ** df_WPI[\"b\"]) ** df_WPI[\"c\"])"
   ]
  },
  {
   "cell_type": "code",
   "execution_count": 29,
   "metadata": {},
   "outputs": [],
   "source": [
    "df_S_WPI[\"S-15\"] = df_CH_WPI[\"CH-0.1\"] / (np.log(np.exp(1) + (df_S_WPI['h'] / df_WPI[\"a\"]) ** df_WPI[\"b\"]) ** df_WPI[\"c\"])"
   ]
  },
  {
   "cell_type": "code",
   "execution_count": 30,
   "metadata": {},
   "outputs": [],
   "source": [
    "df_S_WPI[\"S-20\"] = df_CH_WPI[\"CH-0.1\"] / (np.log(np.exp(1) + (df_S_WPI['h'] / df_WPI[\"a\"]) ** df_WPI[\"b\"]) ** df_WPI[\"c\"])"
   ]
  },
  {
   "cell_type": "code",
   "execution_count": 31,
   "metadata": {},
   "outputs": [],
   "source": [
    "df_S_WPI[\"S-30\"] = df_CH_WPI[\"CH-0.1\"] / (np.log(np.exp(1) + (df_S_WPI['h'] / df_WPI[\"a\"]) ** df_WPI[\"b\"]) ** df_WPI[\"c\"])"
   ]
  },
  {
   "cell_type": "code",
   "execution_count": 32,
   "metadata": {},
   "outputs": [],
   "source": [
    "df_S_WPI[\"S-40\"] = df_CH_WPI[\"CH-0.1\"] / (np.log(np.exp(1) + (df_S_WPI['h'] / df_WPI[\"a\"]) ** df_WPI[\"b\"]) ** df_WPI[\"c\"])"
   ]
  },
  {
   "cell_type": "code",
   "execution_count": 33,
   "metadata": {},
   "outputs": [],
   "source": [
    "df_S_WPI[\"S-50\"] = df_CH_WPI[\"CH-0.1\"] / (np.log(np.exp(1) + (df_S_WPI['h'] / df_WPI[\"a\"]) ** df_WPI[\"b\"]) ** df_WPI[\"c\"])"
   ]
  },
  {
   "cell_type": "code",
   "execution_count": 34,
   "metadata": {},
   "outputs": [
    {
     "data": {
      "text/html": [
       "<div>\n",
       "<style scoped>\n",
       "    .dataframe tbody tr th:only-of-type {\n",
       "        vertical-align: middle;\n",
       "    }\n",
       "\n",
       "    .dataframe tbody tr th {\n",
       "        vertical-align: top;\n",
       "    }\n",
       "\n",
       "    .dataframe thead th {\n",
       "        text-align: right;\n",
       "    }\n",
       "</style>\n",
       "<table border=\"1\" class=\"dataframe\">\n",
       "  <thead>\n",
       "    <tr style=\"text-align: right;\">\n",
       "      <th></th>\n",
       "      <th>h</th>\n",
       "      <th>S-0.1</th>\n",
       "      <th>S-0.9</th>\n",
       "      <th>S-0.3</th>\n",
       "      <th>S-5</th>\n",
       "      <th>S-10</th>\n",
       "      <th>S-15</th>\n",
       "      <th>S-20</th>\n",
       "      <th>S-30</th>\n",
       "      <th>S-40</th>\n",
       "      <th>S-50</th>\n",
       "    </tr>\n",
       "  </thead>\n",
       "  <tbody>\n",
       "    <tr>\n",
       "      <th>0</th>\n",
       "      <td>0.1</td>\n",
       "      <td>0.999911</td>\n",
       "      <td>0.999911</td>\n",
       "      <td>0.999911</td>\n",
       "      <td>0.999911</td>\n",
       "      <td>0.999911</td>\n",
       "      <td>0.999911</td>\n",
       "      <td>0.999911</td>\n",
       "      <td>0.999911</td>\n",
       "      <td>0.999911</td>\n",
       "      <td>0.999911</td>\n",
       "    </tr>\n",
       "    <tr>\n",
       "      <th>1</th>\n",
       "      <td>1.0</td>\n",
       "      <td>0.996079</td>\n",
       "      <td>0.996079</td>\n",
       "      <td>0.996079</td>\n",
       "      <td>0.996079</td>\n",
       "      <td>0.996079</td>\n",
       "      <td>0.996079</td>\n",
       "      <td>0.996079</td>\n",
       "      <td>0.996079</td>\n",
       "      <td>0.996079</td>\n",
       "      <td>0.996079</td>\n",
       "    </tr>\n",
       "    <tr>\n",
       "      <th>2</th>\n",
       "      <td>10.0</td>\n",
       "      <td>0.890827</td>\n",
       "      <td>0.890827</td>\n",
       "      <td>0.890827</td>\n",
       "      <td>0.890827</td>\n",
       "      <td>0.890827</td>\n",
       "      <td>0.890827</td>\n",
       "      <td>0.890827</td>\n",
       "      <td>0.890827</td>\n",
       "      <td>0.890827</td>\n",
       "      <td>0.890827</td>\n",
       "    </tr>\n",
       "    <tr>\n",
       "      <th>3</th>\n",
       "      <td>100.0</td>\n",
       "      <td>0.657051</td>\n",
       "      <td>0.657051</td>\n",
       "      <td>0.657051</td>\n",
       "      <td>0.657051</td>\n",
       "      <td>0.657051</td>\n",
       "      <td>0.657051</td>\n",
       "      <td>0.657051</td>\n",
       "      <td>0.657051</td>\n",
       "      <td>0.657051</td>\n",
       "      <td>0.657051</td>\n",
       "    </tr>\n",
       "    <tr>\n",
       "      <th>4</th>\n",
       "      <td>1000.0</td>\n",
       "      <td>0.423460</td>\n",
       "      <td>0.423460</td>\n",
       "      <td>0.423460</td>\n",
       "      <td>0.423460</td>\n",
       "      <td>0.423460</td>\n",
       "      <td>0.423460</td>\n",
       "      <td>0.423460</td>\n",
       "      <td>0.423460</td>\n",
       "      <td>0.423460</td>\n",
       "      <td>0.423460</td>\n",
       "    </tr>\n",
       "    <tr>\n",
       "      <th>5</th>\n",
       "      <td>10000.0</td>\n",
       "      <td>0.258729</td>\n",
       "      <td>0.258729</td>\n",
       "      <td>0.258729</td>\n",
       "      <td>0.258729</td>\n",
       "      <td>0.258729</td>\n",
       "      <td>0.258729</td>\n",
       "      <td>0.258729</td>\n",
       "      <td>0.258729</td>\n",
       "      <td>0.258729</td>\n",
       "      <td>0.258729</td>\n",
       "    </tr>\n",
       "    <tr>\n",
       "      <th>6</th>\n",
       "      <td>100000.0</td>\n",
       "      <td>0.121381</td>\n",
       "      <td>0.121381</td>\n",
       "      <td>0.121381</td>\n",
       "      <td>0.121381</td>\n",
       "      <td>0.121381</td>\n",
       "      <td>0.121381</td>\n",
       "      <td>0.121381</td>\n",
       "      <td>0.121381</td>\n",
       "      <td>0.121381</td>\n",
       "      <td>0.121381</td>\n",
       "    </tr>\n",
       "    <tr>\n",
       "      <th>7</th>\n",
       "      <td>1000000.0</td>\n",
       "      <td>0.000000</td>\n",
       "      <td>0.000000</td>\n",
       "      <td>0.000000</td>\n",
       "      <td>0.000000</td>\n",
       "      <td>0.000000</td>\n",
       "      <td>0.000000</td>\n",
       "      <td>0.000000</td>\n",
       "      <td>0.000000</td>\n",
       "      <td>0.000000</td>\n",
       "      <td>0.000000</td>\n",
       "    </tr>\n",
       "  </tbody>\n",
       "</table>\n",
       "</div>"
      ],
      "text/plain": [
       "           h     S-0.1     S-0.9     S-0.3       S-5      S-10      S-15  \\\n",
       "0        0.1  0.999911  0.999911  0.999911  0.999911  0.999911  0.999911   \n",
       "1        1.0  0.996079  0.996079  0.996079  0.996079  0.996079  0.996079   \n",
       "2       10.0  0.890827  0.890827  0.890827  0.890827  0.890827  0.890827   \n",
       "3      100.0  0.657051  0.657051  0.657051  0.657051  0.657051  0.657051   \n",
       "4     1000.0  0.423460  0.423460  0.423460  0.423460  0.423460  0.423460   \n",
       "5    10000.0  0.258729  0.258729  0.258729  0.258729  0.258729  0.258729   \n",
       "6   100000.0  0.121381  0.121381  0.121381  0.121381  0.121381  0.121381   \n",
       "7  1000000.0  0.000000  0.000000  0.000000  0.000000  0.000000  0.000000   \n",
       "\n",
       "       S-20      S-30      S-40      S-50  \n",
       "0  0.999911  0.999911  0.999911  0.999911  \n",
       "1  0.996079  0.996079  0.996079  0.996079  \n",
       "2  0.890827  0.890827  0.890827  0.890827  \n",
       "3  0.657051  0.657051  0.657051  0.657051  \n",
       "4  0.423460  0.423460  0.423460  0.423460  \n",
       "5  0.258729  0.258729  0.258729  0.258729  \n",
       "6  0.121381  0.121381  0.121381  0.121381  \n",
       "7  0.000000  0.000000  0.000000  0.000000  "
      ]
     },
     "execution_count": 34,
     "metadata": {},
     "output_type": "execute_result"
    }
   ],
   "source": [
    "df_S_WPI"
   ]
  }
 ],
 "metadata": {
  "kernelspec": {
   "display_name": "env",
   "language": "python",
   "name": "python3"
  },
  "language_info": {
   "codemirror_mode": {
    "name": "ipython",
    "version": 3
   },
   "file_extension": ".py",
   "mimetype": "text/x-python",
   "name": "python",
   "nbconvert_exporter": "python",
   "pygments_lexer": "ipython3",
   "version": "3.11.9"
  }
 },
 "nbformat": 4,
 "nbformat_minor": 2
}
