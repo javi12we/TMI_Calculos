{
 "cells": [
  {
   "cell_type": "code",
   "execution_count": 104,
   "metadata": {},
   "outputs": [],
   "source": [
    "import pandas as pd\n",
    "import numpy as np\n",
    "import plotly.express as px"
   ]
  },
  {
   "cell_type": "markdown",
   "metadata": {},
   "source": [
    "# Datos de entrada"
   ]
  },
  {
   "cell_type": "code",
   "execution_count": 105,
   "metadata": {},
   "outputs": [],
   "source": [
    "df_WPI = pd.DataFrame(\n",
    "    {\n",
    "        \"WPI\": [\n",
    "            0.1,\n",
    "            0.9,\n",
    "            0.3,\n",
    "            5,\n",
    "            10,\n",
    "            15,\n",
    "            20,\n",
    "            30,\n",
    "            40,\n",
    "            50,\n",
    "        ]\n",
    "    }\n",
    ")"
   ]
  },
  {
   "cell_type": "markdown",
   "metadata": {},
   "source": [
    "# TABLA HR -WPI"
   ]
  },
  {
   "cell_type": "code",
   "execution_count": 106,
   "metadata": {},
   "outputs": [],
   "source": [
    "df_WPI[\"a\"] = (0.00364 * df_WPI[\"WPI\"] ** 3.35 + 4 * df_WPI[\"WPI\"] + 11)"
   ]
  },
  {
   "cell_type": "code",
   "execution_count": 107,
   "metadata": {},
   "outputs": [],
   "source": [
    "df_WPI[\"c\"] = 0.0514 * df_WPI[\"WPI\"] ** 0.465 + 0.5"
   ]
  },
  {
   "cell_type": "code",
   "execution_count": 108,
   "metadata": {},
   "outputs": [],
   "source": [
    "df_WPI[\"b\"] = df_WPI[\"c\"] * (-2.313 * df_WPI[\"WPI\"] ** 0.14 + 5)"
   ]
  },
  {
   "cell_type": "code",
   "execution_count": 109,
   "metadata": {},
   "outputs": [],
   "source": [
    "df_WPI[\"hr\"] = (0.00364 * df_WPI[\"WPI\"] ** 3.35 + 4 * df_WPI[\"WPI\"] + 11) * 32.44 * np.exp(0.0186 * df_WPI[\"WPI\"])"
   ]
  },
  {
   "cell_type": "code",
   "execution_count": 110,
   "metadata": {},
   "outputs": [
    {
     "data": {
      "text/html": [
       "<div>\n",
       "<style scoped>\n",
       "    .dataframe tbody tr th:only-of-type {\n",
       "        vertical-align: middle;\n",
       "    }\n",
       "\n",
       "    .dataframe tbody tr th {\n",
       "        vertical-align: top;\n",
       "    }\n",
       "\n",
       "    .dataframe thead th {\n",
       "        text-align: right;\n",
       "    }\n",
       "</style>\n",
       "<table border=\"1\" class=\"dataframe\">\n",
       "  <thead>\n",
       "    <tr style=\"text-align: right;\">\n",
       "      <th></th>\n",
       "      <th>WPI</th>\n",
       "      <th>a</th>\n",
       "      <th>c</th>\n",
       "      <th>b</th>\n",
       "      <th>hr</th>\n",
       "    </tr>\n",
       "  </thead>\n",
       "  <tbody>\n",
       "    <tr>\n",
       "      <th>0</th>\n",
       "      <td>0.1</td>\n",
       "      <td>11.400002</td>\n",
       "      <td>0.517618</td>\n",
       "      <td>1.720760</td>\n",
       "      <td>370.504551</td>\n",
       "    </tr>\n",
       "    <tr>\n",
       "      <th>1</th>\n",
       "      <td>0.9</td>\n",
       "      <td>14.602557</td>\n",
       "      <td>0.548942</td>\n",
       "      <td>1.493600</td>\n",
       "      <td>481.703564</td>\n",
       "    </tr>\n",
       "    <tr>\n",
       "      <th>2</th>\n",
       "      <td>0.3</td>\n",
       "      <td>12.200064</td>\n",
       "      <td>0.529365</td>\n",
       "      <td>1.612330</td>\n",
       "      <td>397.984662</td>\n",
       "    </tr>\n",
       "    <tr>\n",
       "      <th>3</th>\n",
       "      <td>5.0</td>\n",
       "      <td>31.799192</td>\n",
       "      <td>0.608639</td>\n",
       "      <td>1.279630</td>\n",
       "      <td>1132.103965</td>\n",
       "    </tr>\n",
       "    <tr>\n",
       "      <th>4</th>\n",
       "      <td>10.0</td>\n",
       "      <td>59.148945</td>\n",
       "      <td>0.649956</td>\n",
       "      <td>1.174581</td>\n",
       "      <td>2311.035526</td>\n",
       "    </tr>\n",
       "    <tr>\n",
       "      <th>5</th>\n",
       "      <td>15.0</td>\n",
       "      <td>102.696193</td>\n",
       "      <td>0.681070</td>\n",
       "      <td>1.103801</td>\n",
       "      <td>4403.554240</td>\n",
       "    </tr>\n",
       "    <tr>\n",
       "      <th>6</th>\n",
       "      <td>20.0</td>\n",
       "      <td>174.090595</td>\n",
       "      <td>0.706987</td>\n",
       "      <td>1.047617</td>\n",
       "      <td>8192.448171</td>\n",
       "    </tr>\n",
       "    <tr>\n",
       "      <th>7</th>\n",
       "      <td>30.0</td>\n",
       "      <td>454.189756</td>\n",
       "      <td>0.749934</td>\n",
       "      <td>0.957154</td>\n",
       "      <td>25742.724055</td>\n",
       "    </tr>\n",
       "    <tr>\n",
       "      <th>8</th>\n",
       "      <td>40.0</td>\n",
       "      <td>1018.232008</td>\n",
       "      <td>0.785707</td>\n",
       "      <td>0.882572</td>\n",
       "      <td>69509.263166</td>\n",
       "    </tr>\n",
       "    <tr>\n",
       "      <th>9</th>\n",
       "      <td>50.0</td>\n",
       "      <td>2000.167078</td>\n",
       "      <td>0.816945</td>\n",
       "      <td>0.817160</td>\n",
       "      <td>164452.692490</td>\n",
       "    </tr>\n",
       "  </tbody>\n",
       "</table>\n",
       "</div>"
      ],
      "text/plain": [
       "    WPI            a         c         b             hr\n",
       "0   0.1    11.400002  0.517618  1.720760     370.504551\n",
       "1   0.9    14.602557  0.548942  1.493600     481.703564\n",
       "2   0.3    12.200064  0.529365  1.612330     397.984662\n",
       "3   5.0    31.799192  0.608639  1.279630    1132.103965\n",
       "4  10.0    59.148945  0.649956  1.174581    2311.035526\n",
       "5  15.0   102.696193  0.681070  1.103801    4403.554240\n",
       "6  20.0   174.090595  0.706987  1.047617    8192.448171\n",
       "7  30.0   454.189756  0.749934  0.957154   25742.724055\n",
       "8  40.0  1018.232008  0.785707  0.882572   69509.263166\n",
       "9  50.0  2000.167078  0.816945  0.817160  164452.692490"
      ]
     },
     "execution_count": 110,
     "metadata": {},
     "output_type": "execute_result"
    }
   ],
   "source": [
    "df_WPI"
   ]
  },
  {
   "cell_type": "markdown",
   "metadata": {},
   "source": [
    "# Tabla Ch"
   ]
  },
  {
   "cell_type": "code",
   "execution_count": 111,
   "metadata": {},
   "outputs": [],
   "source": [
    "df_CH = pd.DataFrame(\n",
    "    {\n",
    "        \"h\": [\n",
    "            0.1,\n",
    "            1,\n",
    "            10,\n",
    "            100,\n",
    "            1000,\n",
    "            10000,\n",
    "            100000,\n",
    "            1000000,\n",
    "        ]\n",
    "    }\n",
    ")"
   ]
  },
  {
   "cell_type": "code",
   "execution_count": 112,
   "metadata": {},
   "outputs": [],
   "source": [
    "# Crear la tabla C(h) usando los valores de hr en df_WPI y los valores de h en df_CH\n",
    "for index, row in df_WPI.iterrows():\n",
    "    df_CH[f\"C(h)_WPI_{row['WPI']}\"] = df_CH[\"h\"].apply(lambda h, hr_value = row[\"hr\"]: 1 - np.log(1 + h / hr_value) / np.log(1 + 1000000 / hr_value))"
   ]
  },
  {
   "cell_type": "code",
   "execution_count": 113,
   "metadata": {},
   "outputs": [
    {
     "data": {
      "text/html": [
       "<div>\n",
       "<style scoped>\n",
       "    .dataframe tbody tr th:only-of-type {\n",
       "        vertical-align: middle;\n",
       "    }\n",
       "\n",
       "    .dataframe tbody tr th {\n",
       "        vertical-align: top;\n",
       "    }\n",
       "\n",
       "    .dataframe thead th {\n",
       "        text-align: right;\n",
       "    }\n",
       "</style>\n",
       "<table border=\"1\" class=\"dataframe\">\n",
       "  <thead>\n",
       "    <tr style=\"text-align: right;\">\n",
       "      <th></th>\n",
       "      <th>h</th>\n",
       "      <th>C(h)_WPI_0.1</th>\n",
       "      <th>C(h)_WPI_0.9</th>\n",
       "      <th>C(h)_WPI_0.3</th>\n",
       "      <th>C(h)_WPI_5.0</th>\n",
       "      <th>C(h)_WPI_10.0</th>\n",
       "      <th>C(h)_WPI_15.0</th>\n",
       "      <th>C(h)_WPI_20.0</th>\n",
       "      <th>C(h)_WPI_30.0</th>\n",
       "      <th>C(h)_WPI_40.0</th>\n",
       "      <th>C(h)_WPI_50.0</th>\n",
       "    </tr>\n",
       "  </thead>\n",
       "  <tbody>\n",
       "    <tr>\n",
       "      <th>0</th>\n",
       "      <td>0.1</td>\n",
       "      <td>0.999966</td>\n",
       "      <td>0.999973</td>\n",
       "      <td>0.999968</td>\n",
       "      <td>0.999987</td>\n",
       "      <td>0.999993</td>\n",
       "      <td>0.999996</td>\n",
       "      <td>0.999997</td>\n",
       "      <td>0.999999</td>\n",
       "      <td>0.999999</td>\n",
       "      <td>1.000000</td>\n",
       "    </tr>\n",
       "    <tr>\n",
       "      <th>1</th>\n",
       "      <td>1.0</td>\n",
       "      <td>0.999659</td>\n",
       "      <td>0.999729</td>\n",
       "      <td>0.999679</td>\n",
       "      <td>0.999870</td>\n",
       "      <td>0.999929</td>\n",
       "      <td>0.999958</td>\n",
       "      <td>0.999975</td>\n",
       "      <td>0.999989</td>\n",
       "      <td>0.999995</td>\n",
       "      <td>0.999997</td>\n",
       "    </tr>\n",
       "    <tr>\n",
       "      <th>2</th>\n",
       "      <td>10.0</td>\n",
       "      <td>0.996629</td>\n",
       "      <td>0.997310</td>\n",
       "      <td>0.996830</td>\n",
       "      <td>0.998704</td>\n",
       "      <td>0.999289</td>\n",
       "      <td>0.999582</td>\n",
       "      <td>0.999747</td>\n",
       "      <td>0.999895</td>\n",
       "      <td>0.999947</td>\n",
       "      <td>0.999969</td>\n",
       "    </tr>\n",
       "    <tr>\n",
       "      <th>3</th>\n",
       "      <td>100.0</td>\n",
       "      <td>0.969758</td>\n",
       "      <td>0.975306</td>\n",
       "      <td>0.971370</td>\n",
       "      <td>0.987524</td>\n",
       "      <td>0.993024</td>\n",
       "      <td>0.995864</td>\n",
       "      <td>0.997479</td>\n",
       "      <td>0.998948</td>\n",
       "      <td>0.999474</td>\n",
       "      <td>0.999689</td>\n",
       "    </tr>\n",
       "    <tr>\n",
       "      <th>4</th>\n",
       "      <td>1000.0</td>\n",
       "      <td>0.834443</td>\n",
       "      <td>0.852904</td>\n",
       "      <td>0.839533</td>\n",
       "      <td>0.906699</td>\n",
       "      <td>0.940787</td>\n",
       "      <td>0.962310</td>\n",
       "      <td>0.976070</td>\n",
       "      <td>0.989658</td>\n",
       "      <td>0.994774</td>\n",
       "      <td>0.996903</td>\n",
       "    </tr>\n",
       "    <tr>\n",
       "      <th>5</th>\n",
       "      <td>10000.0</td>\n",
       "      <td>0.578300</td>\n",
       "      <td>0.596781</td>\n",
       "      <td>0.583248</td>\n",
       "      <td>0.663107</td>\n",
       "      <td>0.724523</td>\n",
       "      <td>0.781746</td>\n",
       "      <td>0.834232</td>\n",
       "      <td>0.910938</td>\n",
       "      <td>0.950827</td>\n",
       "      <td>0.969842</td>\n",
       "    </tr>\n",
       "    <tr>\n",
       "      <th>6</th>\n",
       "      <td>100000.0</td>\n",
       "      <td>0.291008</td>\n",
       "      <td>0.300872</td>\n",
       "      <td>0.293635</td>\n",
       "      <td>0.337881</td>\n",
       "      <td>0.375808</td>\n",
       "      <td>0.416942</td>\n",
       "      <td>0.463773</td>\n",
       "      <td>0.569586</td>\n",
       "      <td>0.673880</td>\n",
       "      <td>0.757309</td>\n",
       "    </tr>\n",
       "    <tr>\n",
       "      <th>7</th>\n",
       "      <td>1000000.0</td>\n",
       "      <td>0.000000</td>\n",
       "      <td>0.000000</td>\n",
       "      <td>0.000000</td>\n",
       "      <td>0.000000</td>\n",
       "      <td>0.000000</td>\n",
       "      <td>0.000000</td>\n",
       "      <td>0.000000</td>\n",
       "      <td>0.000000</td>\n",
       "      <td>0.000000</td>\n",
       "      <td>0.000000</td>\n",
       "    </tr>\n",
       "  </tbody>\n",
       "</table>\n",
       "</div>"
      ],
      "text/plain": [
       "           h  C(h)_WPI_0.1  C(h)_WPI_0.9  C(h)_WPI_0.3  C(h)_WPI_5.0  \\\n",
       "0        0.1      0.999966      0.999973      0.999968      0.999987   \n",
       "1        1.0      0.999659      0.999729      0.999679      0.999870   \n",
       "2       10.0      0.996629      0.997310      0.996830      0.998704   \n",
       "3      100.0      0.969758      0.975306      0.971370      0.987524   \n",
       "4     1000.0      0.834443      0.852904      0.839533      0.906699   \n",
       "5    10000.0      0.578300      0.596781      0.583248      0.663107   \n",
       "6   100000.0      0.291008      0.300872      0.293635      0.337881   \n",
       "7  1000000.0      0.000000      0.000000      0.000000      0.000000   \n",
       "\n",
       "   C(h)_WPI_10.0  C(h)_WPI_15.0  C(h)_WPI_20.0  C(h)_WPI_30.0  C(h)_WPI_40.0  \\\n",
       "0       0.999993       0.999996       0.999997       0.999999       0.999999   \n",
       "1       0.999929       0.999958       0.999975       0.999989       0.999995   \n",
       "2       0.999289       0.999582       0.999747       0.999895       0.999947   \n",
       "3       0.993024       0.995864       0.997479       0.998948       0.999474   \n",
       "4       0.940787       0.962310       0.976070       0.989658       0.994774   \n",
       "5       0.724523       0.781746       0.834232       0.910938       0.950827   \n",
       "6       0.375808       0.416942       0.463773       0.569586       0.673880   \n",
       "7       0.000000       0.000000       0.000000       0.000000       0.000000   \n",
       "\n",
       "   C(h)_WPI_50.0  \n",
       "0       1.000000  \n",
       "1       0.999997  \n",
       "2       0.999969  \n",
       "3       0.999689  \n",
       "4       0.996903  \n",
       "5       0.969842  \n",
       "6       0.757309  \n",
       "7       0.000000  "
      ]
     },
     "execution_count": 113,
     "metadata": {},
     "output_type": "execute_result"
    }
   ],
   "source": [
    "df_CH"
   ]
  },
  {
   "cell_type": "markdown",
   "metadata": {},
   "source": [
    "# Tabla S"
   ]
  },
  {
   "cell_type": "code",
   "execution_count": 114,
   "metadata": {},
   "outputs": [],
   "source": [
    "# Crear una tabla de S usando los valores calculados para C(h)\n",
    "df_S = df_CH[[\"h\"]].copy()  # Copiar solo la columna h"
   ]
  },
  {
   "cell_type": "code",
   "execution_count": 115,
   "metadata": {},
   "outputs": [],
   "source": [
    "# Calcular S para cada conjunto de parámetros a, b, c, y cada valor de C(h) en df_CH\n",
    "for index, row in df_WPI.iterrows():\n",
    "    a_value = row[\"a\"]\n",
    "    b_value = row[\"b\"]\n",
    "    c_value = row[\"c\"]\n",
    "    column_name = f\"{row['WPI']}\"\n",
    "    df_S[column_name] = df_CH[f\"C(h)_WPI_{row['WPI']}\"] * (1 / (np.log(np.exp(1) + (df_CH[\"h\"] / a_value)**b_value)**c_value))"
   ]
  },
  {
   "cell_type": "code",
   "execution_count": 116,
   "metadata": {},
   "outputs": [
    {
     "data": {
      "text/html": [
       "<div>\n",
       "<style scoped>\n",
       "    .dataframe tbody tr th:only-of-type {\n",
       "        vertical-align: middle;\n",
       "    }\n",
       "\n",
       "    .dataframe tbody tr th {\n",
       "        vertical-align: top;\n",
       "    }\n",
       "\n",
       "    .dataframe thead th {\n",
       "        text-align: right;\n",
       "    }\n",
       "</style>\n",
       "<table border=\"1\" class=\"dataframe\">\n",
       "  <thead>\n",
       "    <tr style=\"text-align: right;\">\n",
       "      <th></th>\n",
       "      <th>h</th>\n",
       "      <th>0.1</th>\n",
       "      <th>0.9</th>\n",
       "      <th>0.3</th>\n",
       "      <th>5.0</th>\n",
       "      <th>10.0</th>\n",
       "      <th>15.0</th>\n",
       "      <th>20.0</th>\n",
       "      <th>30.0</th>\n",
       "      <th>40.0</th>\n",
       "      <th>50.0</th>\n",
       "    </tr>\n",
       "  </thead>\n",
       "  <tbody>\n",
       "    <tr>\n",
       "      <th>0</th>\n",
       "      <td>0.1</td>\n",
       "      <td>0.999911</td>\n",
       "      <td>0.999855</td>\n",
       "      <td>0.999884</td>\n",
       "      <td>0.999846</td>\n",
       "      <td>0.999860</td>\n",
       "      <td>0.999877</td>\n",
       "      <td>0.999893</td>\n",
       "      <td>0.999912</td>\n",
       "      <td>0.999916</td>\n",
       "      <td>0.999908</td>\n",
       "    </tr>\n",
       "    <tr>\n",
       "      <th>1</th>\n",
       "      <td>1.0</td>\n",
       "      <td>0.996789</td>\n",
       "      <td>0.996079</td>\n",
       "      <td>0.996258</td>\n",
       "      <td>0.997209</td>\n",
       "      <td>0.997954</td>\n",
       "      <td>0.998454</td>\n",
       "      <td>0.998809</td>\n",
       "      <td>0.999201</td>\n",
       "      <td>0.999355</td>\n",
       "      <td>0.999394</td>\n",
       "    </tr>\n",
       "    <tr>\n",
       "      <th>2</th>\n",
       "      <td>10.0</td>\n",
       "      <td>0.885190</td>\n",
       "      <td>0.906574</td>\n",
       "      <td>0.890827</td>\n",
       "      <td>0.952790</td>\n",
       "      <td>0.971351</td>\n",
       "      <td>0.981127</td>\n",
       "      <td>0.987027</td>\n",
       "      <td>0.992835</td>\n",
       "      <td>0.995104</td>\n",
       "      <td>0.996037</td>\n",
       "    </tr>\n",
       "    <tr>\n",
       "      <th>3</th>\n",
       "      <td>100.0</td>\n",
       "      <td>0.485945</td>\n",
       "      <td>0.532011</td>\n",
       "      <td>0.502031</td>\n",
       "      <td>0.657051</td>\n",
       "      <td>0.756501</td>\n",
       "      <td>0.830539</td>\n",
       "      <td>0.883546</td>\n",
       "      <td>0.941037</td>\n",
       "      <td>0.964516</td>\n",
       "      <td>0.974824</td>\n",
       "    </tr>\n",
       "    <tr>\n",
       "      <th>4</th>\n",
       "      <td>1000.0</td>\n",
       "      <td>0.290087</td>\n",
       "      <td>0.310055</td>\n",
       "      <td>0.297301</td>\n",
       "      <td>0.365716</td>\n",
       "      <td>0.423460</td>\n",
       "      <td>0.487840</td>\n",
       "      <td>0.560257</td>\n",
       "      <td>0.702834</td>\n",
       "      <td>0.805091</td>\n",
       "      <td>0.865070</td>\n",
       "    </tr>\n",
       "    <tr>\n",
       "      <th>5</th>\n",
       "      <td>10000.0</td>\n",
       "      <td>0.162177</td>\n",
       "      <td>0.170945</td>\n",
       "      <td>0.165361</td>\n",
       "      <td>0.196762</td>\n",
       "      <td>0.225302</td>\n",
       "      <td>0.258729</td>\n",
       "      <td>0.298350</td>\n",
       "      <td>0.390773</td>\n",
       "      <td>0.489977</td>\n",
       "      <td>0.583366</td>\n",
       "    </tr>\n",
       "    <tr>\n",
       "      <th>6</th>\n",
       "      <td>100000.0</td>\n",
       "      <td>0.070143</td>\n",
       "      <td>0.073015</td>\n",
       "      <td>0.071212</td>\n",
       "      <td>0.081690</td>\n",
       "      <td>0.091901</td>\n",
       "      <td>0.104787</td>\n",
       "      <td>0.121381</td>\n",
       "      <td>0.165936</td>\n",
       "      <td>0.222612</td>\n",
       "      <td>0.285398</td>\n",
       "    </tr>\n",
       "    <tr>\n",
       "      <th>7</th>\n",
       "      <td>1000000.0</td>\n",
       "      <td>0.000000</td>\n",
       "      <td>0.000000</td>\n",
       "      <td>0.000000</td>\n",
       "      <td>0.000000</td>\n",
       "      <td>0.000000</td>\n",
       "      <td>0.000000</td>\n",
       "      <td>0.000000</td>\n",
       "      <td>0.000000</td>\n",
       "      <td>0.000000</td>\n",
       "      <td>0.000000</td>\n",
       "    </tr>\n",
       "  </tbody>\n",
       "</table>\n",
       "</div>"
      ],
      "text/plain": [
       "           h       0.1       0.9       0.3       5.0      10.0      15.0  \\\n",
       "0        0.1  0.999911  0.999855  0.999884  0.999846  0.999860  0.999877   \n",
       "1        1.0  0.996789  0.996079  0.996258  0.997209  0.997954  0.998454   \n",
       "2       10.0  0.885190  0.906574  0.890827  0.952790  0.971351  0.981127   \n",
       "3      100.0  0.485945  0.532011  0.502031  0.657051  0.756501  0.830539   \n",
       "4     1000.0  0.290087  0.310055  0.297301  0.365716  0.423460  0.487840   \n",
       "5    10000.0  0.162177  0.170945  0.165361  0.196762  0.225302  0.258729   \n",
       "6   100000.0  0.070143  0.073015  0.071212  0.081690  0.091901  0.104787   \n",
       "7  1000000.0  0.000000  0.000000  0.000000  0.000000  0.000000  0.000000   \n",
       "\n",
       "       20.0      30.0      40.0      50.0  \n",
       "0  0.999893  0.999912  0.999916  0.999908  \n",
       "1  0.998809  0.999201  0.999355  0.999394  \n",
       "2  0.987027  0.992835  0.995104  0.996037  \n",
       "3  0.883546  0.941037  0.964516  0.974824  \n",
       "4  0.560257  0.702834  0.805091  0.865070  \n",
       "5  0.298350  0.390773  0.489977  0.583366  \n",
       "6  0.121381  0.165936  0.222612  0.285398  \n",
       "7  0.000000  0.000000  0.000000  0.000000  "
      ]
     },
     "execution_count": 116,
     "metadata": {},
     "output_type": "execute_result"
    }
   ],
   "source": [
    "df_S"
   ]
  },
  {
   "cell_type": "code",
   "execution_count": 117,
   "metadata": {},
   "outputs": [
    {
     "data": {
      "application/vnd.plotly.v1+json": {
       "config": {
        "plotlyServerURL": "https://plot.ly"
       },
       "data": [
        {
         "hovertemplate": "WPI=0.1<br>Succión (kPa)=%{x}<br>Grado de saturación=%{y}<extra></extra>",
         "legendgroup": "0.1",
         "line": {
          "color": "#636efa",
          "dash": "solid"
         },
         "marker": {
          "symbol": "circle"
         },
         "mode": "lines",
         "name": "0.1",
         "orientation": "v",
         "showlegend": true,
         "type": "scatter",
         "x": [
          0.1,
          1,
          10,
          100,
          1000,
          10000,
          100000,
          1000000
         ],
         "xaxis": "x",
         "y": [
          0.9999108643426733,
          0.9967890866219195,
          0.8851897468402793,
          0.4859445197030862,
          0.2900870774816237,
          0.16217683235329952,
          0.07014325094659907,
          0
         ],
         "yaxis": "y"
        },
        {
         "hovertemplate": "WPI=0.9<br>Succión (kPa)=%{x}<br>Grado de saturación=%{y}<extra></extra>",
         "legendgroup": "0.9",
         "line": {
          "color": "#EF553B",
          "dash": "solid"
         },
         "marker": {
          "symbol": "circle"
         },
         "mode": "lines",
         "name": "0.9",
         "orientation": "v",
         "showlegend": true,
         "type": "scatter",
         "x": [
          0.1,
          1,
          10,
          100,
          1000,
          10000,
          100000,
          1000000
         ],
         "xaxis": "x",
         "y": [
          0.999854709111683,
          0.9960790387044294,
          0.9065738364768965,
          0.5320113192133901,
          0.3100552418714057,
          0.17094525212791117,
          0.07301510156190015,
          0
         ],
         "yaxis": "y"
        },
        {
         "hovertemplate": "WPI=0.3<br>Succión (kPa)=%{x}<br>Grado de saturación=%{y}<extra></extra>",
         "legendgroup": "0.3",
         "line": {
          "color": "#00cc96",
          "dash": "solid"
         },
         "marker": {
          "symbol": "circle"
         },
         "mode": "lines",
         "name": "0.3",
         "orientation": "v",
         "showlegend": true,
         "type": "scatter",
         "x": [
          0.1,
          1,
          10,
          100,
          1000,
          10000,
          100000,
          1000000
         ],
         "xaxis": "x",
         "y": [
          0.9998836842019196,
          0.996258237270989,
          0.890826754196941,
          0.5020308658918793,
          0.2973008695361882,
          0.1653612420904644,
          0.07121198300197626,
          0
         ],
         "yaxis": "y"
        },
        {
         "hovertemplate": "WPI=5.0<br>Succión (kPa)=%{x}<br>Grado de saturación=%{y}<extra></extra>",
         "legendgroup": "5.0",
         "line": {
          "color": "#ab63fa",
          "dash": "solid"
         },
         "marker": {
          "symbol": "circle"
         },
         "mode": "lines",
         "name": "5.0",
         "orientation": "v",
         "showlegend": true,
         "type": "scatter",
         "x": [
          0.1,
          1,
          10,
          100,
          1000,
          10000,
          100000,
          1000000
         ],
         "xaxis": "x",
         "y": [
          0.9998464541256574,
          0.9972092106957248,
          0.9527901869730107,
          0.6570513720197361,
          0.3657157651237924,
          0.19676196411090677,
          0.08169004947960572,
          0
         ],
         "yaxis": "y"
        },
        {
         "hovertemplate": "WPI=10.0<br>Succión (kPa)=%{x}<br>Grado de saturación=%{y}<extra></extra>",
         "legendgroup": "10.0",
         "line": {
          "color": "#FFA15A",
          "dash": "solid"
         },
         "marker": {
          "symbol": "circle"
         },
         "mode": "lines",
         "name": "10.0",
         "orientation": "v",
         "showlegend": true,
         "type": "scatter",
         "x": [
          0.1,
          1,
          10,
          100,
          1000,
          10000,
          100000,
          1000000
         ],
         "xaxis": "x",
         "y": [
          0.9998602596303462,
          0.997954011794337,
          0.9713509412958073,
          0.756500628533051,
          0.42346025555550765,
          0.22530159681669007,
          0.09190055862147582,
          0
         ],
         "yaxis": "y"
        },
        {
         "hovertemplate": "WPI=15.0<br>Succión (kPa)=%{x}<br>Grado de saturación=%{y}<extra></extra>",
         "legendgroup": "15.0",
         "line": {
          "color": "#19d3f3",
          "dash": "solid"
         },
         "marker": {
          "symbol": "circle"
         },
         "mode": "lines",
         "name": "15.0",
         "orientation": "v",
         "showlegend": true,
         "type": "scatter",
         "x": [
          0.1,
          1,
          10,
          100,
          1000,
          10000,
          100000,
          1000000
         ],
         "xaxis": "x",
         "y": [
          0.9998770665612424,
          0.9984542209114152,
          0.9811266595661681,
          0.8305386580543777,
          0.4878403795147074,
          0.25872949238348913,
          0.10478652772875649,
          0
         ],
         "yaxis": "y"
        },
        {
         "hovertemplate": "WPI=20.0<br>Succión (kPa)=%{x}<br>Grado de saturación=%{y}<extra></extra>",
         "legendgroup": "20.0",
         "line": {
          "color": "#FF6692",
          "dash": "solid"
         },
         "marker": {
          "symbol": "circle"
         },
         "mode": "lines",
         "name": "20.0",
         "orientation": "v",
         "showlegend": true,
         "type": "scatter",
         "x": [
          0.1,
          1,
          10,
          100,
          1000,
          10000,
          100000,
          1000000
         ],
         "xaxis": "x",
         "y": [
          0.9998927657050272,
          0.9988087371037804,
          0.9870273448396957,
          0.8835457870793921,
          0.5602566923664334,
          0.2983500903856502,
          0.1213807675401525,
          0
         ],
         "yaxis": "y"
        },
        {
         "hovertemplate": "WPI=30.0<br>Succión (kPa)=%{x}<br>Grado de saturación=%{y}<extra></extra>",
         "legendgroup": "30.0",
         "line": {
          "color": "#B6E880",
          "dash": "solid"
         },
         "marker": {
          "symbol": "circle"
         },
         "mode": "lines",
         "name": "30.0",
         "orientation": "v",
         "showlegend": true,
         "type": "scatter",
         "x": [
          0.1,
          1,
          10,
          100,
          1000,
          10000,
          100000,
          1000000
         ],
         "xaxis": "x",
         "y": [
          0.9999118252289658,
          0.9992011222500233,
          0.9928347151765927,
          0.941037053686881,
          0.7028335457989632,
          0.3907732559131098,
          0.16593573072662116,
          0
         ],
         "yaxis": "y"
        },
        {
         "hovertemplate": "WPI=40.0<br>Succión (kPa)=%{x}<br>Grado de saturación=%{y}<extra></extra>",
         "legendgroup": "40.0",
         "line": {
          "color": "#FF97FF",
          "dash": "solid"
         },
         "marker": {
          "symbol": "circle"
         },
         "mode": "lines",
         "name": "40.0",
         "orientation": "v",
         "showlegend": true,
         "type": "scatter",
         "x": [
          0.1,
          1,
          10,
          100,
          1000,
          10000,
          100000,
          1000000
         ],
         "xaxis": "x",
         "y": [
          0.9999155878815013,
          0.9993552519917795,
          0.9951041870763665,
          0.9645157464204022,
          0.8050907068620589,
          0.4899771979729538,
          0.22261162822117872,
          0
         ],
         "yaxis": "y"
        },
        {
         "hovertemplate": "WPI=50.0<br>Succión (kPa)=%{x}<br>Grado de saturación=%{y}<extra></extra>",
         "legendgroup": "50.0",
         "line": {
          "color": "#FECB52",
          "dash": "solid"
         },
         "marker": {
          "symbol": "circle"
         },
         "mode": "lines",
         "name": "50.0",
         "orientation": "v",
         "showlegend": true,
         "type": "scatter",
         "x": [
          0.1,
          1,
          10,
          100,
          1000,
          10000,
          100000,
          1000000
         ],
         "xaxis": "x",
         "y": [
          0.9999078201472925,
          0.9993944084378571,
          0.9960371250546212,
          0.9748239516267597,
          0.8650699850557235,
          0.5833658717085305,
          0.2853976472731857,
          0
         ],
         "yaxis": "y"
        }
       ],
       "layout": {
        "legend": {
         "title": {
          "text": "WPI"
         },
         "tracegroupgap": 0
        },
        "template": {
         "data": {
          "bar": [
           {
            "error_x": {
             "color": "#2a3f5f"
            },
            "error_y": {
             "color": "#2a3f5f"
            },
            "marker": {
             "line": {
              "color": "white",
              "width": 0.5
             },
             "pattern": {
              "fillmode": "overlay",
              "size": 10,
              "solidity": 0.2
             }
            },
            "type": "bar"
           }
          ],
          "barpolar": [
           {
            "marker": {
             "line": {
              "color": "white",
              "width": 0.5
             },
             "pattern": {
              "fillmode": "overlay",
              "size": 10,
              "solidity": 0.2
             }
            },
            "type": "barpolar"
           }
          ],
          "carpet": [
           {
            "aaxis": {
             "endlinecolor": "#2a3f5f",
             "gridcolor": "#C8D4E3",
             "linecolor": "#C8D4E3",
             "minorgridcolor": "#C8D4E3",
             "startlinecolor": "#2a3f5f"
            },
            "baxis": {
             "endlinecolor": "#2a3f5f",
             "gridcolor": "#C8D4E3",
             "linecolor": "#C8D4E3",
             "minorgridcolor": "#C8D4E3",
             "startlinecolor": "#2a3f5f"
            },
            "type": "carpet"
           }
          ],
          "choropleth": [
           {
            "colorbar": {
             "outlinewidth": 0,
             "ticks": ""
            },
            "type": "choropleth"
           }
          ],
          "contour": [
           {
            "colorbar": {
             "outlinewidth": 0,
             "ticks": ""
            },
            "colorscale": [
             [
              0,
              "#0d0887"
             ],
             [
              0.1111111111111111,
              "#46039f"
             ],
             [
              0.2222222222222222,
              "#7201a8"
             ],
             [
              0.3333333333333333,
              "#9c179e"
             ],
             [
              0.4444444444444444,
              "#bd3786"
             ],
             [
              0.5555555555555556,
              "#d8576b"
             ],
             [
              0.6666666666666666,
              "#ed7953"
             ],
             [
              0.7777777777777778,
              "#fb9f3a"
             ],
             [
              0.8888888888888888,
              "#fdca26"
             ],
             [
              1,
              "#f0f921"
             ]
            ],
            "type": "contour"
           }
          ],
          "contourcarpet": [
           {
            "colorbar": {
             "outlinewidth": 0,
             "ticks": ""
            },
            "type": "contourcarpet"
           }
          ],
          "heatmap": [
           {
            "colorbar": {
             "outlinewidth": 0,
             "ticks": ""
            },
            "colorscale": [
             [
              0,
              "#0d0887"
             ],
             [
              0.1111111111111111,
              "#46039f"
             ],
             [
              0.2222222222222222,
              "#7201a8"
             ],
             [
              0.3333333333333333,
              "#9c179e"
             ],
             [
              0.4444444444444444,
              "#bd3786"
             ],
             [
              0.5555555555555556,
              "#d8576b"
             ],
             [
              0.6666666666666666,
              "#ed7953"
             ],
             [
              0.7777777777777778,
              "#fb9f3a"
             ],
             [
              0.8888888888888888,
              "#fdca26"
             ],
             [
              1,
              "#f0f921"
             ]
            ],
            "type": "heatmap"
           }
          ],
          "heatmapgl": [
           {
            "colorbar": {
             "outlinewidth": 0,
             "ticks": ""
            },
            "colorscale": [
             [
              0,
              "#0d0887"
             ],
             [
              0.1111111111111111,
              "#46039f"
             ],
             [
              0.2222222222222222,
              "#7201a8"
             ],
             [
              0.3333333333333333,
              "#9c179e"
             ],
             [
              0.4444444444444444,
              "#bd3786"
             ],
             [
              0.5555555555555556,
              "#d8576b"
             ],
             [
              0.6666666666666666,
              "#ed7953"
             ],
             [
              0.7777777777777778,
              "#fb9f3a"
             ],
             [
              0.8888888888888888,
              "#fdca26"
             ],
             [
              1,
              "#f0f921"
             ]
            ],
            "type": "heatmapgl"
           }
          ],
          "histogram": [
           {
            "marker": {
             "pattern": {
              "fillmode": "overlay",
              "size": 10,
              "solidity": 0.2
             }
            },
            "type": "histogram"
           }
          ],
          "histogram2d": [
           {
            "colorbar": {
             "outlinewidth": 0,
             "ticks": ""
            },
            "colorscale": [
             [
              0,
              "#0d0887"
             ],
             [
              0.1111111111111111,
              "#46039f"
             ],
             [
              0.2222222222222222,
              "#7201a8"
             ],
             [
              0.3333333333333333,
              "#9c179e"
             ],
             [
              0.4444444444444444,
              "#bd3786"
             ],
             [
              0.5555555555555556,
              "#d8576b"
             ],
             [
              0.6666666666666666,
              "#ed7953"
             ],
             [
              0.7777777777777778,
              "#fb9f3a"
             ],
             [
              0.8888888888888888,
              "#fdca26"
             ],
             [
              1,
              "#f0f921"
             ]
            ],
            "type": "histogram2d"
           }
          ],
          "histogram2dcontour": [
           {
            "colorbar": {
             "outlinewidth": 0,
             "ticks": ""
            },
            "colorscale": [
             [
              0,
              "#0d0887"
             ],
             [
              0.1111111111111111,
              "#46039f"
             ],
             [
              0.2222222222222222,
              "#7201a8"
             ],
             [
              0.3333333333333333,
              "#9c179e"
             ],
             [
              0.4444444444444444,
              "#bd3786"
             ],
             [
              0.5555555555555556,
              "#d8576b"
             ],
             [
              0.6666666666666666,
              "#ed7953"
             ],
             [
              0.7777777777777778,
              "#fb9f3a"
             ],
             [
              0.8888888888888888,
              "#fdca26"
             ],
             [
              1,
              "#f0f921"
             ]
            ],
            "type": "histogram2dcontour"
           }
          ],
          "mesh3d": [
           {
            "colorbar": {
             "outlinewidth": 0,
             "ticks": ""
            },
            "type": "mesh3d"
           }
          ],
          "parcoords": [
           {
            "line": {
             "colorbar": {
              "outlinewidth": 0,
              "ticks": ""
             }
            },
            "type": "parcoords"
           }
          ],
          "pie": [
           {
            "automargin": true,
            "type": "pie"
           }
          ],
          "scatter": [
           {
            "fillpattern": {
             "fillmode": "overlay",
             "size": 10,
             "solidity": 0.2
            },
            "type": "scatter"
           }
          ],
          "scatter3d": [
           {
            "line": {
             "colorbar": {
              "outlinewidth": 0,
              "ticks": ""
             }
            },
            "marker": {
             "colorbar": {
              "outlinewidth": 0,
              "ticks": ""
             }
            },
            "type": "scatter3d"
           }
          ],
          "scattercarpet": [
           {
            "marker": {
             "colorbar": {
              "outlinewidth": 0,
              "ticks": ""
             }
            },
            "type": "scattercarpet"
           }
          ],
          "scattergeo": [
           {
            "marker": {
             "colorbar": {
              "outlinewidth": 0,
              "ticks": ""
             }
            },
            "type": "scattergeo"
           }
          ],
          "scattergl": [
           {
            "marker": {
             "colorbar": {
              "outlinewidth": 0,
              "ticks": ""
             }
            },
            "type": "scattergl"
           }
          ],
          "scattermapbox": [
           {
            "marker": {
             "colorbar": {
              "outlinewidth": 0,
              "ticks": ""
             }
            },
            "type": "scattermapbox"
           }
          ],
          "scatterpolar": [
           {
            "marker": {
             "colorbar": {
              "outlinewidth": 0,
              "ticks": ""
             }
            },
            "type": "scatterpolar"
           }
          ],
          "scatterpolargl": [
           {
            "marker": {
             "colorbar": {
              "outlinewidth": 0,
              "ticks": ""
             }
            },
            "type": "scatterpolargl"
           }
          ],
          "scatterternary": [
           {
            "marker": {
             "colorbar": {
              "outlinewidth": 0,
              "ticks": ""
             }
            },
            "type": "scatterternary"
           }
          ],
          "surface": [
           {
            "colorbar": {
             "outlinewidth": 0,
             "ticks": ""
            },
            "colorscale": [
             [
              0,
              "#0d0887"
             ],
             [
              0.1111111111111111,
              "#46039f"
             ],
             [
              0.2222222222222222,
              "#7201a8"
             ],
             [
              0.3333333333333333,
              "#9c179e"
             ],
             [
              0.4444444444444444,
              "#bd3786"
             ],
             [
              0.5555555555555556,
              "#d8576b"
             ],
             [
              0.6666666666666666,
              "#ed7953"
             ],
             [
              0.7777777777777778,
              "#fb9f3a"
             ],
             [
              0.8888888888888888,
              "#fdca26"
             ],
             [
              1,
              "#f0f921"
             ]
            ],
            "type": "surface"
           }
          ],
          "table": [
           {
            "cells": {
             "fill": {
              "color": "#EBF0F8"
             },
             "line": {
              "color": "white"
             }
            },
            "header": {
             "fill": {
              "color": "#C8D4E3"
             },
             "line": {
              "color": "white"
             }
            },
            "type": "table"
           }
          ]
         },
         "layout": {
          "annotationdefaults": {
           "arrowcolor": "#2a3f5f",
           "arrowhead": 0,
           "arrowwidth": 1
          },
          "autotypenumbers": "strict",
          "coloraxis": {
           "colorbar": {
            "outlinewidth": 0,
            "ticks": ""
           }
          },
          "colorscale": {
           "diverging": [
            [
             0,
             "#8e0152"
            ],
            [
             0.1,
             "#c51b7d"
            ],
            [
             0.2,
             "#de77ae"
            ],
            [
             0.3,
             "#f1b6da"
            ],
            [
             0.4,
             "#fde0ef"
            ],
            [
             0.5,
             "#f7f7f7"
            ],
            [
             0.6,
             "#e6f5d0"
            ],
            [
             0.7,
             "#b8e186"
            ],
            [
             0.8,
             "#7fbc41"
            ],
            [
             0.9,
             "#4d9221"
            ],
            [
             1,
             "#276419"
            ]
           ],
           "sequential": [
            [
             0,
             "#0d0887"
            ],
            [
             0.1111111111111111,
             "#46039f"
            ],
            [
             0.2222222222222222,
             "#7201a8"
            ],
            [
             0.3333333333333333,
             "#9c179e"
            ],
            [
             0.4444444444444444,
             "#bd3786"
            ],
            [
             0.5555555555555556,
             "#d8576b"
            ],
            [
             0.6666666666666666,
             "#ed7953"
            ],
            [
             0.7777777777777778,
             "#fb9f3a"
            ],
            [
             0.8888888888888888,
             "#fdca26"
            ],
            [
             1,
             "#f0f921"
            ]
           ],
           "sequentialminus": [
            [
             0,
             "#0d0887"
            ],
            [
             0.1111111111111111,
             "#46039f"
            ],
            [
             0.2222222222222222,
             "#7201a8"
            ],
            [
             0.3333333333333333,
             "#9c179e"
            ],
            [
             0.4444444444444444,
             "#bd3786"
            ],
            [
             0.5555555555555556,
             "#d8576b"
            ],
            [
             0.6666666666666666,
             "#ed7953"
            ],
            [
             0.7777777777777778,
             "#fb9f3a"
            ],
            [
             0.8888888888888888,
             "#fdca26"
            ],
            [
             1,
             "#f0f921"
            ]
           ]
          },
          "colorway": [
           "#636efa",
           "#EF553B",
           "#00cc96",
           "#ab63fa",
           "#FFA15A",
           "#19d3f3",
           "#FF6692",
           "#B6E880",
           "#FF97FF",
           "#FECB52"
          ],
          "font": {
           "color": "#2a3f5f"
          },
          "geo": {
           "bgcolor": "white",
           "lakecolor": "white",
           "landcolor": "white",
           "showlakes": true,
           "showland": true,
           "subunitcolor": "#C8D4E3"
          },
          "hoverlabel": {
           "align": "left"
          },
          "hovermode": "closest",
          "mapbox": {
           "style": "light"
          },
          "paper_bgcolor": "white",
          "plot_bgcolor": "white",
          "polar": {
           "angularaxis": {
            "gridcolor": "#EBF0F8",
            "linecolor": "#EBF0F8",
            "ticks": ""
           },
           "bgcolor": "white",
           "radialaxis": {
            "gridcolor": "#EBF0F8",
            "linecolor": "#EBF0F8",
            "ticks": ""
           }
          },
          "scene": {
           "xaxis": {
            "backgroundcolor": "white",
            "gridcolor": "#DFE8F3",
            "gridwidth": 2,
            "linecolor": "#EBF0F8",
            "showbackground": true,
            "ticks": "",
            "zerolinecolor": "#EBF0F8"
           },
           "yaxis": {
            "backgroundcolor": "white",
            "gridcolor": "#DFE8F3",
            "gridwidth": 2,
            "linecolor": "#EBF0F8",
            "showbackground": true,
            "ticks": "",
            "zerolinecolor": "#EBF0F8"
           },
           "zaxis": {
            "backgroundcolor": "white",
            "gridcolor": "#DFE8F3",
            "gridwidth": 2,
            "linecolor": "#EBF0F8",
            "showbackground": true,
            "ticks": "",
            "zerolinecolor": "#EBF0F8"
           }
          },
          "shapedefaults": {
           "line": {
            "color": "#2a3f5f"
           }
          },
          "ternary": {
           "aaxis": {
            "gridcolor": "#DFE8F3",
            "linecolor": "#A2B1C6",
            "ticks": ""
           },
           "baxis": {
            "gridcolor": "#DFE8F3",
            "linecolor": "#A2B1C6",
            "ticks": ""
           },
           "bgcolor": "white",
           "caxis": {
            "gridcolor": "#DFE8F3",
            "linecolor": "#A2B1C6",
            "ticks": ""
           }
          },
          "title": {
           "x": 0.05
          },
          "xaxis": {
           "automargin": true,
           "gridcolor": "#EBF0F8",
           "linecolor": "#EBF0F8",
           "ticks": "",
           "title": {
            "standoff": 15
           },
           "zerolinecolor": "#EBF0F8",
           "zerolinewidth": 2
          },
          "yaxis": {
           "automargin": true,
           "gridcolor": "#EBF0F8",
           "linecolor": "#EBF0F8",
           "ticks": "",
           "title": {
            "standoff": 15
           },
           "zerolinecolor": "#EBF0F8",
           "zerolinewidth": 2
          }
         }
        },
        "title": {
         "text": "Grado de Saturación vs Succión (kPa)"
        },
        "xaxis": {
         "anchor": "y",
         "domain": [
          0,
          1
         ],
         "title": {
          "text": "Succión (kPa)"
         },
         "type": "log"
        },
        "yaxis": {
         "anchor": "x",
         "domain": [
          0,
          1
         ],
         "title": {
          "text": "Grado de saturación"
         }
        }
       }
      }
     },
     "metadata": {},
     "output_type": "display_data"
    }
   ],
   "source": [
    "# Aquí se genera un DataFrame largo, con columnas 'Succión (kPa)', 'Grado de saturación', y 'WPI'\n",
    "df_long = df_S.melt(id_vars=['h'], \n",
    "                    var_name='WPI', \n",
    "                    value_name='Grado de saturación')\n",
    "\n",
    "# Cambiar nombre de la columna 'h' a 'Succión (kPa)'\n",
    "df_long.rename(columns={'h': 'Succión (kPa)'}, inplace=True)\n",
    "\n",
    "# Crear gráfico\n",
    "fig = px.line(\n",
    "    df_long,\n",
    "    x=\"Succión (kPa)\",\n",
    "    y=\"Grado de saturación\",\n",
    "    color=\"WPI\",\n",
    "    log_x=True,  # Eje x logarítmico para succión\n",
    "    title=\"Grado de Saturación vs Succión (kPa)\"\n",
    ")\n",
    "\n",
    "# Personalizar el gráfico\n",
    "fig.update_layout(\n",
    "    xaxis_title=\"Succión (kPa)\",\n",
    "    yaxis_title=\"Grado de saturación\",\n",
    "    legend_title=\"WPI\",\n",
    "    template=\"plotly_white\"\n",
    ")\n",
    "\n",
    "# Mostrar el gráfico\n",
    "fig.show()"
   ]
  },
  {
   "cell_type": "markdown",
   "metadata": {},
   "source": [
    "# Calculo D60"
   ]
  },
  {
   "cell_type": "code",
   "execution_count": 118,
   "metadata": {},
   "outputs": [],
   "source": [
    "#tABLA WPI d60\n",
    "df_D60 = pd.DataFrame(\n",
    "    {\n",
    "        \"D60\": [\n",
    "            0.1,\n",
    "            0.2,\n",
    "            0.3,\n",
    "            0.4,\n",
    "            0.5,\n",
    "            0.6,\n",
    "            0.7,\n",
    "            0.8,\n",
    "            0.9,\n",
    "            1,\n",
    "        ]\n",
    "    }\n",
    ")"
   ]
  },
  {
   "cell_type": "code",
   "execution_count": 119,
   "metadata": {},
   "outputs": [],
   "source": [
    "df_D60[\"a\"] = 0.8627 * df_D60[\"D60\"] ** -0.751"
   ]
  },
  {
   "cell_type": "code",
   "execution_count": 120,
   "metadata": {},
   "outputs": [],
   "source": [
    "df_D60[\"b\"] = 7.5"
   ]
  },
  {
   "cell_type": "code",
   "execution_count": 121,
   "metadata": {},
   "outputs": [],
   "source": [
    "df_D60[\"c\"] = 0.1772 * np.log(df_D60[\"D60\"]) + 0.7734"
   ]
  },
  {
   "cell_type": "code",
   "execution_count": 122,
   "metadata": {},
   "outputs": [
    {
     "data": {
      "text/html": [
       "<div>\n",
       "<style scoped>\n",
       "    .dataframe tbody tr th:only-of-type {\n",
       "        vertical-align: middle;\n",
       "    }\n",
       "\n",
       "    .dataframe tbody tr th {\n",
       "        vertical-align: top;\n",
       "    }\n",
       "\n",
       "    .dataframe thead th {\n",
       "        text-align: right;\n",
       "    }\n",
       "</style>\n",
       "<table border=\"1\" class=\"dataframe\">\n",
       "  <thead>\n",
       "    <tr style=\"text-align: right;\">\n",
       "      <th></th>\n",
       "      <th>D60</th>\n",
       "      <th>a</th>\n",
       "      <th>b</th>\n",
       "      <th>c</th>\n",
       "      <th>hr</th>\n",
       "    </tr>\n",
       "  </thead>\n",
       "  <tbody>\n",
       "    <tr>\n",
       "      <th>0</th>\n",
       "      <td>0.1</td>\n",
       "      <td>4.862502</td>\n",
       "      <td>7.5</td>\n",
       "      <td>0.365382</td>\n",
       "      <td>48.157889</td>\n",
       "    </tr>\n",
       "    <tr>\n",
       "      <th>1</th>\n",
       "      <td>0.2</td>\n",
       "      <td>2.889258</td>\n",
       "      <td>7.5</td>\n",
       "      <td>0.488208</td>\n",
       "      <td>14.376562</td>\n",
       "    </tr>\n",
       "    <tr>\n",
       "      <th>2</th>\n",
       "      <td>0.3</td>\n",
       "      <td>2.130795</td>\n",
       "      <td>7.5</td>\n",
       "      <td>0.560056</td>\n",
       "      <td>7.079760</td>\n",
       "    </tr>\n",
       "    <tr>\n",
       "      <th>3</th>\n",
       "      <td>0.4</td>\n",
       "      <td>1.716772</td>\n",
       "      <td>7.5</td>\n",
       "      <td>0.611033</td>\n",
       "      <td>4.281548</td>\n",
       "    </tr>\n",
       "    <tr>\n",
       "      <th>4</th>\n",
       "      <td>0.5</td>\n",
       "      <td>1.451889</td>\n",
       "      <td>7.5</td>\n",
       "      <td>0.650574</td>\n",
       "      <td>2.898155</td>\n",
       "    </tr>\n",
       "    <tr>\n",
       "      <th>5</th>\n",
       "      <td>0.6</td>\n",
       "      <td>1.266101</td>\n",
       "      <td>7.5</td>\n",
       "      <td>0.682882</td>\n",
       "      <td>2.106762</td>\n",
       "    </tr>\n",
       "    <tr>\n",
       "      <th>6</th>\n",
       "      <td>0.7</td>\n",
       "      <td>1.127694</td>\n",
       "      <td>7.5</td>\n",
       "      <td>0.710197</td>\n",
       "      <td>1.608762</td>\n",
       "    </tr>\n",
       "    <tr>\n",
       "      <th>7</th>\n",
       "      <td>0.8</td>\n",
       "      <td>1.020092</td>\n",
       "      <td>7.5</td>\n",
       "      <td>0.733859</td>\n",
       "      <td>1.273570</td>\n",
       "    </tr>\n",
       "    <tr>\n",
       "      <th>8</th>\n",
       "      <td>0.9</td>\n",
       "      <td>0.933735</td>\n",
       "      <td>7.5</td>\n",
       "      <td>0.754730</td>\n",
       "      <td>1.036366</td>\n",
       "    </tr>\n",
       "    <tr>\n",
       "      <th>9</th>\n",
       "      <td>1.0</td>\n",
       "      <td>0.862700</td>\n",
       "      <td>7.5</td>\n",
       "      <td>0.773400</td>\n",
       "      <td>0.861864</td>\n",
       "    </tr>\n",
       "  </tbody>\n",
       "</table>\n",
       "</div>"
      ],
      "text/plain": [
       "   D60         a    b         c         hr\n",
       "0  0.1  4.862502  7.5  0.365382  48.157889\n",
       "1  0.2  2.889258  7.5  0.488208  14.376562\n",
       "2  0.3  2.130795  7.5  0.560056   7.079760\n",
       "3  0.4  1.716772  7.5  0.611033   4.281548\n",
       "4  0.5  1.451889  7.5  0.650574   2.898155\n",
       "5  0.6  1.266101  7.5  0.682882   2.106762\n",
       "6  0.7  1.127694  7.5  0.710197   1.608762\n",
       "7  0.8  1.020092  7.5  0.733859   1.273570\n",
       "8  0.9  0.933735  7.5  0.754730   1.036366\n",
       "9  1.0  0.862700  7.5  0.773400   0.861864"
      ]
     },
     "execution_count": 122,
     "metadata": {},
     "output_type": "execute_result"
    }
   ],
   "source": [
    "# Hr-d60\n",
    "\n",
    "df_D60[\"hr\"] = df_D60[\"a\"] / (df_D60[\"D60\"] + 0.00097)\n",
    "df_D60"
   ]
  },
  {
   "cell_type": "markdown",
   "metadata": {},
   "source": [
    "# TABLA CH -D60"
   ]
  },
  {
   "cell_type": "code",
   "execution_count": 123,
   "metadata": {},
   "outputs": [],
   "source": [
    "df_CH_D60 = pd.DataFrame(\n",
    "    {\n",
    "        \"h\": [\n",
    "            0.1,\n",
    "            0.2,\n",
    "            0.3,\n",
    "            0.4,\n",
    "            0.5,\n",
    "            0.6,\n",
    "            0.7,\n",
    "            0.8,\n",
    "            0.9,\n",
    "            1,\n",
    "            10,\n",
    "            100,\n",
    "            1000,\n",
    "            10000,\n",
    "            100000,\n",
    "            1000000,\n",
    "        ]\n",
    "    }\n",
    ")"
   ]
  },
  {
   "cell_type": "code",
   "execution_count": 135,
   "metadata": {},
   "outputs": [
    {
     "data": {
      "text/html": [
       "<div>\n",
       "<style scoped>\n",
       "    .dataframe tbody tr th:only-of-type {\n",
       "        vertical-align: middle;\n",
       "    }\n",
       "\n",
       "    .dataframe tbody tr th {\n",
       "        vertical-align: top;\n",
       "    }\n",
       "\n",
       "    .dataframe thead th {\n",
       "        text-align: right;\n",
       "    }\n",
       "</style>\n",
       "<table border=\"1\" class=\"dataframe\">\n",
       "  <thead>\n",
       "    <tr style=\"text-align: right;\">\n",
       "      <th></th>\n",
       "      <th>D60</th>\n",
       "      <th>a</th>\n",
       "      <th>b</th>\n",
       "      <th>c</th>\n",
       "      <th>hr</th>\n",
       "    </tr>\n",
       "  </thead>\n",
       "  <tbody>\n",
       "    <tr>\n",
       "      <th>0</th>\n",
       "      <td>0.1</td>\n",
       "      <td>4.862502</td>\n",
       "      <td>7.5</td>\n",
       "      <td>0.365382</td>\n",
       "      <td>48.157889</td>\n",
       "    </tr>\n",
       "    <tr>\n",
       "      <th>1</th>\n",
       "      <td>0.2</td>\n",
       "      <td>2.889258</td>\n",
       "      <td>7.5</td>\n",
       "      <td>0.488208</td>\n",
       "      <td>14.376562</td>\n",
       "    </tr>\n",
       "    <tr>\n",
       "      <th>2</th>\n",
       "      <td>0.3</td>\n",
       "      <td>2.130795</td>\n",
       "      <td>7.5</td>\n",
       "      <td>0.560056</td>\n",
       "      <td>7.079760</td>\n",
       "    </tr>\n",
       "    <tr>\n",
       "      <th>3</th>\n",
       "      <td>0.4</td>\n",
       "      <td>1.716772</td>\n",
       "      <td>7.5</td>\n",
       "      <td>0.611033</td>\n",
       "      <td>4.281548</td>\n",
       "    </tr>\n",
       "    <tr>\n",
       "      <th>4</th>\n",
       "      <td>0.5</td>\n",
       "      <td>1.451889</td>\n",
       "      <td>7.5</td>\n",
       "      <td>0.650574</td>\n",
       "      <td>2.898155</td>\n",
       "    </tr>\n",
       "    <tr>\n",
       "      <th>5</th>\n",
       "      <td>0.6</td>\n",
       "      <td>1.266101</td>\n",
       "      <td>7.5</td>\n",
       "      <td>0.682882</td>\n",
       "      <td>2.106762</td>\n",
       "    </tr>\n",
       "    <tr>\n",
       "      <th>6</th>\n",
       "      <td>0.7</td>\n",
       "      <td>1.127694</td>\n",
       "      <td>7.5</td>\n",
       "      <td>0.710197</td>\n",
       "      <td>1.608762</td>\n",
       "    </tr>\n",
       "    <tr>\n",
       "      <th>7</th>\n",
       "      <td>0.8</td>\n",
       "      <td>1.020092</td>\n",
       "      <td>7.5</td>\n",
       "      <td>0.733859</td>\n",
       "      <td>1.273570</td>\n",
       "    </tr>\n",
       "    <tr>\n",
       "      <th>8</th>\n",
       "      <td>0.9</td>\n",
       "      <td>0.933735</td>\n",
       "      <td>7.5</td>\n",
       "      <td>0.754730</td>\n",
       "      <td>1.036366</td>\n",
       "    </tr>\n",
       "    <tr>\n",
       "      <th>9</th>\n",
       "      <td>1.0</td>\n",
       "      <td>0.862700</td>\n",
       "      <td>7.5</td>\n",
       "      <td>0.773400</td>\n",
       "      <td>0.861864</td>\n",
       "    </tr>\n",
       "  </tbody>\n",
       "</table>\n",
       "</div>"
      ],
      "text/plain": [
       "   D60         a    b         c         hr\n",
       "0  0.1  4.862502  7.5  0.365382  48.157889\n",
       "1  0.2  2.889258  7.5  0.488208  14.376562\n",
       "2  0.3  2.130795  7.5  0.560056   7.079760\n",
       "3  0.4  1.716772  7.5  0.611033   4.281548\n",
       "4  0.5  1.451889  7.5  0.650574   2.898155\n",
       "5  0.6  1.266101  7.5  0.682882   2.106762\n",
       "6  0.7  1.127694  7.5  0.710197   1.608762\n",
       "7  0.8  1.020092  7.5  0.733859   1.273570\n",
       "8  0.9  0.933735  7.5  0.754730   1.036366\n",
       "9  1.0  0.862700  7.5  0.773400   0.861864"
      ]
     },
     "execution_count": 135,
     "metadata": {},
     "output_type": "execute_result"
    }
   ],
   "source": [
    "df_D60"
   ]
  },
  {
   "cell_type": "code",
   "execution_count": 138,
   "metadata": {},
   "outputs": [
    {
     "data": {
      "text/plain": [
       "np.float64(2.106761708035408)"
      ]
     },
     "execution_count": 138,
     "metadata": {},
     "output_type": "execute_result"
    }
   ],
   "source": [
    "df_D60.loc[5][\"hr\"]"
   ]
  },
  {
   "cell_type": "code",
   "execution_count": 128,
   "metadata": {},
   "outputs": [
    {
     "name": "stdout",
     "output_type": "stream",
     "text": [
      "h_0.1\n",
      "h_0.2\n",
      "h_0.3\n",
      "h_0.4\n",
      "h_0.5\n",
      "h_0.6\n",
      "h_0.7\n",
      "h_0.8\n",
      "h_0.9\n",
      "h_1.0\n",
      "h_10.0\n",
      "h_100.0\n",
      "h_1000.0\n",
      "h_10000.0\n",
      "h_100000.0\n",
      "h_1000000.0\n"
     ]
    }
   ],
   "source": [
    "for index, row in df_CH_D60.iterrows():\n",
    "    print(f\"h_{row['h']}\")"
   ]
  },
  {
   "cell_type": "code",
   "execution_count": 139,
   "metadata": {},
   "outputs": [
    {
     "ename": "KeyError",
     "evalue": "'hr'",
     "output_type": "error",
     "traceback": [
      "\u001b[1;31m---------------------------------------------------------------------------\u001b[0m",
      "\u001b[1;31mKeyError\u001b[0m                                  Traceback (most recent call last)",
      "File \u001b[1;32mc:\\Users\\javie\\OneDrive\\Documentos\\INVIAS\\Desarrollo\\TMI_Calculos\\env\\Lib\\site-packages\\pandas\\core\\indexes\\base.py:3805\u001b[0m, in \u001b[0;36mIndex.get_loc\u001b[1;34m(self, key)\u001b[0m\n\u001b[0;32m   3804\u001b[0m \u001b[38;5;28;01mtry\u001b[39;00m:\n\u001b[1;32m-> 3805\u001b[0m     \u001b[38;5;28;01mreturn\u001b[39;00m \u001b[38;5;28;43mself\u001b[39;49m\u001b[38;5;241;43m.\u001b[39;49m\u001b[43m_engine\u001b[49m\u001b[38;5;241;43m.\u001b[39;49m\u001b[43mget_loc\u001b[49m\u001b[43m(\u001b[49m\u001b[43mcasted_key\u001b[49m\u001b[43m)\u001b[49m\n\u001b[0;32m   3806\u001b[0m \u001b[38;5;28;01mexcept\u001b[39;00m \u001b[38;5;167;01mKeyError\u001b[39;00m \u001b[38;5;28;01mas\u001b[39;00m err:\n",
      "File \u001b[1;32mindex.pyx:167\u001b[0m, in \u001b[0;36mpandas._libs.index.IndexEngine.get_loc\u001b[1;34m()\u001b[0m\n",
      "File \u001b[1;32mindex.pyx:196\u001b[0m, in \u001b[0;36mpandas._libs.index.IndexEngine.get_loc\u001b[1;34m()\u001b[0m\n",
      "File \u001b[1;32mpandas\\\\_libs\\\\hashtable_class_helper.pxi:7081\u001b[0m, in \u001b[0;36mpandas._libs.hashtable.PyObjectHashTable.get_item\u001b[1;34m()\u001b[0m\n",
      "File \u001b[1;32mpandas\\\\_libs\\\\hashtable_class_helper.pxi:7089\u001b[0m, in \u001b[0;36mpandas._libs.hashtable.PyObjectHashTable.get_item\u001b[1;34m()\u001b[0m\n",
      "\u001b[1;31mKeyError\u001b[0m: 'hr'",
      "\nThe above exception was the direct cause of the following exception:\n",
      "\u001b[1;31mKeyError\u001b[0m                                  Traceback (most recent call last)",
      "Cell \u001b[1;32mIn[139], line 3\u001b[0m\n\u001b[0;32m      1\u001b[0m \u001b[38;5;66;03m# Crear la tabla C(h) usando los valores de hr en df_d60 y los valores de h en df_CH\u001b[39;00m\n\u001b[0;32m      2\u001b[0m \u001b[38;5;28;01mfor\u001b[39;00m index, row \u001b[38;5;129;01min\u001b[39;00m df_CH_D60\u001b[38;5;241m.\u001b[39miterrows():\n\u001b[1;32m----> 3\u001b[0m     df_CH_D60[\u001b[38;5;124mf\u001b[39m\u001b[38;5;124m\"\u001b[39m\u001b[38;5;124mC(h)_\u001b[39m\u001b[38;5;132;01m{\u001b[39;00mrow[\u001b[38;5;124m'\u001b[39m\u001b[38;5;124mD60\u001b[39m\u001b[38;5;124m'\u001b[39m]\u001b[38;5;132;01m}\u001b[39;00m\u001b[38;5;124m\"\u001b[39m] \u001b[38;5;241m=\u001b[39m df_CH_D60[\u001b[38;5;124m\"\u001b[39m\u001b[38;5;124mh\u001b[39m\u001b[38;5;124m\"\u001b[39m]\u001b[38;5;241m.\u001b[39mapply(\u001b[38;5;28;01mlambda\u001b[39;00m h, hr_value \u001b[38;5;241m=\u001b[39m \u001b[43mrow\u001b[49m\u001b[43m[\u001b[49m\u001b[38;5;124;43m\"\u001b[39;49m\u001b[38;5;124;43mhr\u001b[39;49m\u001b[38;5;124;43m\"\u001b[39;49m\u001b[43m]\u001b[49m: \u001b[38;5;241m1\u001b[39m \u001b[38;5;241m-\u001b[39m np\u001b[38;5;241m.\u001b[39mlog(\u001b[38;5;241m1\u001b[39m \u001b[38;5;241m+\u001b[39m df[\u001b[38;5;124m'\u001b[39m\u001b[38;5;124mQ10\u001b[39m\u001b[38;5;124m'\u001b[39m] \u001b[38;5;241m/\u001b[39m R7) \u001b[38;5;241m/\u001b[39m np\u001b[38;5;241m.\u001b[39mlog(\u001b[38;5;241m1\u001b[39m \u001b[38;5;241m+\u001b[39m \u001b[38;5;241m1000000\u001b[39m \u001b[38;5;241m/\u001b[39m R7))\n",
      "File \u001b[1;32mc:\\Users\\javie\\OneDrive\\Documentos\\INVIAS\\Desarrollo\\TMI_Calculos\\env\\Lib\\site-packages\\pandas\\core\\series.py:1121\u001b[0m, in \u001b[0;36mSeries.__getitem__\u001b[1;34m(self, key)\u001b[0m\n\u001b[0;32m   1118\u001b[0m     \u001b[38;5;28;01mreturn\u001b[39;00m \u001b[38;5;28mself\u001b[39m\u001b[38;5;241m.\u001b[39m_values[key]\n\u001b[0;32m   1120\u001b[0m \u001b[38;5;28;01melif\u001b[39;00m key_is_scalar:\n\u001b[1;32m-> 1121\u001b[0m     \u001b[38;5;28;01mreturn\u001b[39;00m \u001b[38;5;28;43mself\u001b[39;49m\u001b[38;5;241;43m.\u001b[39;49m\u001b[43m_get_value\u001b[49m\u001b[43m(\u001b[49m\u001b[43mkey\u001b[49m\u001b[43m)\u001b[49m\n\u001b[0;32m   1123\u001b[0m \u001b[38;5;66;03m# Convert generator to list before going through hashable part\u001b[39;00m\n\u001b[0;32m   1124\u001b[0m \u001b[38;5;66;03m# (We will iterate through the generator there to check for slices)\u001b[39;00m\n\u001b[0;32m   1125\u001b[0m \u001b[38;5;28;01mif\u001b[39;00m is_iterator(key):\n",
      "File \u001b[1;32mc:\\Users\\javie\\OneDrive\\Documentos\\INVIAS\\Desarrollo\\TMI_Calculos\\env\\Lib\\site-packages\\pandas\\core\\series.py:1237\u001b[0m, in \u001b[0;36mSeries._get_value\u001b[1;34m(self, label, takeable)\u001b[0m\n\u001b[0;32m   1234\u001b[0m     \u001b[38;5;28;01mreturn\u001b[39;00m \u001b[38;5;28mself\u001b[39m\u001b[38;5;241m.\u001b[39m_values[label]\n\u001b[0;32m   1236\u001b[0m \u001b[38;5;66;03m# Similar to Index.get_value, but we do not fall back to positional\u001b[39;00m\n\u001b[1;32m-> 1237\u001b[0m loc \u001b[38;5;241m=\u001b[39m \u001b[38;5;28;43mself\u001b[39;49m\u001b[38;5;241;43m.\u001b[39;49m\u001b[43mindex\u001b[49m\u001b[38;5;241;43m.\u001b[39;49m\u001b[43mget_loc\u001b[49m\u001b[43m(\u001b[49m\u001b[43mlabel\u001b[49m\u001b[43m)\u001b[49m\n\u001b[0;32m   1239\u001b[0m \u001b[38;5;28;01mif\u001b[39;00m is_integer(loc):\n\u001b[0;32m   1240\u001b[0m     \u001b[38;5;28;01mreturn\u001b[39;00m \u001b[38;5;28mself\u001b[39m\u001b[38;5;241m.\u001b[39m_values[loc]\n",
      "File \u001b[1;32mc:\\Users\\javie\\OneDrive\\Documentos\\INVIAS\\Desarrollo\\TMI_Calculos\\env\\Lib\\site-packages\\pandas\\core\\indexes\\base.py:3812\u001b[0m, in \u001b[0;36mIndex.get_loc\u001b[1;34m(self, key)\u001b[0m\n\u001b[0;32m   3807\u001b[0m     \u001b[38;5;28;01mif\u001b[39;00m \u001b[38;5;28misinstance\u001b[39m(casted_key, \u001b[38;5;28mslice\u001b[39m) \u001b[38;5;129;01mor\u001b[39;00m (\n\u001b[0;32m   3808\u001b[0m         \u001b[38;5;28misinstance\u001b[39m(casted_key, abc\u001b[38;5;241m.\u001b[39mIterable)\n\u001b[0;32m   3809\u001b[0m         \u001b[38;5;129;01mand\u001b[39;00m \u001b[38;5;28many\u001b[39m(\u001b[38;5;28misinstance\u001b[39m(x, \u001b[38;5;28mslice\u001b[39m) \u001b[38;5;28;01mfor\u001b[39;00m x \u001b[38;5;129;01min\u001b[39;00m casted_key)\n\u001b[0;32m   3810\u001b[0m     ):\n\u001b[0;32m   3811\u001b[0m         \u001b[38;5;28;01mraise\u001b[39;00m InvalidIndexError(key)\n\u001b[1;32m-> 3812\u001b[0m     \u001b[38;5;28;01mraise\u001b[39;00m \u001b[38;5;167;01mKeyError\u001b[39;00m(key) \u001b[38;5;28;01mfrom\u001b[39;00m \u001b[38;5;21;01merr\u001b[39;00m\n\u001b[0;32m   3813\u001b[0m \u001b[38;5;28;01mexcept\u001b[39;00m \u001b[38;5;167;01mTypeError\u001b[39;00m:\n\u001b[0;32m   3814\u001b[0m     \u001b[38;5;66;03m# If we have a listlike key, _check_indexing_error will raise\u001b[39;00m\n\u001b[0;32m   3815\u001b[0m     \u001b[38;5;66;03m#  InvalidIndexError. Otherwise we fall through and re-raise\u001b[39;00m\n\u001b[0;32m   3816\u001b[0m     \u001b[38;5;66;03m#  the TypeError.\u001b[39;00m\n\u001b[0;32m   3817\u001b[0m     \u001b[38;5;28mself\u001b[39m\u001b[38;5;241m.\u001b[39m_check_indexing_error(key)\n",
      "\u001b[1;31mKeyError\u001b[0m: 'hr'"
     ]
    }
   ],
   "source": [
    "# Crear la tabla C(h) usando los valores de hr en df_d60 y los valores de h en df_CH\n",
    "for index, row in df_CH_D60.iterrows():\n",
    "    df_CH_D60[f\"C(h)_{row['D60']}\"] = df_CH_D60[\"h\"].apply(lambda h, hr_value = row[\"hr\"]: 1 - np.log(1 + df['Q10'] / R7) / np.log(1 + 1000000 / R7))"
   ]
  },
  {
   "cell_type": "code",
   "execution_count": null,
   "metadata": {},
   "outputs": [
    {
     "data": {
      "text/html": [
       "<div>\n",
       "<style scoped>\n",
       "    .dataframe tbody tr th:only-of-type {\n",
       "        vertical-align: middle;\n",
       "    }\n",
       "\n",
       "    .dataframe tbody tr th {\n",
       "        vertical-align: top;\n",
       "    }\n",
       "\n",
       "    .dataframe thead th {\n",
       "        text-align: right;\n",
       "    }\n",
       "</style>\n",
       "<table border=\"1\" class=\"dataframe\">\n",
       "  <thead>\n",
       "    <tr style=\"text-align: right;\">\n",
       "      <th></th>\n",
       "      <th>D60</th>\n",
       "      <th>a</th>\n",
       "      <th>b</th>\n",
       "      <th>c</th>\n",
       "      <th>hr</th>\n",
       "    </tr>\n",
       "  </thead>\n",
       "  <tbody>\n",
       "    <tr>\n",
       "      <th>0</th>\n",
       "      <td>0.1</td>\n",
       "      <td>4.862502</td>\n",
       "      <td>7.5</td>\n",
       "      <td>0.365382</td>\n",
       "      <td>48.157889</td>\n",
       "    </tr>\n",
       "    <tr>\n",
       "      <th>1</th>\n",
       "      <td>0.2</td>\n",
       "      <td>2.889258</td>\n",
       "      <td>7.5</td>\n",
       "      <td>0.488208</td>\n",
       "      <td>14.376562</td>\n",
       "    </tr>\n",
       "    <tr>\n",
       "      <th>2</th>\n",
       "      <td>0.3</td>\n",
       "      <td>2.130795</td>\n",
       "      <td>7.5</td>\n",
       "      <td>0.560056</td>\n",
       "      <td>7.079760</td>\n",
       "    </tr>\n",
       "    <tr>\n",
       "      <th>3</th>\n",
       "      <td>0.4</td>\n",
       "      <td>1.716772</td>\n",
       "      <td>7.5</td>\n",
       "      <td>0.611033</td>\n",
       "      <td>4.281548</td>\n",
       "    </tr>\n",
       "    <tr>\n",
       "      <th>4</th>\n",
       "      <td>0.5</td>\n",
       "      <td>1.451889</td>\n",
       "      <td>7.5</td>\n",
       "      <td>0.650574</td>\n",
       "      <td>2.898155</td>\n",
       "    </tr>\n",
       "    <tr>\n",
       "      <th>5</th>\n",
       "      <td>0.6</td>\n",
       "      <td>1.266101</td>\n",
       "      <td>7.5</td>\n",
       "      <td>0.682882</td>\n",
       "      <td>2.106762</td>\n",
       "    </tr>\n",
       "    <tr>\n",
       "      <th>6</th>\n",
       "      <td>0.7</td>\n",
       "      <td>1.127694</td>\n",
       "      <td>7.5</td>\n",
       "      <td>0.710197</td>\n",
       "      <td>1.608762</td>\n",
       "    </tr>\n",
       "    <tr>\n",
       "      <th>7</th>\n",
       "      <td>0.8</td>\n",
       "      <td>1.020092</td>\n",
       "      <td>7.5</td>\n",
       "      <td>0.733859</td>\n",
       "      <td>1.273570</td>\n",
       "    </tr>\n",
       "    <tr>\n",
       "      <th>8</th>\n",
       "      <td>0.9</td>\n",
       "      <td>0.933735</td>\n",
       "      <td>7.5</td>\n",
       "      <td>0.754730</td>\n",
       "      <td>1.036366</td>\n",
       "    </tr>\n",
       "    <tr>\n",
       "      <th>9</th>\n",
       "      <td>1.0</td>\n",
       "      <td>0.862700</td>\n",
       "      <td>7.5</td>\n",
       "      <td>0.773400</td>\n",
       "      <td>0.861864</td>\n",
       "    </tr>\n",
       "  </tbody>\n",
       "</table>\n",
       "</div>"
      ],
      "text/plain": [
       "   D60         a    b         c         hr\n",
       "0  0.1  4.862502  7.5  0.365382  48.157889\n",
       "1  0.2  2.889258  7.5  0.488208  14.376562\n",
       "2  0.3  2.130795  7.5  0.560056   7.079760\n",
       "3  0.4  1.716772  7.5  0.611033   4.281548\n",
       "4  0.5  1.451889  7.5  0.650574   2.898155\n",
       "5  0.6  1.266101  7.5  0.682882   2.106762\n",
       "6  0.7  1.127694  7.5  0.710197   1.608762\n",
       "7  0.8  1.020092  7.5  0.733859   1.273570\n",
       "8  0.9  0.933735  7.5  0.754730   1.036366\n",
       "9  1.0  0.862700  7.5  0.773400   0.861864"
      ]
     },
     "execution_count": 61,
     "metadata": {},
     "output_type": "execute_result"
    }
   ],
   "source": [
    "df_D60"
   ]
  }
 ],
 "metadata": {
  "kernelspec": {
   "display_name": "env",
   "language": "python",
   "name": "python3"
  },
  "language_info": {
   "codemirror_mode": {
    "name": "ipython",
    "version": 3
   },
   "file_extension": ".py",
   "mimetype": "text/x-python",
   "name": "python",
   "nbconvert_exporter": "python",
   "pygments_lexer": "ipython3",
   "version": "3.11.9"
  }
 },
 "nbformat": 4,
 "nbformat_minor": 2
}
